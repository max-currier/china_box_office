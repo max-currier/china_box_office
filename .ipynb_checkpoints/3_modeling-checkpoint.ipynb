{
 "cells": [
  {
   "cell_type": "markdown",
   "metadata": {},
   "source": [
    "# Project 2\n",
    "## Modeling\n",
    "### MVP "
   ]
  },
  {
   "cell_type": "code",
   "execution_count": 1,
   "metadata": {},
   "outputs": [],
   "source": [
    "# necessary imports\n",
    "\n",
    "import pandas as pd\n",
    "import numpy as np\n",
    "import seaborn as sns\n",
    "import matplotlib.pyplot as plt\n",
    "\n",
    "from sklearn.linear_model import Lasso, Ridge, ElasticNet, LinearRegression\n",
    "\n",
    "from sklearn.model_selection import (cross_val_score, cross_validate, train_test_split, KFold, GridSearchCV)\n",
    "\n",
    "from sklearn.linear_model import LinearRegression, Ridge, RidgeCV, Lasso, LassoCV       #ordinary linear regression + w/ ridge'lasso regularization\n",
    "from sklearn.preprocessing import StandardScaler, PolynomialFeatures\n"
   ]
  },
  {
   "cell_type": "code",
   "execution_count": 2,
   "metadata": {},
   "outputs": [
    {
     "data": {
      "text/plain": [
       "'/Users/max/Python/Metis_Notebooks/project_2'"
      ]
     },
     "execution_count": 2,
     "metadata": {},
     "output_type": "execute_result"
    }
   ],
   "source": [
    "%pwd"
   ]
  },
  {
   "cell_type": "code",
   "execution_count": 3,
   "metadata": {},
   "outputs": [],
   "source": [
    "mvp_df = pd.read_csv('mvp_df.csv')"
   ]
  },
  {
   "cell_type": "code",
   "execution_count": null,
   "metadata": {},
   "outputs": [],
   "source": []
  },
  {
   "cell_type": "code",
   "execution_count": 4,
   "metadata": {},
   "outputs": [
    {
     "name": "stdout",
     "output_type": "stream",
     "text": [
      "<class 'pandas.core.frame.DataFrame'>\n",
      "RangeIndex: 419 entries, 0 to 418\n",
      "Data columns (total 5 columns):\n",
      " #   Column                  Non-Null Count  Dtype  \n",
      "---  ------                  --------------  -----  \n",
      " 0   china_total_gross       419 non-null    float64\n",
      " 1   budget                  419 non-null    float64\n",
      " 2   running_time            419 non-null    float64\n",
      " 3   release_order_CN_first  419 non-null    int64  \n",
      " 4   star_power_sum          419 non-null    int64  \n",
      "dtypes: float64(3), int64(2)\n",
      "memory usage: 16.5 KB\n"
     ]
    }
   ],
   "source": [
    "# imputed nans in budget, release_date_diff and running_time\n",
    "\n",
    "mvp_df.info()"
   ]
  },
  {
   "cell_type": "code",
   "execution_count": 5,
   "metadata": {},
   "outputs": [],
   "source": [
    "# establishing features and target\n",
    "\n",
    "X, y = mvp_df.drop('china_total_gross',axis=1), mvp_df['china_total_gross']"
   ]
  },
  {
   "cell_type": "code",
   "execution_count": 6,
   "metadata": {},
   "outputs": [],
   "source": [
    "# setting aside holdout data for final testing\n",
    "\n",
    "X_train, X_holdout, y_train, y_holdout = train_test_split(X, y, test_size=.2, random_state=17)"
   ]
  },
  {
   "cell_type": "code",
   "execution_count": 7,
   "metadata": {},
   "outputs": [],
   "source": [
    "#this helps with the way kf will generate indices below\n",
    "\n",
    "X_train, y_train = np.array(X_train), np.array(y_train)"
   ]
  },
  {
   "cell_type": "code",
   "execution_count": 8,
   "metadata": {},
   "outputs": [],
   "source": [
    "# establishing 5 cross-validation folds\n",
    "kf = KFold(n_splits=5, shuffle=True, random_state = 17)"
   ]
  },
  {
   "cell_type": "code",
   "execution_count": 9,
   "metadata": {},
   "outputs": [],
   "source": [
    "# ADD ARG TO SEE TRAIN SCORE TO COMPARE FOR OVERFTTING\n",
    "# https://scikit-learn.org/stable/modules/generated/sklearn.model_selection.cross_validate.html#sklearn.model_selection.cross_validate\n",
    "\n",
    "def val_test(features, target):\n",
    "    lm = LinearRegression()\n",
    "\n",
    "    scores = cross_validate(lm, features, target, cv=kf, scoring='r2', return_train_score=True)\n",
    "    print('>>>>',scores['train_score'])\n",
    "    print(\">>>> Linear Reg Mean Train Score: \", np.mean(scores['train_score']),'\\n')\n",
    "    \n",
    "    print('>>>>',scores['test_score'])\n",
    "    print(\">>>> Linear Reg Mean Test Score: \", np.mean(scores['test_score']))\n"
   ]
  },
  {
   "cell_type": "code",
   "execution_count": 10,
   "metadata": {},
   "outputs": [
    {
     "name": "stdout",
     "output_type": "stream",
     "text": [
      ">>>> [0.15716807 0.26061903 0.18905755 0.20698783 0.1963077 ]\n",
      ">>>> Linear Reg Mean Train Score:  0.20202803571009645 \n",
      "\n",
      ">>>> [ 0.32884092  0.11995895 -0.01056706  0.0483634   0.10322964]\n",
      ">>>> Linear Reg Mean Test Score:  0.11796516909738194\n"
     ]
    }
   ],
   "source": [
    "val_test(X_train, y_train)"
   ]
  },
  {
   "cell_type": "markdown",
   "metadata": {},
   "source": [
    "WOW we're off to a rough start. Will have to work _a lot_ more on feature engineering"
   ]
  },
  {
   "cell_type": "markdown",
   "metadata": {},
   "source": [
    "#### Visualizing relationships - MVP"
   ]
  },
  {
   "cell_type": "code",
   "execution_count": 11,
   "metadata": {},
   "outputs": [
    {
     "name": "stdout",
     "output_type": "stream",
     "text": [
      "[ 0.32884092  0.11995895 -0.01056706  0.0483634   0.10322964]\n",
      "Linear Reg Mean Score:  0.11796516909738194\n"
     ]
    }
   ],
   "source": [
    "lin_reg_est = LinearRegression()\n",
    "\n",
    "scores = cross_val_score(lin_reg_est, X_train, y_train, cv=kf)\n",
    "print(scores)\n",
    "print(\"Linear Reg Mean Score: \", np.mean(scores))"
   ]
  },
  {
   "cell_type": "code",
   "execution_count": 12,
   "metadata": {},
   "outputs": [],
   "source": [
    "# Build the Model\n",
    "\n",
    "lin_reg_est.fit(X_train, y_train);"
   ]
  },
  {
   "cell_type": "code",
   "execution_count": 13,
   "metadata": {},
   "outputs": [
    {
     "data": {
      "image/png": "[encoded data removed]",
      "text/plain": [
       "<Figure size 432x288 with 1 Axes>"
      ]
     },
     "metadata": {
      "needs_background": "light"
     },
     "output_type": "display_data"
    }
   ],
   "source": [
    "# Fitted vs. Actual\n",
    "\n",
    "y_train_pred = lin_reg_est.predict(X_train)\n",
    "resid = y_train - y_train_pred\n",
    "\n",
    "plt.scatter(y_train_pred, resid, alpha=0.2)\n",
    "plt.title(\"Residuals vs. Predictions\")\n",
    "plt.xlabel('Predictions')\n",
    "plt.ylabel('Residuals')\n",
    "plt.savefig('mvp_resid.svg');"
   ]
  },
  {
   "cell_type": "markdown",
   "metadata": {},
   "source": [
    "#### Budget vs CN Gross - MVP"
   ]
  },
  {
   "cell_type": "code",
   "execution_count": 14,
   "metadata": {},
   "outputs": [],
   "source": [
    "X_budget = mvp_df.loc[:,\"budget\"].values.reshape(-1,1)\n",
    "y = mvp_df.loc[:,\"china_total_gross\"]"
   ]
  },
  {
   "cell_type": "code",
   "execution_count": 15,
   "metadata": {},
   "outputs": [
    {
     "data": {
      "text/plain": [
       "LinearRegression(copy_X=True, fit_intercept=True, n_jobs=None, normalize=False)"
      ]
     },
     "execution_count": 15,
     "metadata": {},
     "output_type": "execute_result"
    }
   ],
   "source": [
    "lin_reg_est = LinearRegression()\n",
    "\n",
    "lin_reg_est.fit(X_budget, y)"
   ]
  },
  {
   "cell_type": "code",
   "execution_count": 16,
   "metadata": {},
   "outputs": [
    {
     "data": {
      "image/png": "[encoded data removed]",
      "text/plain": [
       "<Figure size 432x288 with 1 Axes>"
      ]
     },
     "metadata": {
      "needs_background": "light"
     },
     "output_type": "display_data"
    }
   ],
   "source": [
    "sns.regplot(X_budget, y)\n",
    "plt.suptitle('Chinese Box Office Revenue Predicted by Budget')\n",
    "plt.xlabel('Budget')\n",
    "plt.ylabel('Revenue')\n",
    "plt.savefig('mvp_budget.svg')"
   ]
  },
  {
   "cell_type": "code",
   "execution_count": 17,
   "metadata": {},
   "outputs": [],
   "source": [
    "import scipy.stats as stats\n",
    "\n",
    "def diagnostic_plot(x, y):\n",
    "    plt.figure(figsize=(20,5))\n",
    "    \n",
    "    rgr = LinearRegression()\n",
    "    rgr.fit(x,y)\n",
    "    pred = rgr.predict(x)\n",
    "\n",
    "    plt.subplot(1, 3, 1)\n",
    "    plt.scatter(x,y)\n",
    "    plt.plot(x, pred, color='blue',linewidth=1)\n",
    "    plt.title(\"Regression fit\")\n",
    "    plt.xlabel(\"x\")\n",
    "    plt.ylabel(\"y\")\n",
    "    \n",
    "    plt.subplot(1, 3, 2)\n",
    "    res = y - pred\n",
    "    plt.scatter(pred, res)\n",
    "    plt.title(\"Residual plot\")\n",
    "    plt.xlabel(\"prediction\")\n",
    "    plt.ylabel(\"residuals\")\n",
    "    \n",
    "    plt.subplot(1, 3, 3)\n",
    "    #Generates a probability plot of sample data against the quantiles of a \n",
    "    # specified theoretical distribution \n",
    "    stats.probplot(res, dist=\"norm\", plot=plt)\n",
    "    plt.title(\"Normal Q-Q plot\")"
   ]
  },
  {
   "cell_type": "markdown",
   "metadata": {},
   "source": []
  },
  {
   "cell_type": "code",
   "execution_count": 18,
   "metadata": {},
   "outputs": [
    {
     "data": {
      "image/png": "[encoded data removed]",
      "text/plain": [
       "<Figure size 1440x360 with 3 Axes>"
      ]
     },
     "metadata": {
      "needs_background": "light"
     },
     "output_type": "display_data"
    }
   ],
   "source": [
    "diagnostic_plot(X_budget, y)\n",
    "plt.savefig('budget_diagnostic.png')"
   ]
  },
  {
   "cell_type": "markdown",
   "metadata": {},
   "source": [
    "### PRODUCTION MODEL"
   ]
  },
  {
   "cell_type": "code",
   "execution_count": 19,
   "metadata": {},
   "outputs": [],
   "source": [
    "# reading in dataframe\n",
    "\n",
    "model_df_all = pd.read_csv(\"model_df.csv\")"
   ]
  },
  {
   "cell_type": "markdown",
   "metadata": {},
   "source": [
    "#### Transformations\n",
    "\n",
    "Adding some rows with a few transformations to experiment with in the trial and error portion of my feature selection.  \n",
    "Included resuslts to each cell after testing later."
   ]
  },
  {
   "cell_type": "code",
   "execution_count": 20,
   "metadata": {},
   "outputs": [
    {
     "data": {
      "text/html": [
       "<div>\n",
       "<style scoped>\n",
       "    .dataframe tbody tr th:only-of-type {\n",
       "        vertical-align: middle;\n",
       "    }\n",
       "\n",
       "    .dataframe tbody tr th {\n",
       "        vertical-align: top;\n",
       "    }\n",
       "\n",
       "    .dataframe thead th {\n",
       "        text-align: right;\n",
       "    }\n",
       "</style>\n",
       "<table border=\"1\" class=\"dataframe\">\n",
       "  <thead>\n",
       "    <tr style=\"text-align: right;\">\n",
       "      <th></th>\n",
       "      <th>china_total_gross</th>\n",
       "      <th>log_china_total_gross</th>\n",
       "    </tr>\n",
       "  </thead>\n",
       "  <tbody>\n",
       "    <tr>\n",
       "      <th>0</th>\n",
       "      <td>3453141.0</td>\n",
       "      <td>15.054795</td>\n",
       "    </tr>\n",
       "    <tr>\n",
       "      <th>1</th>\n",
       "      <td>3376447.0</td>\n",
       "      <td>15.032335</td>\n",
       "    </tr>\n",
       "    <tr>\n",
       "      <th>2</th>\n",
       "      <td>10288154.0</td>\n",
       "      <td>16.146504</td>\n",
       "    </tr>\n",
       "  </tbody>\n",
       "</table>\n",
       "</div>"
      ],
      "text/plain": [
       "   china_total_gross  log_china_total_gross\n",
       "0          3453141.0              15.054795\n",
       "1          3376447.0              15.032335\n",
       "2         10288154.0              16.146504"
      ]
     },
     "execution_count": 20,
     "metadata": {},
     "output_type": "execute_result"
    }
   ],
   "source": [
    "# setting up log of target to test to see if i can get a better baseline score\n",
    "\n",
    "model_df_all['log_china_total_gross'] = np.log(model_df_all.china_total_gross)\n",
    "model_df_all[['china_total_gross', 'log_china_total_gross']].head(3)"
   ]
  },
  {
   "cell_type": "markdown",
   "metadata": {},
   "source": [
    "log of budget_clean  \n",
    "Results: NO IMPROVEMENT"
   ]
  },
  {
   "cell_type": "code",
   "execution_count": 21,
   "metadata": {},
   "outputs": [],
   "source": [
    "model_df_all['log_budget_clean'] = np.log(model_df_all.budget_clean)"
   ]
  },
  {
   "cell_type": "markdown",
   "metadata": {},
   "source": [
    "star_count**2  \n",
    "Results: VERY SLIGHT IMPROVEMENT"
   ]
  },
  {
   "cell_type": "code",
   "execution_count": 22,
   "metadata": {},
   "outputs": [],
   "source": [
    "model_df_all['star_count_squared'] = (model_df_all['star_count'])**2"
   ]
  },
  {
   "cell_type": "markdown",
   "metadata": {},
   "source": [
    "star_count**3  \n",
    "Results: NOT HELPFUL"
   ]
  },
  {
   "cell_type": "code",
   "execution_count": 23,
   "metadata": {},
   "outputs": [],
   "source": [
    "model_df_all['star_count_cubed'] = (model_df_all['star_count'])**3"
   ]
  },
  {
   "cell_type": "markdown",
   "metadata": {},
   "source": [
    "star_power_sum**2  \n",
    "Results: REALLY DID NOT HELP (-0.1)\n"
   ]
  },
  {
   "cell_type": "code",
   "execution_count": 24,
   "metadata": {},
   "outputs": [],
   "source": [
    "model_df_all['star_power_sum_squared'] = (model_df_all['star_power_sum'])**2"
   ]
  },
  {
   "cell_type": "markdown",
   "metadata": {},
   "source": [
    "#### BASIC LINEAR REGRESSION"
   ]
  },
  {
   "cell_type": "markdown",
   "metadata": {},
   "source": [
    "#### All features - target normal scale"
   ]
  },
  {
   "cell_type": "code",
   "execution_count": 25,
   "metadata": {},
   "outputs": [],
   "source": [
    "# establishing 5 cross-validation folds\n",
    "\n",
    "kf = KFold(n_splits=5, shuffle=True, random_state = 17)"
   ]
  },
  {
   "cell_type": "code",
   "execution_count": 26,
   "metadata": {},
   "outputs": [],
   "source": [
    "# initializing data\n",
    "\n",
    "X, y = model_df_all.drop(['china_total_gross', 'log_china_total_gross', 'movie_title'],axis=1), model_df_all['china_total_gross']\n",
    "X_train, X_holdout, y_train, y_holdout = train_test_split(X, y, test_size=.2, random_state=17)"
   ]
  },
  {
   "cell_type": "code",
   "execution_count": 27,
   "metadata": {},
   "outputs": [
    {
     "name": "stdout",
     "output_type": "stream",
     "text": [
      ">>>> [0.09242471 0.12468925 0.15194165 0.11319485 0.13193493]\n",
      ">>>> Linear Reg Mean Train Score:  0.12283708015516821 \n",
      "\n",
      ">>>> [0.25315648 0.06292026 0.0437133  0.14283548 0.04552819]\n",
      ">>>> Linear Reg Mean Test Score:  0.10963074152134418\n"
     ]
    }
   ],
   "source": [
    "val_test(X_train, y_train)"
   ]
  },
  {
   "cell_type": "markdown",
   "metadata": {},
   "source": [
    "**Result:** mediocre r2. Hopefully some feature selection will help. "
   ]
  },
  {
   "cell_type": "markdown",
   "metadata": {},
   "source": [
    "#### All features - target log scale"
   ]
  },
  {
   "cell_type": "code",
   "execution_count": 28,
   "metadata": {},
   "outputs": [],
   "source": [
    "X, y = model_df_all.drop(['china_total_gross', 'log_china_total_gross', 'movie_title'],axis=1), model_df_all['log_china_total_gross']\n",
    "X_train, X_holdout, y_train, y_holdout = train_test_split(X, y, test_size=.2, random_state=17)"
   ]
  },
  {
   "cell_type": "code",
   "execution_count": 29,
   "metadata": {},
   "outputs": [
    {
     "name": "stdout",
     "output_type": "stream",
     "text": [
      ">>>> [0.2777711  0.30923176 0.32923957 0.2945436  0.31318806]\n",
      ">>>> Linear Reg Mean Train Score:  0.3047948180865074 \n",
      "\n",
      ">>>> [0.37875392 0.25488684 0.20718217 0.32019788 0.25614857]\n",
      ">>>> Linear Reg Mean Test Score:  0.28343387482085625\n"
     ]
    }
   ],
   "source": [
    "val_test(X_train, y_train)"
   ]
  },
  {
   "cell_type": "markdown",
   "metadata": {},
   "source": [
    "**Result:** transforming the target to log scale makes the model predict the order of magnitude of the film's revenue, rather than the revenue in actual dollars. *R2 is better,* but not so much better that it should be the only focus of analysis. \n",
    "\n",
    "Regularization made r2 slightly better but also introduced disparity btw training and test data, so this model is the *best of the log-y models*"
   ]
  },
  {
   "cell_type": "markdown",
   "metadata": {},
   "source": [
    "#### Trial and error - Manual feature testing - Target normal scale \n",
    "\n",
    "\n",
    "Using domain knowledge and intuition to test various combinations of features. Examined high pos/neg correlation to shortlist features to include."
   ]
  },
  {
   "cell_type": "code",
   "execution_count": 30,
   "metadata": {},
   "outputs": [
    {
     "name": "stdout",
     "output_type": "stream",
     "text": [
      ">>>> [0.19919137 0.19342615 0.23712492 0.18442317 0.21140501]\n",
      ">>>> Linear Reg Mean Train Score:  0.20511412595914552 \n",
      "\n",
      ">>>> [0.17451797 0.23576311 0.11731191 0.24778711 0.1164843 ]\n",
      ">>>> Linear Reg Mean Test Score:  0.17837288114951108\n"
     ]
    }
   ],
   "source": [
    "# initializing data, specifying features\n",
    "\n",
    "X = model_df_all.loc[:,['budget_clean',\n",
    "                        'director_Other', \n",
    "#                         'release_date_diff',\n",
    "                        'release_order_CN_first',\n",
    "                        'running_time',\n",
    "#                         'star_count',\n",
    "                        'star_count_squared',\n",
    "#                         'star_power_sum', \n",
    "#                         'mpaa_G', \n",
    "#                         'mpaa_NC-17', \n",
    "#                         'mpaa_Not Rated', \n",
    "#                         'mpaa_PG', \n",
    "#                         'mpaa_PG-13',\n",
    "#                         'mpaa_R',\n",
    "                        'release_month_2.0', \n",
    "                        'Action']]\n",
    "\n",
    "y = model_df_all['china_total_gross']\n",
    "\n",
    "X_train, X_holdout, y_train, y_holdout = train_test_split(X, y, test_size=.2, random_state=17)\n",
    "\n",
    "#testing\n",
    "\n",
    "val_test(X_train, y_train)"
   ]
  },
  {
   "cell_type": "markdown",
   "metadata": {},
   "source": [
    "**RESULT: This is the feature set that yielded the best results for normal scale target.** "
   ]
  },
  {
   "cell_type": "markdown",
   "metadata": {},
   "source": [
    "#### Trial and error - Manual feature testing - Target log scale \n"
   ]
  },
  {
   "cell_type": "code",
   "execution_count": 31,
   "metadata": {},
   "outputs": [
    {
     "name": "stdout",
     "output_type": "stream",
     "text": [
      ">>>> [0.37951042 0.37253721 0.38618532 0.37142054 0.38192601]\n",
      ">>>> Linear Reg Mean Train Score:  0.37831589863732884 \n",
      "\n",
      ">>>> [0.2932311  0.35759211 0.29670736 0.3608162  0.31190888]\n",
      ">>>> Linear Reg Mean Test Score:  0.3240511281222016\n"
     ]
    }
   ],
   "source": [
    "# initializing data, specifying features\n",
    "\n",
    "X = model_df_all.loc[:,['budget_clean','director_Other', 'release_date_diff','release_order_CN_first', 'mpaa_G', 'mpaa_NC-17', 'mpaa_Not Rated', 'mpaa_PG', 'mpaa_PG-13',\n",
    "       'mpaa_R','release_month_2.0', 'Action', 'running_time','running_time^2', 'Sci-Fi', 'Drama']]\n",
    "\n",
    "y = model_df_all['log_china_total_gross']\n",
    "\n",
    "X_train, X_holdout, y_train, y_holdout = train_test_split(X, y, test_size=.2, random_state=17)\n",
    "\n",
    "#testing\n",
    "\n",
    "val_test(X_train, y_train)"
   ]
  },
  {
   "cell_type": "markdown",
   "metadata": {},
   "source": [
    "**RESULT:** Better correlation than normal y, but not amazing. r2 here still better than regularized models"
   ]
  },
  {
   "cell_type": "markdown",
   "metadata": {},
   "source": [
    "#### LASSO REGULARIZATION\n",
    "\n",
    "##### Normal target - all features"
   ]
  },
  {
   "cell_type": "code",
   "execution_count": 32,
   "metadata": {},
   "outputs": [],
   "source": [
    "# initializing data\n",
    "\n",
    "X, y = model_df_all.drop(['china_total_gross', 'log_china_total_gross', 'movie_title'],axis=1), model_df_all['china_total_gross']\n",
    "\n",
    "X_train, X_holdout, y_train, y_holdout = train_test_split(X, y, test_size=.2, random_state=17)"
   ]
  },
  {
   "cell_type": "code",
   "execution_count": 33,
   "metadata": {},
   "outputs": [],
   "source": [
    "# standardizing features\n",
    "\n",
    "std = StandardScaler()\n",
    "X_train_scaled = std.fit_transform(X_train);"
   ]
  },
  {
   "cell_type": "code",
   "execution_count": 34,
   "metadata": {},
   "outputs": [],
   "source": [
    "# fitting model\n",
    "\n",
    "lasso_model1 = LassoCV()\n",
    "lasso_model1.fit(X_train_scaled,y_train);"
   ]
  },
  {
   "cell_type": "code",
   "execution_count": 35,
   "metadata": {},
   "outputs": [
    {
     "data": {
      "text/plain": [
       "1478519.9503667515"
      ]
     },
     "execution_count": 35,
     "metadata": {},
     "output_type": "execute_result"
    }
   ],
   "source": [
    "# checking alpha (found by LassoCV)\n",
    "\n",
    "lasso_model1.alpha_"
   ]
  },
  {
   "cell_type": "code",
   "execution_count": 36,
   "metadata": {},
   "outputs": [
    {
     "name": "stderr",
     "output_type": "stream",
     "text": [
      "/opt/anaconda3/lib/python3.7/site-packages/sklearn/linear_model/_coordinate_descent.py:472: ConvergenceWarning: Objective did not converge. You might want to increase the number of iterations. Duality gap: 785768402215936.0, tolerance: 331992331771931.2\n",
      "  tol, rng, random, positive)\n",
      "/opt/anaconda3/lib/python3.7/site-packages/sklearn/linear_model/_coordinate_descent.py:472: ConvergenceWarning: Objective did not converge. You might want to increase the number of iterations. Duality gap: 331585738922496.0, tolerance: 330440392802265.0\n",
      "  tol, rng, random, positive)\n",
      "/opt/anaconda3/lib/python3.7/site-packages/sklearn/linear_model/_coordinate_descent.py:472: ConvergenceWarning: Objective did not converge. You might want to increase the number of iterations. Duality gap: 320060648483840.0, tolerance: 311418001091421.1\n",
      "  tol, rng, random, positive)\n",
      "/opt/anaconda3/lib/python3.7/site-packages/sklearn/linear_model/_coordinate_descent.py:472: ConvergenceWarning: Objective did not converge. You might want to increase the number of iterations. Duality gap: 1344916711337984.0, tolerance: 311418001091421.1\n",
      "  tol, rng, random, positive)\n",
      "/opt/anaconda3/lib/python3.7/site-packages/sklearn/linear_model/_coordinate_descent.py:472: ConvergenceWarning: Objective did not converge. You might want to increase the number of iterations. Duality gap: 1652675923746816.0, tolerance: 311418001091421.1\n",
      "  tol, rng, random, positive)\n",
      "/opt/anaconda3/lib/python3.7/site-packages/sklearn/linear_model/_coordinate_descent.py:472: ConvergenceWarning: Objective did not converge. You might want to increase the number of iterations. Duality gap: 1714252570015488.0, tolerance: 311418001091421.1\n",
      "  tol, rng, random, positive)\n",
      "/opt/anaconda3/lib/python3.7/site-packages/sklearn/linear_model/_coordinate_descent.py:472: ConvergenceWarning: Objective did not converge. You might want to increase the number of iterations. Duality gap: 1716481022690304.0, tolerance: 311418001091421.1\n",
      "  tol, rng, random, positive)\n",
      "/opt/anaconda3/lib/python3.7/site-packages/sklearn/linear_model/_coordinate_descent.py:472: ConvergenceWarning: Objective did not converge. You might want to increase the number of iterations. Duality gap: 1705238621699840.0, tolerance: 311418001091421.1\n",
      "  tol, rng, random, positive)\n",
      "/opt/anaconda3/lib/python3.7/site-packages/sklearn/linear_model/_coordinate_descent.py:472: ConvergenceWarning: Objective did not converge. You might want to increase the number of iterations. Duality gap: 1691106534507008.0, tolerance: 311418001091421.1\n",
      "  tol, rng, random, positive)\n",
      "/opt/anaconda3/lib/python3.7/site-packages/sklearn/linear_model/_coordinate_descent.py:472: ConvergenceWarning: Objective did not converge. You might want to increase the number of iterations. Duality gap: 1718849427733504.0, tolerance: 311418001091421.1\n",
      "  tol, rng, random, positive)\n",
      "/opt/anaconda3/lib/python3.7/site-packages/sklearn/linear_model/_coordinate_descent.py:472: ConvergenceWarning: Objective did not converge. You might want to increase the number of iterations. Duality gap: 314338352161280.0, tolerance: 283044137290812.56\n",
      "  tol, rng, random, positive)\n",
      "/opt/anaconda3/lib/python3.7/site-packages/sklearn/linear_model/_coordinate_descent.py:472: ConvergenceWarning: Objective did not converge. You might want to increase the number of iterations. Duality gap: 315908509734400.0, tolerance: 283044137290812.56\n",
      "  tol, rng, random, positive)\n",
      "/opt/anaconda3/lib/python3.7/site-packages/sklearn/linear_model/_coordinate_descent.py:472: ConvergenceWarning: Objective did not converge. You might want to increase the number of iterations. Duality gap: 543707741618176.0, tolerance: 283044137290812.56\n",
      "  tol, rng, random, positive)\n",
      "/opt/anaconda3/lib/python3.7/site-packages/sklearn/linear_model/_coordinate_descent.py:472: ConvergenceWarning: Objective did not converge. You might want to increase the number of iterations. Duality gap: 592535498146048.0, tolerance: 283044137290812.56\n",
      "  tol, rng, random, positive)\n",
      "/opt/anaconda3/lib/python3.7/site-packages/sklearn/linear_model/_coordinate_descent.py:472: ConvergenceWarning: Objective did not converge. You might want to increase the number of iterations. Duality gap: 594635652984064.0, tolerance: 283044137290812.56\n",
      "  tol, rng, random, positive)\n",
      "/opt/anaconda3/lib/python3.7/site-packages/sklearn/linear_model/_coordinate_descent.py:472: ConvergenceWarning: Objective did not converge. You might want to increase the number of iterations. Duality gap: 617083557696768.0, tolerance: 283044137290812.56\n",
      "  tol, rng, random, positive)\n",
      "/opt/anaconda3/lib/python3.7/site-packages/sklearn/linear_model/_coordinate_descent.py:472: ConvergenceWarning: Objective did not converge. You might want to increase the number of iterations. Duality gap: 636739847599360.0, tolerance: 283044137290812.56\n",
      "  tol, rng, random, positive)\n"
     ]
    },
    {
     "name": "stdout",
     "output_type": "stream",
     "text": [
      ">>>> [0.21999501 0.22644412 0.29344489 0.31178297 0.29034265]\n",
      ">>>> Lasso Mean Train Score:  0.2684019303395956 \n",
      "\n",
      ">>>> [0.17681209 0.09121988 0.10835907 0.17620892 0.13037134]\n",
      ">>>> Lasso Mean Test Score:  0.1365942632349838\n"
     ]
    }
   ],
   "source": [
    "# testing\n",
    "\n",
    "scores = cross_validate(lasso_model1, X_train_scaled, y_train, cv=kf, return_train_score=True)\n",
    "\n",
    "print('>>>>', scores['train_score'])\n",
    "print(\">>>> Lasso Mean Train Score: \", np.mean(scores['train_score']),'\\n')\n",
    "    \n",
    "print('>>>>',scores['test_score'])\n",
    "print(\">>>> Lasso Mean Test Score: \", np.mean(scores['test_score']))"
   ]
  },
  {
   "cell_type": "markdown",
   "metadata": {},
   "source": [
    "**Results:** lasso with normal scale y had weak test r2, possibly overfit due to small size of dataset"
   ]
  },
  {
   "cell_type": "markdown",
   "metadata": {},
   "source": [
    "#### LASSO REGULARIZATION\n",
    "\n",
    "##### Log target - all features"
   ]
  },
  {
   "cell_type": "code",
   "execution_count": 37,
   "metadata": {},
   "outputs": [],
   "source": [
    "# initializing data\n",
    "\n",
    "X, y = model_df_all.drop(['china_total_gross', 'log_china_total_gross', 'movie_title'],axis=1), model_df_all['log_china_total_gross']\n",
    "\n",
    "X_train, X_holdout, y_train, y_holdout = train_test_split(X, y, test_size=.2, random_state=17)"
   ]
  },
  {
   "cell_type": "code",
   "execution_count": 38,
   "metadata": {},
   "outputs": [],
   "source": [
    "# standardizing features\n",
    "\n",
    "X_train_scaled = std.fit_transform(X_train);"
   ]
  },
  {
   "cell_type": "code",
   "execution_count": 39,
   "metadata": {},
   "outputs": [],
   "source": [
    "# fitting model\n",
    "\n",
    "lasso_model2 = LassoCV()\n",
    "lasso_model2.fit(X_train_scaled,y_train);"
   ]
  },
  {
   "cell_type": "code",
   "execution_count": 40,
   "metadata": {},
   "outputs": [
    {
     "data": {
      "text/plain": [
       "0.05146753718984213"
      ]
     },
     "execution_count": 40,
     "metadata": {},
     "output_type": "execute_result"
    }
   ],
   "source": [
    "# checking alpha\n",
    "lasso_model2.alpha_"
   ]
  },
  {
   "cell_type": "code",
   "execution_count": 41,
   "metadata": {},
   "outputs": [
    {
     "name": "stdout",
     "output_type": "stream",
     "text": [
      ">>>> [0.37698744 0.40303731 0.38339081 0.42604694 0.38302366]\n",
      ">>>> Lasso Mean Train Score:  0.39449723091565214 \n",
      "\n",
      ">>>> [0.32096719 0.35389764 0.2799128  0.31610845 0.32460936]\n",
      ">>>> Lasso Mean Test Score:  0.31909908861868796\n"
     ]
    }
   ],
   "source": [
    "# testing\n",
    "scores = cross_validate(lasso_model2, X_train_scaled, y_train, cv=kf,return_train_score=True)\n",
    "\n",
    "print('>>>>', scores['train_score'])\n",
    "print(\">>>> Lasso Mean Train Score: \", np.mean(scores['train_score']),'\\n')\n",
    "    \n",
    "print('>>>>',scores['test_score'])\n",
    "print(\">>>> Lasso Mean Test Score: \", np.mean(scores['test_score']))"
   ]
  },
  {
   "cell_type": "markdown",
   "metadata": {},
   "source": [
    "**Result:** Lasso and log y had very good r2, but ridge was slightly more consistent. Training data nearly 0.1 imoprovement, but test data only marginally better than R2 of log scale with no regularization. "
   ]
  },
  {
   "cell_type": "markdown",
   "metadata": {},
   "source": [
    "#### RIDGE REGULARIZATION\n",
    "\n",
    "##### Normal target - all features"
   ]
  },
  {
   "cell_type": "code",
   "execution_count": 42,
   "metadata": {},
   "outputs": [],
   "source": [
    "# initializing data\n",
    "\n",
    "X, y = model_df_all.drop(['china_total_gross', 'log_china_total_gross', 'movie_title'],axis=1), model_df_all['china_total_gross']\n",
    "\n",
    "X_train, X_holdout, y_train, y_holdout = train_test_split(X, y, test_size=.2, random_state=17)"
   ]
  },
  {
   "cell_type": "code",
   "execution_count": 43,
   "metadata": {},
   "outputs": [],
   "source": [
    "# standardizing features\n",
    "\n",
    "X_train_scaled = std.fit_transform(X_train);"
   ]
  },
  {
   "cell_type": "code",
   "execution_count": 44,
   "metadata": {},
   "outputs": [],
   "source": [
    "# fit data\n",
    "\n",
    "ridge_model1 = RidgeCV()\n",
    "ridge_model1.fit(X_train_scaled,y_train);"
   ]
  },
  {
   "cell_type": "code",
   "execution_count": 45,
   "metadata": {},
   "outputs": [
    {
     "data": {
      "text/plain": [
       "10.0"
      ]
     },
     "execution_count": 45,
     "metadata": {},
     "output_type": "execute_result"
    }
   ],
   "source": [
    "# checking alpha\n",
    "\n",
    "ridge_model1.alpha_"
   ]
  },
  {
   "cell_type": "code",
   "execution_count": 46,
   "metadata": {},
   "outputs": [
    {
     "name": "stdout",
     "output_type": "stream",
     "text": [
      ">>>> [0.30291584 0.34088302 0.34976824 0.33190656 0.33308322]\n",
      ">>>> Ridge Mean Train Score:  0.3317113754359949 \n",
      "\n",
      ">>>> [ 0.14871641 -0.12339215  0.11895263  0.14845999  0.0731477 ]\n",
      ">>>> Ridge Mean Test Score:  0.07317691532483261\n"
     ]
    }
   ],
   "source": [
    "# testing\n",
    "scores = cross_validate(ridge_model1, X_train_scaled, y_train, cv=kf,return_train_score=True)\n",
    "\n",
    "print('>>>>', scores['train_score'])\n",
    "print(\">>>> Ridge Mean Train Score: \", np.mean(scores['train_score']),'\\n')\n",
    "    \n",
    "print('>>>>',scores['test_score'])\n",
    "print(\">>>> Ridge Mean Test Score: \", np.mean(scores['test_score']))"
   ]
  },
  {
   "cell_type": "markdown",
   "metadata": {},
   "source": [
    "**Result:** for ridge reg and normal y, training data tested well, but due to small data size test score very low. No bueno. "
   ]
  },
  {
   "cell_type": "markdown",
   "metadata": {},
   "source": [
    "#### RIDGE REGULARIZATION\n",
    "\n",
    "##### Log target - all features"
   ]
  },
  {
   "cell_type": "code",
   "execution_count": 47,
   "metadata": {},
   "outputs": [],
   "source": [
    "# initialize data\n",
    "\n",
    "X, y = model_df_all.drop(['china_total_gross', 'log_china_total_gross', 'movie_title'],axis=1), model_df_all['china_total_gross']\n",
    "\n",
    "X_train, X_holdout, y_train, y_holdout = train_test_split(X, y, test_size=.2, random_state=17)"
   ]
  },
  {
   "cell_type": "code",
   "execution_count": 48,
   "metadata": {},
   "outputs": [],
   "source": [
    "# standardizing features\n",
    "\n",
    "X_train_scaled = std.fit_transform(X_train);"
   ]
  },
  {
   "cell_type": "code",
   "execution_count": 49,
   "metadata": {},
   "outputs": [],
   "source": [
    "# fit the model\n",
    "\n",
    "ridge_model2 = RidgeCV(cv=kf)\n",
    "ridge_model2.fit(X_train_scaled, y_train);"
   ]
  },
  {
   "cell_type": "code",
   "execution_count": 50,
   "metadata": {},
   "outputs": [
    {
     "data": {
      "text/plain": [
       "10.0"
      ]
     },
     "execution_count": 50,
     "metadata": {},
     "output_type": "execute_result"
    }
   ],
   "source": [
    "# This is the best alpha value it found - not far from the value selected using simple validation\n",
    "\n",
    "ridge_model2.alpha_"
   ]
  },
  {
   "cell_type": "code",
   "execution_count": 51,
   "metadata": {},
   "outputs": [
    {
     "name": "stdout",
     "output_type": "stream",
     "text": [
      ">>>> [0.30291584 0.34088302 0.34976824 0.33190656 0.33308322]\n",
      ">>>> Ridge Mean Train Score:  0.3317113754359948 \n",
      "\n",
      ">>>> [ 0.14871641 -0.12339215  0.11895263  0.14845999  0.0731477 ]\n",
      ">>>> Ridge Mean Test Score:  0.0731769153248236\n"
     ]
    }
   ],
   "source": [
    "# testing\n",
    "scores = cross_validate(ridge_model2, X_train_scaled, y_train, cv=kf,return_train_score=True)\n",
    "\n",
    "print('>>>>', scores['train_score'])\n",
    "print(\">>>> Ridge Mean Train Score: \", np.mean(scores['train_score']),'\\n')\n",
    "    \n",
    "print('>>>>',scores['test_score'])\n",
    "print(\">>>> Ridge Mean Test Score: \", np.mean(scores['test_score']))"
   ]
  },
  {
   "cell_type": "markdown",
   "metadata": {},
   "source": [
    "**Result:** Ridge log target had good train and bad test. Can't use. "
   ]
  },
  {
   "cell_type": "markdown",
   "metadata": {},
   "source": [
    "#### Polynomial features"
   ]
  },
  {
   "cell_type": "code",
   "execution_count": 52,
   "metadata": {},
   "outputs": [],
   "source": [
    "# initializing data\n",
    "\n",
    "X, y = model_df_all.drop(['china_total_gross', 'log_china_total_gross', 'movie_title'],axis=1), model_df_all['china_total_gross']\n",
    "\n",
    "X_train, X_holdout, y_train, y_holdout = train_test_split(X, y, test_size=.2, random_state=17)\n"
   ]
  },
  {
   "cell_type": "code",
   "execution_count": 53,
   "metadata": {},
   "outputs": [],
   "source": [
    "p = PolynomialFeatures(degree=2)\n",
    "x_train_poly = p.fit_transform(X_train)"
   ]
  },
  {
   "cell_type": "code",
   "execution_count": 54,
   "metadata": {},
   "outputs": [],
   "source": [
    "# standardizing features -- CAUSED PROBLEM WHEN SCORING, SKIPPED SCALING \n",
    "\n",
    "std = StandardScaler()\n",
    "X_train_poly_scaled = std.fit_transform(x_train_poly);"
   ]
  },
  {
   "cell_type": "code",
   "execution_count": 55,
   "metadata": {},
   "outputs": [],
   "source": [
    "# fit model\n",
    "\n",
    "lasso_model3 = LassoCV(cv=kf)\n",
    "lasso_model3.fit(x_train_poly, y_train);"
   ]
  },
  {
   "cell_type": "code",
   "execution_count": 56,
   "metadata": {},
   "outputs": [
    {
     "name": "stdout",
     "output_type": "stream",
     "text": [
      ">>>> [0.00206711 0.00296701 0.00181672 0.00179029 0.00420035]\n",
      ">>>> Polynomial Reg w/ Lasso Mean Train Score:  0.002568294569667984 \n",
      "\n",
      ">>>> [ 0.00574159 -0.00221333 -0.00423687  0.00044844 -0.01154842]\n",
      ">>>> Polynomial Reg w/ Lasso Mean Test Score:  -0.002361718359444009\n"
     ]
    }
   ],
   "source": [
    "#cross_validate(lm, X_train, y_train, return_train_score=True)\n",
    "\n",
    "# testing\n",
    "scores = cross_validate(lasso_model3, x_train_poly, y_train, cv=kf,return_train_score=True)\n",
    "\n",
    "print('>>>>', scores['train_score'])\n",
    "print(\">>>> Polynomial Reg w/ Lasso Mean Train Score: \", np.mean(scores['train_score']),'\\n')\n",
    "    \n",
    "print('>>>>',scores['test_score'])\n",
    "print(\">>>> Polynomial Reg w/ Lasso Mean Test Score: \", np.mean(scores['test_score']))"
   ]
  },
  {
   "cell_type": "markdown",
   "metadata": {},
   "source": [
    "**Result:** poly model performed very pooly. Data perhaps *too small* for it to work effectively. "
   ]
  },
  {
   "cell_type": "markdown",
   "metadata": {},
   "source": [
    "### FINAL MODEL FITTING & TESTING"
   ]
  },
  {
   "cell_type": "markdown",
   "metadata": {},
   "source": [
    "**Conclusion**: the log-transformed target variable was able to account for more variance of the model, but not that much more. We will test the best model for y and log-y against the final data and use both in analysis. "
   ]
  },
  {
   "cell_type": "markdown",
   "metadata": {},
   "source": [
    "#### Manually constructed model - target variable in regular scale"
   ]
  },
  {
   "cell_type": "markdown",
   "metadata": {},
   "source": [
    "##### Final validation test"
   ]
  },
  {
   "cell_type": "code",
   "execution_count": 57,
   "metadata": {},
   "outputs": [],
   "source": [
    "# initializing data, specifying features\n",
    "\n",
    "X1 = model_df_all.loc[:,['budget_clean',\n",
    "                        'director_Other', \n",
    "                        #'release_date_diff',\n",
    "                        'release_order_CN_first',\n",
    "                        'running_time',\n",
    "                        #'star_count',\n",
    "                        'star_count_squared',\n",
    "                        #'star_power_sum', \n",
    "                        #'mpaa_G', \n",
    "                        # 'mpaa_NC-17', \n",
    "                        #'mpaa_Not Rated', \n",
    "                        #'mpaa_PG', \n",
    "                        #'mpaa_PG-13',\n",
    "                        #'mpaa_R',\n",
    "                        'release_month_2.0', \n",
    "                        'Action']]\n",
    "\n",
    "y1 = model_df_all['china_total_gross']\n",
    "\n",
    "X_train1, X_holdout1, y_train1, y_holdout1 = train_test_split(X1, y1, test_size=.2, random_state=17)"
   ]
  },
  {
   "cell_type": "code",
   "execution_count": 58,
   "metadata": {},
   "outputs": [],
   "source": [
    "# scaling features\n",
    "\n",
    "s = StandardScaler()\n",
    "X_train_scaled1 = s.fit_transform(X_train1)\n",
    "X_holdout_scaled1 = s.fit_transform(X_holdout1);"
   ]
  },
  {
   "cell_type": "code",
   "execution_count": 59,
   "metadata": {},
   "outputs": [
    {
     "data": {
      "text/plain": [
       "0.2009140522576497"
      ]
     },
     "execution_count": 59,
     "metadata": {},
     "output_type": "execute_result"
    }
   ],
   "source": [
    "# fitting model to full training data set testing r2 on y_train\n",
    "\n",
    "lm_final = LinearRegression()\n",
    "lm_final.fit(X_train_scaled1, y_train1)\n",
    "lm_final.score(X_train_scaled1, y_train1)"
   ]
  },
  {
   "cell_type": "code",
   "execution_count": 60,
   "metadata": {},
   "outputs": [
    {
     "data": {
      "text/plain": [
       "72"
      ]
     },
     "execution_count": 60,
     "metadata": {},
     "output_type": "execute_result"
    }
   ],
   "source": [
    "# predicting some negative values, will have to clip in final data\n",
    "\n",
    "test_set_preda = lm_final.predict(X_train_scaled1)\n",
    "len(test_set_preda[test_set_preda <0])"
   ]
  },
  {
   "cell_type": "code",
   "execution_count": null,
   "metadata": {},
   "outputs": [],
   "source": []
  },
  {
   "cell_type": "markdown",
   "metadata": {},
   "source": [
    "##### FINAL SCORE & MAE"
   ]
  },
  {
   "cell_type": "code",
   "execution_count": 61,
   "metadata": {},
   "outputs": [
    {
     "data": {
      "text/plain": [
       "0.3062020644900323"
      ]
     },
     "execution_count": 61,
     "metadata": {},
     "output_type": "execute_result"
    }
   ],
   "source": [
    "# calculating r2 on holdout data\n",
    "\n",
    "lm_final.score(X_holdout_scaled1, y_holdout1)"
   ]
  },
  {
   "cell_type": "code",
   "execution_count": 62,
   "metadata": {},
   "outputs": [],
   "source": [
    "# define mae calculator\n",
    "\n",
    "def mae(y_true, y_pred):\n",
    "    return np.mean(np.abs(y_pred - y_true)) "
   ]
  },
  {
   "cell_type": "code",
   "execution_count": 63,
   "metadata": {},
   "outputs": [],
   "source": [
    "# clipping negative predictions\n",
    "\n",
    "test_set_pred1 = lm_final.predict(X_holdout_scaled1)\n",
    "\n",
    "test_set_pred_clipped1 = np.clip(test_set_pred1, a_min=0, a_max=None)"
   ]
  },
  {
   "cell_type": "code",
   "execution_count": 64,
   "metadata": {},
   "outputs": [
    {
     "data": {
      "text/plain": [
       "38373286"
      ]
     },
     "execution_count": 64,
     "metadata": {},
     "output_type": "execute_result"
    }
   ],
   "source": [
    "# calculate mae\n",
    "\n",
    "round(mae(y_holdout1, test_set_pred1))"
   ]
  },
  {
   "cell_type": "markdown",
   "metadata": {},
   "source": [
    "MAE is ~40MM. That means that on average, the model is $40MM off from the actual revenue a film will earn. Not amazing.  \n",
    "\n",
    "Let's look at some statistics related to the target var for context"
   ]
  },
  {
   "cell_type": "code",
   "execution_count": 65,
   "metadata": {},
   "outputs": [
    {
     "data": {
      "text/plain": [
       "count    7.800000e+02\n",
       "mean     8.675151e+07\n",
       "std      5.578672e+07\n",
       "min      4.800000e+06\n",
       "25%      4.725372e+07\n",
       "50%      7.400000e+07\n",
       "75%      1.180397e+08\n",
       "max      3.560000e+08\n",
       "Name: budget_clean, dtype: float64"
      ]
     },
     "execution_count": 65,
     "metadata": {},
     "output_type": "execute_result"
    }
   ],
   "source": [
    "# +06 is millions\n",
    "# +07 is tens of millions\n",
    "# +08 is hundreds of millions\n",
    "\n",
    "model_df_all.budget_clean.describe()"
   ]
  },
  {
   "cell_type": "code",
   "execution_count": 66,
   "metadata": {},
   "outputs": [
    {
     "data": {
      "text/plain": [
       "351200000"
      ]
     },
     "execution_count": 66,
     "metadata": {},
     "output_type": "execute_result"
    }
   ],
   "source": [
    "round(model_df_all.budget_clean.max() - model_df_all.budget_clean.min())"
   ]
  },
  {
   "cell_type": "markdown",
   "metadata": {},
   "source": [
    "**FINAL RESULT:** Not bad, test r2 went up a bit. Perhaps there were some outliers in the training data. Overall, model is underfit and would benefit from more data from additional sources"
   ]
  },
  {
   "cell_type": "markdown",
   "metadata": {},
   "source": [
    "#### Manually constructed model - target variable in LOG scale\n"
   ]
  },
  {
   "cell_type": "markdown",
   "metadata": {},
   "source": [
    "##### Final validation test"
   ]
  },
  {
   "cell_type": "code",
   "execution_count": 67,
   "metadata": {},
   "outputs": [],
   "source": [
    "# initializing dat\n",
    "\n",
    "X2 = model_df_all.loc[:,['budget_clean',\n",
    "                        'director_Other', \n",
    "                        'release_date_diff',\n",
    "                        'release_order_CN_first', \n",
    "                        'mpaa_G', 'mpaa_NC-17', \n",
    "                        'mpaa_Not Rated', \n",
    "                        'mpaa_PG', \n",
    "                        'mpaa_PG-13',\n",
    "                        'mpaa_R',\n",
    "                        'release_month_2.0', \n",
    "                        'Action', \n",
    "                        'running_time',\n",
    "                        'running_time^2', \n",
    "                        'Sci-Fi', \n",
    "                        'Drama']]\n",
    "\n",
    "y2 = model_df_all['log_china_total_gross']\n",
    "\n",
    "X_train2, X_holdout2, y_train2, y_holdout2 = train_test_split(X2, y2, test_size=.2, random_state=17)"
   ]
  },
  {
   "cell_type": "code",
   "execution_count": 68,
   "metadata": {},
   "outputs": [],
   "source": [
    "# scaling\n",
    "\n",
    "s = StandardScaler()\n",
    "X_train_scaled2 = s.fit_transform(X_train2)\n",
    "X_holdout_scaled2 = s.fit_transform(X_holdout2);"
   ]
  },
  {
   "cell_type": "code",
   "execution_count": 69,
   "metadata": {},
   "outputs": [
    {
     "data": {
      "text/plain": [
       "0.3734296001292723"
      ]
     },
     "execution_count": 69,
     "metadata": {},
     "output_type": "execute_result"
    }
   ],
   "source": [
    "# fitting model to full training data set testing r2 on y_train\n",
    "\n",
    "lm2_final = LinearRegression()\n",
    "lm2_final.fit(X_train_scaled2, y_train2)\n",
    "lm2_final.score(X_train_scaled2, y_train2)"
   ]
  },
  {
   "cell_type": "markdown",
   "metadata": {},
   "source": [
    "##### FINAL SCORE & MAE"
   ]
  },
  {
   "cell_type": "code",
   "execution_count": 70,
   "metadata": {},
   "outputs": [
    {
     "data": {
      "text/plain": [
       "0.4170042075606859"
      ]
     },
     "execution_count": 70,
     "metadata": {},
     "output_type": "execute_result"
    }
   ],
   "source": [
    "# calculating r2 on holdout data\n",
    "\n",
    "lm2_final.score(X_holdout_scaled2, y_holdout2)"
   ]
  },
  {
   "cell_type": "markdown",
   "metadata": {},
   "source": [
    "MAE on the log-scale doesn't mean the same thing. It's the mean abs error in terms of magnitude on the log base e scale"
   ]
  },
  {
   "cell_type": "markdown",
   "metadata": {},
   "source": [
    "### VISUALIZING FINAL MODEL RESULTS (normal scale)"
   ]
  },
  {
   "cell_type": "code",
   "execution_count": 71,
   "metadata": {},
   "outputs": [],
   "source": [
    "final_coefs = lm_final.coef_"
   ]
  },
  {
   "cell_type": "code",
   "execution_count": 72,
   "metadata": {},
   "outputs": [],
   "source": [
    "final_features = X_train1.columns"
   ]
  },
  {
   "cell_type": "code",
   "execution_count": 73,
   "metadata": {},
   "outputs": [],
   "source": [
    "coef_dict = dict(zip(final_features, final_coefs))"
   ]
  },
  {
   "cell_type": "code",
   "execution_count": 74,
   "metadata": {},
   "outputs": [],
   "source": [
    "sorted_coef_dict = dict(sorted(coef_dict.items(), key=lambda x: x[1], reverse=True))"
   ]
  },
  {
   "cell_type": "code",
   "execution_count": 75,
   "metadata": {},
   "outputs": [
    {
     "data": {
      "text/plain": [
       "{'release_order_CN_first': 26457112.169897016,\n",
       " 'budget_clean': 20208806.906971637,\n",
       " 'release_month_2.0': 14242462.045196498,\n",
       " 'running_time': 7459089.06640591,\n",
       " 'Action': 7245992.944836708,\n",
       " 'star_count_squared': 2411958.5881056786,\n",
       " 'director_Other': 1116356.590317769}"
      ]
     },
     "execution_count": 75,
     "metadata": {},
     "output_type": "execute_result"
    }
   ],
   "source": [
    "sorted_coef_dict"
   ]
  },
  {
   "cell_type": "code",
   "execution_count": 76,
   "metadata": {},
   "outputs": [
    {
     "data": {
      "image/png": "[encoded data removed]",
      "text/plain": [
       "<Figure size 432x288 with 1 Axes>"
      ]
     },
     "metadata": {
      "needs_background": "light"
     },
     "output_type": "display_data"
    }
   ],
   "source": [
    "# feature strength - coef size \n",
    "\n",
    "features_sorted = list(sorted_coef_dict.keys())\n",
    "coefs_sorted = list(sorted_coef_dict.values())\n",
    "\n",
    "\n",
    "sns.barplot(coefs_sorted, features_sorted)\n",
    "#plt.suptitle('Model Feature Strength')\n",
    "plt.xlabel('Regression Coefficient')\n",
    "\n",
    "plt.yticks(range(7) ,['Release order - CN first', 'Budget', 'February Release', 'Running Time', 'Action', 'Star Count Squared', 'Director: Other'])\n",
    "\n",
    "plt.tight_layout()\n",
    "\n",
    "plt.savefig('coefs1.svg')"
   ]
  },
  {
   "cell_type": "code",
   "execution_count": 77,
   "metadata": {},
   "outputs": [
    {
     "data": {
      "text/plain": [
       "<matplotlib.axes._subplots.AxesSubplot at 0x10c36e150>"
      ]
     },
     "execution_count": 77,
     "metadata": {},
     "output_type": "execute_result"
    },
    {
     "data": {
      "image/png": "[encoded data removed]",
      "text/plain": [
       "<Figure size 432x288 with 1 Axes>"
      ]
     },
     "metadata": {
      "needs_background": "light"
     },
     "output_type": "display_data"
    }
   ],
   "source": [
    "# budget dist\n",
    "\n",
    "sns.distplot(model_df_all.budget_clean)"
   ]
  },
  {
   "cell_type": "code",
   "execution_count": 78,
   "metadata": {},
   "outputs": [
    {
     "data": {
      "text/plain": [
       "''"
      ]
     },
     "execution_count": 78,
     "metadata": {},
     "output_type": "execute_result"
    },
    {
     "data": {
      "image/png": "[encoded data removed]",
      "text/plain": [
       "<Figure size 432x288 with 1 Axes>"
      ]
     },
     "metadata": {
      "needs_background": "light"
     },
     "output_type": "display_data"
    }
   ],
   "source": [
    "# prediction vs actual\n",
    "\n",
    "fig, ax = plt.subplots()\n",
    "\n",
    "sns.scatterplot(test_set_pred_clipped1, y_holdout1)\n",
    "plt.xlabel('Predicted Revenue')\n",
    "plt.ylabel('Actual revenue')\n",
    "ax.plot(np.linspace(0,175000000,2), np.linspace(0,175000000,2), ls=\"--\", c=\".7\")\n",
    "plt.tight_layout()\n",
    "plt.suptitle('Prediction vs. Actual')\n",
    "plt.xticks(np.linspace(0,175000000,8), ['$0M', '$25M','$50M','$75M','$100M', '$125M', '$150M', '$175M'])\n",
    "plt.yticks(np.linspace(0,400000000,5), ['$0M','$100M','$200M','$300M','$400M'])\n",
    "plt.savefig('predicted_vs_actual_rev.svg')\n",
    ";\n"
   ]
  },
  {
   "cell_type": "code",
   "execution_count": 79,
   "metadata": {},
   "outputs": [
    {
     "data": {
      "text/plain": [
       "''"
      ]
     },
     "execution_count": 79,
     "metadata": {},
     "output_type": "execute_result"
    },
    {
     "data": {
      "image/png": "[encoded data removed]",
      "text/plain": [
       "<Figure size 432x288 with 1 Axes>"
      ]
     },
     "metadata": {
      "needs_background": "light"
     },
     "output_type": "display_data"
    }
   ],
   "source": [
    "# prediction vs error\n",
    "\n",
    "res1 = y_holdout1 - test_set_pred1\n",
    "sns.scatterplot(test_set_pred_clipped1, res1)\n",
    "\n",
    "\n",
    "plt.xlabel('Predicted Revenue')\n",
    "plt.ylabel('Residuals')\n",
    "plt.tight_layout()\n",
    "\n",
    "xs = np.linspace(0,170000000,2)\n",
    "horiz_line_data = np.array([40 for i in range(len(xs))])\n",
    "plt.plot(xs, horiz_line_data, ls=\"--\", c=\".7\") \n",
    "\n",
    "#plt.xticks(np.linspace(0,170000000,8), ['$0M','25M','$50M','$75M','$100M','$125M','15M','$175M'])\n",
    "plt.yticks(np.linspace(-100000000,250000000,8), ['-$100M','-$50M','$0M','$50M','$100M', '$150M', '$200M', '$250M'])\n",
    "plt.suptitle('Prediction vs. Error')\n",
    "plt.savefig('residuals_vs_predicted_rev.svg')\n",
    ";\n"
   ]
  },
  {
   "cell_type": "code",
   "execution_count": 80,
   "metadata": {},
   "outputs": [
    {
     "data": {
      "image/png": "[encoded data removed]",
      "text/plain": [
       "<Figure size 432x288 with 1 Axes>"
      ]
     },
     "metadata": {
      "needs_background": "light"
     },
     "output_type": "display_data"
    }
   ],
   "source": [
    "# release timing\n",
    "\n",
    "sns.barplot(model_df_all.release_order_CN_first, model_df_all.china_total_gross)\n",
    "plt.xticks(range(2), ['Release Delayed', 'China First'])\n",
    "plt.xlabel(' ')\n",
    "plt.ylabel('Revenue')\n",
    "plt.suptitle(\"Release Delay\")\n",
    "plt.savefig('release_order.svg')"
   ]
  },
  {
   "cell_type": "code",
   "execution_count": 81,
   "metadata": {},
   "outputs": [
    {
     "data": {
      "image/png": "[encoded data removed]",
      "text/plain": [
       "<Figure size 432x288 with 1 Axes>"
      ]
     },
     "metadata": {
      "needs_background": "light"
     },
     "output_type": "display_data"
    }
   ],
   "source": [
    "\n",
    "\n",
    "sns.regplot(model_df_all.budget_clean, model_df_all.china_total_gross)\n",
    "plt.xlabel('Budget')\n",
    "plt.ylabel('Revenue')\n",
    "plt.suptitle(\"Revenue Predicted by Budget\")\n",
    "plt.xticks(np.linspace(0,350000000,8), ['$0M','$0.5M','$1M','$1.5M','$2M','$2.5M','3M','$3.5M'])\n",
    "plt.savefig('budget.svg');"
   ]
  },
  {
   "cell_type": "code",
   "execution_count": 82,
   "metadata": {},
   "outputs": [
    {
     "data": {
      "text/plain": [
       "<matplotlib.axes._subplots.AxesSubplot at 0x1a217d7890>"
      ]
     },
     "execution_count": 82,
     "metadata": {},
     "output_type": "execute_result"
    },
    {
     "data": {
      "image/png": "[encoded data removed]",
      "text/plain": [
       "<Figure size 432x288 with 1 Axes>"
      ]
     },
     "metadata": {
      "needs_background": "light"
     },
     "output_type": "display_data"
    }
   ],
   "source": [
    "# star_count_squared vs revenue\n",
    "\n",
    "sns.scatterplot(model_df_all.star_count_squared, model_df_all.china_total_gross)"
   ]
  },
  {
   "cell_type": "code",
   "execution_count": 83,
   "metadata": {},
   "outputs": [
    {
     "data": {
      "image/png": "[encoded data removed]",
      "text/plain": [
       "<Figure size 432x288 with 1 Axes>"
      ]
     },
     "metadata": {
      "needs_background": "light"
     },
     "output_type": "display_data"
    }
   ],
   "source": [
    "sns.barplot(model_df_all['release_month_2.0'], model_df_all.china_total_gross)\n",
    "plt.xticks(range(2), ['All other months', 'February releases'])\n",
    "plt.xlabel(' ')\n",
    "plt.ylabel('Revenue')\n",
    "plt.suptitle('Seasonality')\n",
    "plt.savefig('feb.svg')"
   ]
  },
  {
   "cell_type": "code",
   "execution_count": 84,
   "metadata": {},
   "outputs": [
    {
     "data": {
      "text/plain": [
       "''"
      ]
     },
     "execution_count": 84,
     "metadata": {},
     "output_type": "execute_result"
    },
    {
     "data": {
      "image/png": "[encoded data removed]",
      "text/plain": [
       "<Figure size 432x288 with 2 Axes>"
      ]
     },
     "metadata": {
      "needs_background": "light"
     },
     "output_type": "display_data"
    }
   ],
   "source": [
    "sns.heatmap(model_df_all[[ \n",
    "             'china_total_gross','budget_clean',\n",
    "                        #'director_Other', \n",
    "                        #'release_date_diff',\n",
    "                        'release_order_CN_first',\n",
    "                        'running_time',\n",
    "                        #'star_count',\n",
    "                        'star_count_squared',\n",
    "                        #'star_power_sum', \n",
    "                        #'mpaa_G', \n",
    "                        # 'mpaa_NC-17', \n",
    "                        #'mpaa_Not Rated', \n",
    "                        #'mpaa_PG', \n",
    "                        #'mpaa_PG-13',\n",
    "                        #'mpaa_R',\n",
    "                        'release_month_2.0', \n",
    "                        'Action']].corr(), cmap=\"seismic\", annot=True, vmin=-1, vmax=1)\n",
    "plt.savefig('correlation.svg')\n",
    ";"
   ]
  }
 ],
 "metadata": {
  "kernelspec": {
   "display_name": "Python 3",
   "language": "python",
   "name": "python3"
  },
  "language_info": {
   "codemirror_mode": {
    "name": "ipython",
    "version": 3
   },
   "file_extension": ".py",
   "mimetype": "text/x-python",
   "name": "python",
   "nbconvert_exporter": "python",
   "pygments_lexer": "ipython3",
   "version": "3.7.7"
  }
 },
 "nbformat": 4,
 "nbformat_minor": 4
}
