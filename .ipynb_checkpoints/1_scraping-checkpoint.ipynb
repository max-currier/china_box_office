{
 "cells": [
  {
   "cell_type": "markdown",
   "metadata": {},
   "source": [
    "# Project #2\n",
    "\n",
    "## Web Scraping\n",
    "\n",
    "### Websites to consider scraping\n",
    "* Top Worldwide Box Office by year [BOM](https://www.boxofficemojo.com/year/world/?ref_=bo_nb_in_tab)\n",
    "* Chinese top grossing films from [BOM](https://www.boxofficemojo.com/weekend/by-year/2019/?area=CN)\n",
    "* American ragings from [Rotton Tomatoes](https://www.rottentomatoes.com/)\n",
    "* Chinese film titles from [atmovies](http://www.atmovies.com.tw/movie/)\n",
    "* Chinese ratings from [douban](https://www.douban.com/)\n",
    "* Top grossing films in China [wiki](https://en.wikipedia.org/wiki/List_of_highest-grossing_films_in_China)  \n",
    "* Mainland China box office ranking [endata.com.cn](http://www.endata.com.cn/BoxOffice/BO/History/Movie/Alltimedomestic.html)\n",
    "* Top grossing directors worldwide [wiki](https://en.wikipedia.org/wiki/List_of_highest-grossing_film_directors)\n",
    "* Top grossing lead actors worldwide [the-numbers](https://www.the-numbers.com/box-office-star-records/international/lifetime-acting/top-grossing-leading-stars)\n",
    "\n",
    "\n",
    "Articles for context  \n",
    " \n",
    "* [China Film Insider](http://chinafilminsider.com/category/box-office/)\n",
    "* [Movie ratings](https://www.makeuseof.com/tag/best-movie-ratings-sites/#:~:text=IMDb%20is%20great%20for%20seeing%20what%20general%20audiences%20think%20of%20a%20movie.&text=Rotten%20Tomatoes%20offers%20the%20best,you%20should%20use%20Rotten%20Tomatoes.)\n",
    "* [Global films](https://qz.com/quartzy/1373949/hollywood-movies-are-truly-global-now/)\n",
    "* [Global film industryu](https://en.wikipedia.org/wiki/Film_industry#:~:text=The%20worldwide%20theatrical%20market%20had,Africa%20with%20US%249.5%20billion.)\n",
    "* [What makes a film successful in China?](https://www.greenhassonjanks.com/blog/what-makes-a-film-successful-in-china)\n",
    "* [China box office stats](https://variety.com/2020/film/news/china-box-office-2019-review-ne-zha-wandering-earth-avengers-1203455038/)  \n",
    "* [Marketing to China != marketing to HK](https://jingdaily.com/hong-kong-and-mainland-market-differences/) "
   ]
  },
  {
   "cell_type": "markdown",
   "metadata": {},
   "source": [
    "### Clickpath to get all BMO info\n",
    "\n",
    "1. [YEAR Worldwide Box Office](https://www.boxofficemojo.com/year/world/2020/)\n",
    "    * Get links to movie pages for all international movies in a year\n",
    "    * NEXT: Click on a movie name to reach...\n",
    "2. [Movie Page w/ international revenues](https://www.boxofficemojo.com/releasegroup/gr3944174085/?ref_=bo_ydw_table_1)\n",
    "    * Get \n",
    "        * Domestic, International, Worldwide and Chinese gross\n",
    "    * NEXT: click on 'Title Summary' to reach...\n",
    "3. [Movie Page w/ film information](https://www.boxofficemojo.com/title/tt1502397/?ref_=bo_gr_ti)\n",
    "    * Get \n",
    "        * Distributor\n",
    "        * Domestic opening\n",
    "        * Budget, Release date\n",
    "        * MPAA rating\n",
    "        * Running time\n",
    "        * Genres\n",
    "    * NEXT: click on 'Cast and Crew' to get...\n",
    "4. [Movie page w/ Cast/crew](https://www.boxofficemojo.com/title/tt1502397/credits/?ref_=bo_tt_tab#tabs)\n",
    "    * Get\n",
    "        * Crew (directors, writers, producers, etc)\n",
    "        * Cast"
   ]
  },
  {
   "cell_type": "markdown",
   "metadata": {},
   "source": [
    "### 1. Getting Links from Year Worldwide Box Office pages  \n",
    "#### 2020"
   ]
  },
  {
   "cell_type": "code",
   "execution_count": 1,
   "metadata": {},
   "outputs": [],
   "source": [
    "# Necessary imports\n",
    "import pandas as pd\n",
    "import numpy as np\n",
    "import requests\n",
    "from bs4 import BeautifulSoup\n",
    "import seaborn as sns\n",
    "import matplotlib.pyplot as plt\n",
    "import dateutil.parser\n",
    "import re\n",
    "\n",
    "%matplotlib inline\n"
   ]
  },
  {
   "cell_type": "markdown",
   "metadata": {},
   "source": [
    "Generating list of URLs"
   ]
  },
  {
   "cell_type": "code",
   "execution_count": 4,
   "metadata": {},
   "outputs": [],
   "source": [
    "# grabbing links to movie pages for each movie listed in WW box office in last 20 years (1 page/year)\n",
    "\n",
    "list_links = []\n",
    "\n",
    "for year in range(2000, 2021):                                            # choosing date range\n",
    "    link = \"https://www.boxofficemojo.com/year/world/{}/\".format(year)    # making list of yearly ww box office list pages\n",
    "    list_links.append(link)                                               \n"
   ]
  },
  {
   "cell_type": "code",
   "execution_count": 5,
   "metadata": {},
   "outputs": [
    {
     "name": "stdout",
     "output_type": "stream",
     "text": [
      "https://www.boxofficemojo.com/year/world/2000/ 200\n",
      "https://www.boxofficemojo.com/year/world/2001/ 200\n",
      "https://www.boxofficemojo.com/year/world/2002/ 200\n",
      "https://www.boxofficemojo.com/year/world/2003/ 200\n",
      "https://www.boxofficemojo.com/year/world/2004/ 200\n",
      "https://www.boxofficemojo.com/year/world/2005/ 200\n",
      "https://www.boxofficemojo.com/year/world/2006/ 200\n",
      "https://www.boxofficemojo.com/year/world/2007/ 200\n",
      "https://www.boxofficemojo.com/year/world/2008/ 200\n",
      "https://www.boxofficemojo.com/year/world/2009/ 200\n",
      "https://www.boxofficemojo.com/year/world/2010/ 200\n",
      "https://www.boxofficemojo.com/year/world/2011/ 200\n",
      "https://www.boxofficemojo.com/year/world/2012/ 200\n",
      "https://www.boxofficemojo.com/year/world/2013/ 200\n",
      "https://www.boxofficemojo.com/year/world/2014/ 200\n",
      "https://www.boxofficemojo.com/year/world/2015/ 200\n",
      "https://www.boxofficemojo.com/year/world/2016/ 200\n",
      "https://www.boxofficemojo.com/year/world/2017/ 200\n",
      "https://www.boxofficemojo.com/year/world/2018/ 200\n",
      "https://www.boxofficemojo.com/year/world/2019/ 200\n",
      "https://www.boxofficemojo.com/year/world/2020/ 200\n"
     ]
    }
   ],
   "source": [
    "# getting soup for each list page and parsing out soups for tables with links for each page\n",
    "\n",
    "rows = []    # will have all movie page links\n",
    "\n",
    "for url in list_links:\n",
    "    response = requests.get(url)                                                   # reading each list page (21 total)\n",
    "    print(url, response.status_code)                                               # checkign response is in 200s for each URL, prints below\n",
    "    page = response.text\n",
    "    soup = BeautifulSoup(page, \"html5lib\")                                         # getting soup for each list page\n",
    "    row = soup.find_all('td', class_='a-text-left mojo-field-type-release_group')  # narrowing soups down to only sections with movie page links \n",
    "    rows.append(row)                                                               # adding each soup to list, makes list of lists, each list featuring all links from a single year"
   ]
  },
  {
   "cell_type": "code",
   "execution_count": 42,
   "metadata": {},
   "outputs": [
    {
     "data": {
      "text/plain": [
       "bs4.element.ResultSet"
      ]
     },
     "execution_count": 42,
     "metadata": {},
     "output_type": "execute_result"
    }
   ],
   "source": [
    "type(rows[0])  # list of lists"
   ]
  },
  {
   "cell_type": "code",
   "execution_count": 56,
   "metadata": {},
   "outputs": [],
   "source": [
    "# taking each soup of tables and pulling \n",
    "\n",
    "mp_links = {}                                   # setting empty dict for key=name val=link\n",
    "# main_site = 'https://www.boxofficemojo.com'    \n",
    "\n",
    "for soup in rows:\n",
    "    for line in soup:                           # nested loop bc list of soups, each soup with many lines, iterates through each line of each soup to pull out a link from the line of soup element\n",
    "        \n",
    "        link = line.find('a')    \n",
    "        title, url = link.text, link['href']\n",
    "        mp_links[title] = url"
   ]
  },
  {
   "cell_type": "code",
   "execution_count": 44,
   "metadata": {},
   "outputs": [
    {
     "data": {
      "text/plain": [
       "12344"
      ]
     },
     "execution_count": 44,
     "metadata": {},
     "output_type": "execute_result"
    }
   ],
   "source": [
    "len(mp_links)    # this many URLs"
   ]
  },
  {
   "cell_type": "code",
   "execution_count": 92,
   "metadata": {},
   "outputs": [
    {
     "data": {
      "text/plain": [
       "'/releasegroup/gr403788293/?ref_=bo_ydw_table_2'"
      ]
     },
     "execution_count": 92,
     "metadata": {},
     "output_type": "execute_result"
    }
   ],
   "source": [
    "mp_links['The Lion King'] # example of dict entry for each movie"
   ]
  },
  {
   "cell_type": "code",
   "execution_count": 10,
   "metadata": {},
   "outputs": [],
   "source": [
    "# later, to get values to list:\n",
    "# x = list(mp_links.values())"
   ]
  },
  {
   "cell_type": "markdown",
   "metadata": {},
   "source": [
    "### 2. Getting gross from first movie page"
   ]
  },
  {
   "cell_type": "markdown",
   "metadata": {},
   "source": [
    "#### 2a. Testing for a single movie page"
   ]
  },
  {
   "cell_type": "code",
   "execution_count": 171,
   "metadata": {},
   "outputs": [],
   "source": [
    "response = requests.get('https://www.boxofficemojo.com/releasegroup/gr3844755973/?ref_=bo_ydw_table_53')                                                 "
   ]
  },
  {
   "cell_type": "code",
   "execution_count": 172,
   "metadata": {},
   "outputs": [
    {
     "data": {
      "text/plain": [
       "200"
      ]
     },
     "execution_count": 172,
     "metadata": {},
     "output_type": "execute_result"
    }
   ],
   "source": [
    "response.status_code"
   ]
  },
  {
   "cell_type": "code",
   "execution_count": 173,
   "metadata": {},
   "outputs": [],
   "source": [
    "page = response.text"
   ]
  },
  {
   "cell_type": "code",
   "execution_count": 174,
   "metadata": {},
   "outputs": [],
   "source": [
    "soup = BeautifulSoup(page, \"html5lib\") "
   ]
  },
  {
   "cell_type": "code",
   "execution_count": 175,
   "metadata": {},
   "outputs": [
    {
     "data": {
      "text/plain": [
       "'The Angry Birds Movie 2'"
      ]
     },
     "execution_count": 175,
     "metadata": {},
     "output_type": "execute_result"
    }
   ],
   "source": [
    "# title\n",
    "\n",
    "title = soup.find('h1', class_='a-size-extra-large').text\n",
    "title"
   ]
  },
  {
   "cell_type": "code",
   "execution_count": 176,
   "metadata": {},
   "outputs": [
    {
     "data": {
      "text/plain": [
       "'$41,667,116'"
      ]
     },
     "execution_count": 176,
     "metadata": {},
     "output_type": "execute_result"
    }
   ],
   "source": [
    "# domestic gross\n",
    "\n",
    "dtg = soup.find(class_='a-section a-spacing-none mojo-performance-summary-table').find_all('span', class_='money')[0].text\n",
    "dtg"
   ]
  },
  {
   "cell_type": "code",
   "execution_count": 177,
   "metadata": {},
   "outputs": [
    {
     "data": {
      "text/plain": [
       "'$106,124,931'"
      ]
     },
     "execution_count": 177,
     "metadata": {},
     "output_type": "execute_result"
    }
   ],
   "source": [
    "# international gross (when ddtg==itg, change itg to Nan)\n",
    "\n",
    "itg = soup.find(class_='a-section a-spacing-none mojo-performance-summary-table').find_all('span', class_='money')[1].text\n",
    "itg"
   ]
  },
  {
   "cell_type": "code",
   "execution_count": 178,
   "metadata": {},
   "outputs": [
    {
     "data": {
      "text/plain": [
       "'$147,792,047'"
      ]
     },
     "execution_count": 178,
     "metadata": {},
     "output_type": "execute_result"
    }
   ],
   "source": [
    "# worldwide gross - DO NOT COLLECT, JUST SUM ITG+DTG (when ddtg==itg, change itg to Nan)\n",
    "\n",
    "wtg = soup.find(class_='a-section a-spacing-none mojo-performance-summary-table').find_all('span', class_='money')[2].text\n",
    "wtg"
   ]
  },
  {
   "cell_type": "code",
   "execution_count": 179,
   "metadata": {},
   "outputs": [
    {
     "data": {
      "text/plain": [
       "'Aug 16, 2019'"
      ]
     },
     "execution_count": 179,
     "metadata": {},
     "output_type": "execute_result"
    }
   ],
   "source": [
    "# china release date\n",
    "\n",
    "cn_release = soup.find('td', text='China').findNext().findNext().text\n",
    "cn_release"
   ]
  },
  {
   "cell_type": "code",
   "execution_count": 180,
   "metadata": {},
   "outputs": [
    {
     "data": {
      "text/plain": [
       "'$9,238,982'"
      ]
     },
     "execution_count": 180,
     "metadata": {},
     "output_type": "execute_result"
    }
   ],
   "source": [
    "# china opening sales\n",
    "\n",
    "cn_opening = soup.find('td', text='China').findNext().findNext().findNext().text\n",
    "cn_opening"
   ]
  },
  {
   "cell_type": "code",
   "execution_count": 181,
   "metadata": {},
   "outputs": [
    {
     "data": {
      "text/plain": [
       "'$19,655,468'"
      ]
     },
     "execution_count": 181,
     "metadata": {},
     "output_type": "execute_result"
    }
   ],
   "source": [
    "# china gross\n",
    "\n",
    "ctg = soup.find('td', text='China').findNext().findNext().findNext().findNext().findNext().text\n",
    "ctg"
   ]
  },
  {
   "cell_type": "code",
   "execution_count": 182,
   "metadata": {},
   "outputs": [
    {
     "data": {
      "text/plain": [
       "'Aug 13, 2019'"
      ]
     },
     "execution_count": 182,
     "metadata": {},
     "output_type": "execute_result"
    }
   ],
   "source": [
    "# domestic release date\n",
    "\n",
    "dom_release = soup.find('td', text='Domestic').findNext().findNext().text\n",
    "dom_release"
   ]
  },
  {
   "cell_type": "code",
   "execution_count": 183,
   "metadata": {},
   "outputs": [
    {
     "data": {
      "text/plain": [
       "'$10,354,073'"
      ]
     },
     "execution_count": 183,
     "metadata": {},
     "output_type": "execute_result"
    }
   ],
   "source": [
    "# domestic opening sales\n",
    "\n",
    "dom_opening = soup.find('td', text='Domestic').findNext().findNext().findNext().text\n",
    "dom_opening"
   ]
  },
  {
   "cell_type": "code",
   "execution_count": 184,
   "metadata": {},
   "outputs": [
    {
     "data": {
      "text/plain": [
       "'/title/tt6095472/?ref_=bo_gr_ti'"
      ]
     },
     "execution_count": 184,
     "metadata": {},
     "output_type": "execute_result"
    }
   ],
   "source": [
    "# LINK TO TITLE SUMMARY PAGE\n",
    "\n",
    "summary_link_stub = soup.find('a', class_='a-link-normal mojo-title-link refiner-display-highlight')['href']\n",
    "summary_link_stub"
   ]
  },
  {
   "cell_type": "markdown",
   "metadata": {},
   "source": [
    "#### 2b. Functions to clean up strings"
   ]
  },
  {
   "cell_type": "code",
   "execution_count": 37,
   "metadata": {},
   "outputs": [],
   "source": [
    "def money_to_int(moneystring):\n",
    "    if moneystring:\n",
    "        moneystring = (str(moneystring).strip().replace('$', '').replace(',', '').replace('-', '').replace('\\n', '').replace('–', ''))\n",
    "        if len(moneystring) > 0:\n",
    "            return int(float(moneystring))\n",
    "        else: \n",
    "            return None\n",
    "    else:\n",
    "        return None\n",
    "\n",
    "def to_date(datestring):\n",
    "    if datestring:\n",
    "        date = dateutil.parser.parse(datestring)\n",
    "        return date\n",
    "    else:\n",
    "        return None\n",
    "    \n",
    "def runtime_to_minutes(runtimestring):\n",
    "    runtime = runtimestring.split()\n",
    "    try:\n",
    "        minutes = int(runtime[0])*60 + int(runtime[2])\n",
    "        return minutes\n",
    "    except:\n",
    "        return None\n",
    "\n",
    "def clean_text_string(text_string):\n",
    "    if text_string:\n",
    "        text_string = text_string.strip().replace('\\n', '').replace('See full company information', '')\n",
    "        return text_string\n",
    "    else:\n",
    "        return None"
   ]
  },
  {
   "cell_type": "markdown",
   "metadata": {},
   "source": [
    "#### 2c. Extend to all moviepages"
   ]
  },
  {
   "cell_type": "code",
   "execution_count": 444,
   "metadata": {},
   "outputs": [],
   "source": [
    "def get_ctg(soup):\n",
    "    \n",
    "    '''Takes a soup and returns the chinese gross if listed on first movie page or None if nothing is found.'''\n",
    "    \n",
    "    obj = soup.find('td', text='China')\n",
    "    \n",
    "    if not obj: \n",
    "        return None\n",
    "\n",
    "    gross = obj.findNext().findNext().findNext().findNext().findNext()\n",
    "    \n",
    "    if gross:\n",
    "        return gross.text \n",
    "    else:\n",
    "        return None\n",
    "    \n",
    "\n",
    "def get_itg(soup):\n",
    "    '''Takes a soup and returns the international gross if listed on first movie page or None if nothing is found.'''\n",
    "\n",
    "    itg = soup.find(class_='a-section a-spacing-none mojo-performance-summary-table').find_all('span', class_='money')[1].text\n",
    "    if itg != dtg:\n",
    "        return itg\n",
    "    else:\n",
    "        return None\n",
    "        \n",
    "    \n",
    "def get_opening_sales(soup, region):\n",
    "    \n",
    "    '''Takes a soup and a region (str either 'Domestic' of 'China') and\n",
    "    returns the regional opening sales from movie page or None if nothing is found.'''\n",
    "    \n",
    "    obj = soup.find('td', text=region)\n",
    "    \n",
    "    if not obj: \n",
    "        return None\n",
    "\n",
    "    sales = obj.findNext().findNext().findNext()\n",
    "    \n",
    "    if sales:\n",
    "        return sales.text \n",
    "    else:\n",
    "        return None\n",
    "\n",
    "    \n",
    "def get_release_date(soup, region):\n",
    "    \n",
    "    '''Takes a soup and a region (str either 'Domestic' of 'China') and\n",
    "    returns the regional release from movie page or None if nothing is found.'''\n",
    "    \n",
    "    obj = soup.find('td', text=region)\n",
    "    \n",
    "    if not obj: \n",
    "        return None\n",
    "\n",
    "    release = obj.findNext().findNext()\n",
    "    \n",
    "    if release:\n",
    "        return release.text \n",
    "    else:\n",
    "        return None\n",
    "\n",
    "def get_summary_page_link(soup):\n",
    "    '''Takes a soup and returns the SUMMARY page link stub if listed on FIRST movie page or None if nothing is found.'''\n",
    "\n",
    "    obj = soup.find('a', class_='a-link-normal mojo-title-link refiner-display-highlight')\n",
    "    \n",
    "    if not obj:\n",
    "        return None\n",
    "    \n",
    "    page_link = obj['href']\n",
    "    \n",
    "    if page_link:\n",
    "        return page_link\n",
    "    else:\n",
    "        return None\n",
    "    \n",
    "\n",
    "def get_cast_page_link(soup):\n",
    "    '''Takes a soup and returns the CAST page link stub if listed on SECOND movie page or None if nothing is found.'''\n",
    "\n",
    "    obj = soup.find('a', class_='a-size-base a-link-normal mojo-navigation-tab', text=\"Cast and Crew\")\n",
    "    \n",
    "    if not obj:\n",
    "        return None\n",
    "    \n",
    "    page_link = obj['href']\n",
    "    \n",
    "    if page_link:\n",
    "        return page_link\n",
    "    else:\n",
    "        return None"
   ]
  },
  {
   "cell_type": "code",
   "execution_count": 443,
   "metadata": {},
   "outputs": [
    {
     "data": {
      "text/plain": [
       "'/title/tt0120755/credits/?ref_=bo_tt_tab#tabs'"
      ]
     },
     "execution_count": 443,
     "metadata": {},
     "output_type": "execute_result"
    }
   ],
   "source": [
    "soup.find('a', class_='a-size-base a-link-normal mojo-navigation-tab', text=\"Cast and Crew\")['href']"
   ]
  },
  {
   "cell_type": "markdown",
   "metadata": {},
   "source": [
    "#### 2c. Extend to all moviepages"
   ]
  },
  {
   "cell_type": "code",
   "execution_count": 255,
   "metadata": {},
   "outputs": [],
   "source": [
    "def get_movie_dict_1(link):\n",
    "    '''\n",
    "    From BoxOfficeMojo link stub, request movie html, parse with BeautifulSoup, and\n",
    "    collect \n",
    "        'movie_title', \n",
    "        'china_total_gross', \n",
    "        'domestic_toal_gross', \n",
    "        'international_total_gross', \n",
    "        'china_opening_sales',\n",
    "        'domestic_opening_sales', \n",
    "        'china_release_date', \n",
    "        'dom_release_date', \n",
    "        'summary_link_stub'\n",
    "    Return information as a dictionary.\n",
    "    '''\n",
    "    \n",
    "    base_url = 'https://www.boxofficemojo.com'\n",
    "    \n",
    "    #Create full url to scrape\n",
    "    url = base_url + link\n",
    "    \n",
    "    # Request HTML and parse\n",
    "    response = requests.get(url)\n",
    "    page = response.text\n",
    "    soup = BeautifulSoup(page, \"html5lib\")\n",
    "\n",
    "    \n",
    "    headers = ['movie_title', 'china_total_gross', 'domestic_toal_gross', 'international_total_gross', 'china_opening_sales', 'domestic_opening_sales', 'china_release_date', 'dom_release_date', 'summary_link_stub']\n",
    "    \n",
    "    # Get title\n",
    "    title_string = soup.find('h1', class_='a-size-extra-large').text\n",
    "    title = title_string.split('-')[0].strip()\n",
    "\n",
    "    # Get China gross\n",
    "    raw_ctg = get_ctg(soup)\n",
    "    ctg = money_to_int(raw_ctg)\n",
    "    \n",
    "    # Get domestic gross\n",
    "    raw_dtg = soup.find(class_='a-section a-spacing-none mojo-performance-summary-table').find_all('span', class_='money')[0].text\n",
    "    dtg = money_to_int(raw_dtg)\n",
    "\n",
    "    # Get international gross (WHEN CLEANING, IF DTG==ITG, ITG SHOULD BE NAN)\n",
    "    raw_itg = get_itg(soup)\n",
    "    itg = money_to_int(raw_itg)\n",
    "    \n",
    "    # Get Worldwide gross - REMOVED FROM COLLECTION, CALC FROM DF LATER\n",
    "#     raw_wtg = soup.find(class_='a-section a-spacing-none mojo-performance-summary-table').find_all('span', class_='money')[2].text\n",
    "#     wtg = money_to_int(raw_wtg)\n",
    "    \n",
    "    # Get China opening sales\n",
    "    raw_cn_opening = get_opening_sales(soup, \"China\")\n",
    "    cn_opening = money_to_int(raw_cn_opening)\n",
    "    \n",
    "    # Get Domestic opening sales\n",
    "    raw_dom_opening = get_opening_sales(soup, \"Domestic\")\n",
    "    dom_opening = money_to_int(raw_dom_opening)\n",
    "\n",
    "    # Get China release date\n",
    "    raw_cn_release = get_release_date(soup, \"China\")\n",
    "    cn_release = to_date(raw_cn_release)\n",
    "\n",
    "    # Get Domestic release date\n",
    "    raw_dom_release = get_release_date(soup, \"Domestic\")\n",
    "    dom_release = to_date(raw_dom_release)\n",
    "\n",
    "    # Get link to summary page\n",
    "    summary_link_stub = get_summary_page_link(soup)\n",
    "    \n",
    "    #Create movie dictionary and return\n",
    "    movie_dict = dict(zip(headers, [title,\n",
    "                                ctg,\n",
    "                                dtg,\n",
    "                                itg, \n",
    "                                cn_opening,\n",
    "                                dom_opening,\n",
    "                                cn_release,\n",
    "                                dom_release,\n",
    "                                summary_link_stub]))\n",
    "\n",
    "    return movie_dict"
   ]
  },
  {
   "cell_type": "code",
   "execution_count": 256,
   "metadata": {},
   "outputs": [],
   "source": [
    "def scrape_mp_1(links, empty_list):\n",
    "    for link in links:\n",
    "        empty_list.append(get_movie_dict_1(link))"
   ]
  },
  {
   "cell_type": "code",
   "execution_count": 257,
   "metadata": {},
   "outputs": [
    {
     "data": {
      "text/plain": [
       "53.49066666666667"
      ]
     },
     "execution_count": 257,
     "metadata": {},
     "output_type": "execute_result"
    }
   ],
   "source": [
    "# calculating time to run scraper\n",
    " \n",
    "len(mp_links.values())                 # number of links to scrape, 12344 total\n",
    "lap_time = 26                          # timed function to scrape 100 sites (1 'lap'), took 26 seconds\n",
    "laps = len(mp_links.values()) / 100    # number of laps (of 100 sites) to scrape all sites in list \n",
    "total_sec = lap_time * laps            # number of sec to scrape all sites\n",
    "total_min = total_sec / 60             # number of minutes to scape all sites\n",
    "total_min"
   ]
  },
  {
   "cell_type": "code",
   "execution_count": 284,
   "metadata": {},
   "outputs": [
    {
     "ename": "ValueError",
     "evalue": "could not convert string to float: 'Latest Updates:            News |            Daily |            Weekend |            All Time |            International |            ShowdownsHelp            BoxOfficeMojo.com by IMDbPro  an            IMDb            company.                    © IMDb.com Inc. or its affiliates. All rights reserved.            Box Office Mojo and IMDb are trademarks or registered trademarks of IMDb.com Inc. or its affiliates.            Conditions of Use             and             Privacy Policy            under which this service is provided to you.'",
     "output_type": "error",
     "traceback": [
      "\u001b[0;31m---------------------------------------------------------------------------\u001b[0m",
      "\u001b[0;31mValueError\u001b[0m                                Traceback (most recent call last)",
      "\u001b[0;32m<ipython-input-284-486bc5afdb90>\u001b[0m in \u001b[0;36m<module>\u001b[0;34m\u001b[0m\n\u001b[1;32m      3\u001b[0m \u001b[0mmp_info_list_1\u001b[0m \u001b[0;34m=\u001b[0m \u001b[0;34m[\u001b[0m\u001b[0;34m]\u001b[0m\u001b[0;34m\u001b[0m\u001b[0;34m\u001b[0m\u001b[0m\n\u001b[1;32m      4\u001b[0m \u001b[0;34m\u001b[0m\u001b[0m\n\u001b[0;32m----> 5\u001b[0;31m \u001b[0mscrape_mp_1\u001b[0m\u001b[0;34m(\u001b[0m\u001b[0mmp_links\u001b[0m\u001b[0;34m.\u001b[0m\u001b[0mvalues\u001b[0m\u001b[0;34m(\u001b[0m\u001b[0;34m)\u001b[0m\u001b[0;34m,\u001b[0m \u001b[0mmp_info_list_1\u001b[0m\u001b[0;34m)\u001b[0m\u001b[0;34m\u001b[0m\u001b[0;34m\u001b[0m\u001b[0m\n\u001b[0m",
      "\u001b[0;32m<ipython-input-256-f4a188a0c205>\u001b[0m in \u001b[0;36mscrape_mp_1\u001b[0;34m(links, empty_list)\u001b[0m\n\u001b[1;32m      1\u001b[0m \u001b[0;32mdef\u001b[0m \u001b[0mscrape_mp_1\u001b[0m\u001b[0;34m(\u001b[0m\u001b[0mlinks\u001b[0m\u001b[0;34m,\u001b[0m \u001b[0mempty_list\u001b[0m\u001b[0;34m)\u001b[0m\u001b[0;34m:\u001b[0m\u001b[0;34m\u001b[0m\u001b[0;34m\u001b[0m\u001b[0m\n\u001b[1;32m      2\u001b[0m     \u001b[0;32mfor\u001b[0m \u001b[0mlink\u001b[0m \u001b[0;32min\u001b[0m \u001b[0mlinks\u001b[0m\u001b[0;34m:\u001b[0m\u001b[0;34m\u001b[0m\u001b[0;34m\u001b[0m\u001b[0m\n\u001b[0;32m----> 3\u001b[0;31m         \u001b[0mempty_list\u001b[0m\u001b[0;34m.\u001b[0m\u001b[0mappend\u001b[0m\u001b[0;34m(\u001b[0m\u001b[0mget_movie_dict_1\u001b[0m\u001b[0;34m(\u001b[0m\u001b[0mlink\u001b[0m\u001b[0;34m)\u001b[0m\u001b[0;34m)\u001b[0m\u001b[0;34m\u001b[0m\u001b[0;34m\u001b[0m\u001b[0m\n\u001b[0m",
      "\u001b[0;32m<ipython-input-255-e2e35432a15d>\u001b[0m in \u001b[0;36mget_movie_dict_1\u001b[0;34m(link)\u001b[0m\n\u001b[1;32m     34\u001b[0m     \u001b[0;31m# Get China gross\u001b[0m\u001b[0;34m\u001b[0m\u001b[0;34m\u001b[0m\u001b[0;34m\u001b[0m\u001b[0m\n\u001b[1;32m     35\u001b[0m     \u001b[0mraw_ctg\u001b[0m \u001b[0;34m=\u001b[0m \u001b[0mget_ctg\u001b[0m\u001b[0;34m(\u001b[0m\u001b[0msoup\u001b[0m\u001b[0;34m)\u001b[0m\u001b[0;34m\u001b[0m\u001b[0;34m\u001b[0m\u001b[0m\n\u001b[0;32m---> 36\u001b[0;31m     \u001b[0mctg\u001b[0m \u001b[0;34m=\u001b[0m \u001b[0mmoney_to_int\u001b[0m\u001b[0;34m(\u001b[0m\u001b[0mraw_ctg\u001b[0m\u001b[0;34m)\u001b[0m\u001b[0;34m\u001b[0m\u001b[0;34m\u001b[0m\u001b[0m\n\u001b[0m\u001b[1;32m     37\u001b[0m \u001b[0;34m\u001b[0m\u001b[0m\n\u001b[1;32m     38\u001b[0m     \u001b[0;31m# Get domestic gross\u001b[0m\u001b[0;34m\u001b[0m\u001b[0;34m\u001b[0m\u001b[0;34m\u001b[0m\u001b[0m\n",
      "\u001b[0;32m<ipython-input-206-c1748a0084de>\u001b[0m in \u001b[0;36mmoney_to_int\u001b[0;34m(moneystring)\u001b[0m\n\u001b[1;32m      3\u001b[0m         \u001b[0mmoneystring\u001b[0m \u001b[0;34m=\u001b[0m \u001b[0;34m(\u001b[0m\u001b[0mstr\u001b[0m\u001b[0;34m(\u001b[0m\u001b[0mmoneystring\u001b[0m\u001b[0;34m)\u001b[0m\u001b[0;34m.\u001b[0m\u001b[0mstrip\u001b[0m\u001b[0;34m(\u001b[0m\u001b[0;34m)\u001b[0m\u001b[0;34m.\u001b[0m\u001b[0mreplace\u001b[0m\u001b[0;34m(\u001b[0m\u001b[0;34m'$'\u001b[0m\u001b[0;34m,\u001b[0m \u001b[0;34m''\u001b[0m\u001b[0;34m)\u001b[0m\u001b[0;34m.\u001b[0m\u001b[0mreplace\u001b[0m\u001b[0;34m(\u001b[0m\u001b[0;34m','\u001b[0m\u001b[0;34m,\u001b[0m \u001b[0;34m''\u001b[0m\u001b[0;34m)\u001b[0m\u001b[0;34m.\u001b[0m\u001b[0mreplace\u001b[0m\u001b[0;34m(\u001b[0m\u001b[0;34m'-'\u001b[0m\u001b[0;34m,\u001b[0m \u001b[0;34m''\u001b[0m\u001b[0;34m)\u001b[0m\u001b[0;34m.\u001b[0m\u001b[0mreplace\u001b[0m\u001b[0;34m(\u001b[0m\u001b[0;34m'\\n'\u001b[0m\u001b[0;34m,\u001b[0m \u001b[0;34m''\u001b[0m\u001b[0;34m)\u001b[0m\u001b[0;34m.\u001b[0m\u001b[0mreplace\u001b[0m\u001b[0;34m(\u001b[0m\u001b[0;34m'–'\u001b[0m\u001b[0;34m,\u001b[0m \u001b[0;34m''\u001b[0m\u001b[0;34m)\u001b[0m\u001b[0;34m)\u001b[0m\u001b[0;34m\u001b[0m\u001b[0;34m\u001b[0m\u001b[0m\n\u001b[1;32m      4\u001b[0m         \u001b[0;32mif\u001b[0m \u001b[0mlen\u001b[0m\u001b[0;34m(\u001b[0m\u001b[0mmoneystring\u001b[0m\u001b[0;34m)\u001b[0m \u001b[0;34m>\u001b[0m \u001b[0;36m0\u001b[0m\u001b[0;34m:\u001b[0m\u001b[0;34m\u001b[0m\u001b[0;34m\u001b[0m\u001b[0m\n\u001b[0;32m----> 5\u001b[0;31m             \u001b[0;32mreturn\u001b[0m \u001b[0mint\u001b[0m\u001b[0;34m(\u001b[0m\u001b[0mfloat\u001b[0m\u001b[0;34m(\u001b[0m\u001b[0mmoneystring\u001b[0m\u001b[0;34m)\u001b[0m\u001b[0;34m)\u001b[0m\u001b[0;34m\u001b[0m\u001b[0;34m\u001b[0m\u001b[0m\n\u001b[0m\u001b[1;32m      6\u001b[0m         \u001b[0;32melse\u001b[0m\u001b[0;34m:\u001b[0m\u001b[0;34m\u001b[0m\u001b[0;34m\u001b[0m\u001b[0m\n\u001b[1;32m      7\u001b[0m             \u001b[0;32mreturn\u001b[0m \u001b[0;32mNone\u001b[0m\u001b[0;34m\u001b[0m\u001b[0;34m\u001b[0m\u001b[0m\n",
      "\u001b[0;31mValueError\u001b[0m: could not convert string to float: 'Latest Updates:            News |            Daily |            Weekend |            All Time |            International |            ShowdownsHelp            BoxOfficeMojo.com by IMDbPro  an            IMDb            company.                    © IMDb.com Inc. or its affiliates. All rights reserved.            Box Office Mojo and IMDb are trademarks or registered trademarks of IMDb.com Inc. or its affiliates.            Conditions of Use             and             Privacy Policy            under which this service is provided to you.'"
     ]
    }
   ],
   "source": [
    "# RUNNING SCRAPER ON FIRST ROUND OF MOVIE PAGES - FIRST ATTEMPT\n",
    "\n",
    "mp_info_list_1 = []      # ONLY RUN THIS LINE THE FIRST TIME USING --- DO NOT USE IN SUBSEQUENT ATTEMPS WHEN PICKIN UP HALFWAY DOWN LIST\n",
    "\n",
    "scrape_mp_1(mp_links.values(), mp_info_list_1)"
   ]
  },
  {
   "cell_type": "code",
   "execution_count": null,
   "metadata": {},
   "outputs": [],
   "source": [
    "mp_info_1 = pd.DataFrame(mp_info_list_1)  #convert list of dict to df\n",
    "mp_info_1.set_index('movie_title', inplace=True)\n"
   ]
  },
  {
   "cell_type": "code",
   "execution_count": 261,
   "metadata": {},
   "outputs": [
    {
     "data": {
      "text/plain": [
       "4829"
      ]
     },
     "execution_count": 261,
     "metadata": {},
     "output_type": "execute_result"
    }
   ],
   "source": [
    "# scraping stopped after 4829 sites (~40% through) bc missing China Opening sales data on page\n",
    "#############################################################################################################\n",
    "# NOTE WHEN CLEANING DATA, IF CHINA GROSS BUT NO CHINA OPENING, CHINA OPENING IS GROSS AND THERE IS NO GROSS#\n",
    "#############################################################################################################\n",
    "len(mp_info_list_1)"
   ]
  },
  {
   "cell_type": "code",
   "execution_count": 285,
   "metadata": {},
   "outputs": [
    {
     "data": {
      "text/plain": [
       "{'movie_title': 'Star Trek',\n",
       " 'china_total_gross': 8916639,\n",
       " 'domestic_toal_gross': 257730019,\n",
       " 'international_total_gross': 127950427,\n",
       " 'china_opening_sales': None,\n",
       " 'domestic_opening_sales': 75204289,\n",
       " 'china_release_date': datetime.datetime(2009, 5, 15, 0, 0),\n",
       " 'dom_release_date': datetime.datetime(2009, 5, 8, 0, 0),\n",
       " 'summary_link_stub': '/title/tt0796366/?ref_=bo_gr_ti'}"
      ]
     },
     "execution_count": 285,
     "metadata": {},
     "output_type": "execute_result"
    }
   ],
   "source": [
    "# last movie scraped on first pass\n",
    "\n",
    "mp_info_list_1[4828]"
   ]
  },
  {
   "cell_type": "code",
   "execution_count": 286,
   "metadata": {},
   "outputs": [
    {
     "data": {
      "text/plain": [
       "'/releasegroup/gr2599703045/?ref_=bo_ydw_table_13'"
      ]
     },
     "execution_count": 286,
     "metadata": {},
     "output_type": "execute_result"
    }
   ],
   "source": [
    "# making list of all links\n",
    "\n",
    "mp_links_list = list(mp_links.values())\n",
    "\n",
    "# checking that list order lines up with dict order (also checked 1 before)\n",
    "mp_links_list[4828]"
   ]
  },
  {
   "cell_type": "code",
   "execution_count": 287,
   "metadata": {},
   "outputs": [
    {
     "data": {
      "text/plain": [
       "7513"
      ]
     },
     "execution_count": 287,
     "metadata": {},
     "output_type": "execute_result"
    }
   ],
   "source": [
    "# new list with only remaining titles to scrape\n",
    "# SKIPPED PROBLEMATIC ENTRY (STAR WARS 2009, MONSTERS VS ALIENS, TERMINATOR SALVATION)\n",
    "\n",
    "mp_links_list2 = mp_links_list[4831:]\n",
    "len(mp_links_list2)"
   ]
  },
  {
   "cell_type": "code",
   "execution_count": 288,
   "metadata": {},
   "outputs": [
    {
     "ename": "ValueError",
     "evalue": "could not convert string to float: 'Latest Updates:            News |            Daily |            Weekend |            All Time |            International |            ShowdownsHelp            BoxOfficeMojo.com by IMDbPro  an            IMDb            company.                    © IMDb.com Inc. or its affiliates. All rights reserved.            Box Office Mojo and IMDb are trademarks or registered trademarks of IMDb.com Inc. or its affiliates.            Conditions of Use             and             Privacy Policy            under which this service is provided to you.'",
     "output_type": "error",
     "traceback": [
      "\u001b[0;31m---------------------------------------------------------------------------\u001b[0m",
      "\u001b[0;31mValueError\u001b[0m                                Traceback (most recent call last)",
      "\u001b[0;32m<ipython-input-288-aff07ab7e01c>\u001b[0m in \u001b[0;36m<module>\u001b[0;34m\u001b[0m\n\u001b[1;32m      1\u001b[0m \u001b[0;31m# RUNNING SCRAPER ON FIRST ROUND OF MOVIE PAGES - SECOND ATTEMPT\u001b[0m\u001b[0;34m\u001b[0m\u001b[0;34m\u001b[0m\u001b[0;34m\u001b[0m\u001b[0m\n\u001b[1;32m      2\u001b[0m \u001b[0;34m\u001b[0m\u001b[0m\n\u001b[0;32m----> 3\u001b[0;31m \u001b[0mscrape_mp_1\u001b[0m\u001b[0;34m(\u001b[0m\u001b[0mmp_links_list2\u001b[0m\u001b[0;34m,\u001b[0m \u001b[0mmp_info_list_1\u001b[0m\u001b[0;34m)\u001b[0m\u001b[0;34m\u001b[0m\u001b[0;34m\u001b[0m\u001b[0m\n\u001b[0m",
      "\u001b[0;32m<ipython-input-256-f4a188a0c205>\u001b[0m in \u001b[0;36mscrape_mp_1\u001b[0;34m(links, empty_list)\u001b[0m\n\u001b[1;32m      1\u001b[0m \u001b[0;32mdef\u001b[0m \u001b[0mscrape_mp_1\u001b[0m\u001b[0;34m(\u001b[0m\u001b[0mlinks\u001b[0m\u001b[0;34m,\u001b[0m \u001b[0mempty_list\u001b[0m\u001b[0;34m)\u001b[0m\u001b[0;34m:\u001b[0m\u001b[0;34m\u001b[0m\u001b[0;34m\u001b[0m\u001b[0m\n\u001b[1;32m      2\u001b[0m     \u001b[0;32mfor\u001b[0m \u001b[0mlink\u001b[0m \u001b[0;32min\u001b[0m \u001b[0mlinks\u001b[0m\u001b[0;34m:\u001b[0m\u001b[0;34m\u001b[0m\u001b[0;34m\u001b[0m\u001b[0m\n\u001b[0;32m----> 3\u001b[0;31m         \u001b[0mempty_list\u001b[0m\u001b[0;34m.\u001b[0m\u001b[0mappend\u001b[0m\u001b[0;34m(\u001b[0m\u001b[0mget_movie_dict_1\u001b[0m\u001b[0;34m(\u001b[0m\u001b[0mlink\u001b[0m\u001b[0;34m)\u001b[0m\u001b[0;34m)\u001b[0m\u001b[0;34m\u001b[0m\u001b[0;34m\u001b[0m\u001b[0m\n\u001b[0m",
      "\u001b[0;32m<ipython-input-255-e2e35432a15d>\u001b[0m in \u001b[0;36mget_movie_dict_1\u001b[0;34m(link)\u001b[0m\n\u001b[1;32m     34\u001b[0m     \u001b[0;31m# Get China gross\u001b[0m\u001b[0;34m\u001b[0m\u001b[0;34m\u001b[0m\u001b[0;34m\u001b[0m\u001b[0m\n\u001b[1;32m     35\u001b[0m     \u001b[0mraw_ctg\u001b[0m \u001b[0;34m=\u001b[0m \u001b[0mget_ctg\u001b[0m\u001b[0;34m(\u001b[0m\u001b[0msoup\u001b[0m\u001b[0;34m)\u001b[0m\u001b[0;34m\u001b[0m\u001b[0;34m\u001b[0m\u001b[0m\n\u001b[0;32m---> 36\u001b[0;31m     \u001b[0mctg\u001b[0m \u001b[0;34m=\u001b[0m \u001b[0mmoney_to_int\u001b[0m\u001b[0;34m(\u001b[0m\u001b[0mraw_ctg\u001b[0m\u001b[0;34m)\u001b[0m\u001b[0;34m\u001b[0m\u001b[0;34m\u001b[0m\u001b[0m\n\u001b[0m\u001b[1;32m     37\u001b[0m \u001b[0;34m\u001b[0m\u001b[0m\n\u001b[1;32m     38\u001b[0m     \u001b[0;31m# Get domestic gross\u001b[0m\u001b[0;34m\u001b[0m\u001b[0;34m\u001b[0m\u001b[0;34m\u001b[0m\u001b[0m\n",
      "\u001b[0;32m<ipython-input-206-c1748a0084de>\u001b[0m in \u001b[0;36mmoney_to_int\u001b[0;34m(moneystring)\u001b[0m\n\u001b[1;32m      3\u001b[0m         \u001b[0mmoneystring\u001b[0m \u001b[0;34m=\u001b[0m \u001b[0;34m(\u001b[0m\u001b[0mstr\u001b[0m\u001b[0;34m(\u001b[0m\u001b[0mmoneystring\u001b[0m\u001b[0;34m)\u001b[0m\u001b[0;34m.\u001b[0m\u001b[0mstrip\u001b[0m\u001b[0;34m(\u001b[0m\u001b[0;34m)\u001b[0m\u001b[0;34m.\u001b[0m\u001b[0mreplace\u001b[0m\u001b[0;34m(\u001b[0m\u001b[0;34m'$'\u001b[0m\u001b[0;34m,\u001b[0m \u001b[0;34m''\u001b[0m\u001b[0;34m)\u001b[0m\u001b[0;34m.\u001b[0m\u001b[0mreplace\u001b[0m\u001b[0;34m(\u001b[0m\u001b[0;34m','\u001b[0m\u001b[0;34m,\u001b[0m \u001b[0;34m''\u001b[0m\u001b[0;34m)\u001b[0m\u001b[0;34m.\u001b[0m\u001b[0mreplace\u001b[0m\u001b[0;34m(\u001b[0m\u001b[0;34m'-'\u001b[0m\u001b[0;34m,\u001b[0m \u001b[0;34m''\u001b[0m\u001b[0;34m)\u001b[0m\u001b[0;34m.\u001b[0m\u001b[0mreplace\u001b[0m\u001b[0;34m(\u001b[0m\u001b[0;34m'\\n'\u001b[0m\u001b[0;34m,\u001b[0m \u001b[0;34m''\u001b[0m\u001b[0;34m)\u001b[0m\u001b[0;34m.\u001b[0m\u001b[0mreplace\u001b[0m\u001b[0;34m(\u001b[0m\u001b[0;34m'–'\u001b[0m\u001b[0;34m,\u001b[0m \u001b[0;34m''\u001b[0m\u001b[0;34m)\u001b[0m\u001b[0;34m)\u001b[0m\u001b[0;34m\u001b[0m\u001b[0;34m\u001b[0m\u001b[0m\n\u001b[1;32m      4\u001b[0m         \u001b[0;32mif\u001b[0m \u001b[0mlen\u001b[0m\u001b[0;34m(\u001b[0m\u001b[0mmoneystring\u001b[0m\u001b[0;34m)\u001b[0m \u001b[0;34m>\u001b[0m \u001b[0;36m0\u001b[0m\u001b[0;34m:\u001b[0m\u001b[0;34m\u001b[0m\u001b[0;34m\u001b[0m\u001b[0m\n\u001b[0;32m----> 5\u001b[0;31m             \u001b[0;32mreturn\u001b[0m \u001b[0mint\u001b[0m\u001b[0;34m(\u001b[0m\u001b[0mfloat\u001b[0m\u001b[0;34m(\u001b[0m\u001b[0mmoneystring\u001b[0m\u001b[0;34m)\u001b[0m\u001b[0;34m)\u001b[0m\u001b[0;34m\u001b[0m\u001b[0;34m\u001b[0m\u001b[0m\n\u001b[0m\u001b[1;32m      6\u001b[0m         \u001b[0;32melse\u001b[0m\u001b[0;34m:\u001b[0m\u001b[0;34m\u001b[0m\u001b[0;34m\u001b[0m\u001b[0m\n\u001b[1;32m      7\u001b[0m             \u001b[0;32mreturn\u001b[0m \u001b[0;32mNone\u001b[0m\u001b[0;34m\u001b[0m\u001b[0;34m\u001b[0m\u001b[0m\n",
      "\u001b[0;31mValueError\u001b[0m: could not convert string to float: 'Latest Updates:            News |            Daily |            Weekend |            All Time |            International |            ShowdownsHelp            BoxOfficeMojo.com by IMDbPro  an            IMDb            company.                    © IMDb.com Inc. or its affiliates. All rights reserved.            Box Office Mojo and IMDb are trademarks or registered trademarks of IMDb.com Inc. or its affiliates.            Conditions of Use             and             Privacy Policy            under which this service is provided to you.'"
     ]
    }
   ],
   "source": [
    "# RUNNING SCRAPER ON FIRST ROUND OF MOVIE PAGES - SECOND ATTEMPT\n",
    "\n",
    "scrape_mp_1(mp_links_list2, mp_info_list_1)"
   ]
  },
  {
   "cell_type": "code",
   "execution_count": 289,
   "metadata": {},
   "outputs": [
    {
     "data": {
      "text/plain": [
       "5909"
      ]
     },
     "execution_count": 289,
     "metadata": {},
     "output_type": "execute_result"
    }
   ],
   "source": [
    "len(mp_info_list_1)"
   ]
  },
  {
   "cell_type": "code",
   "execution_count": 299,
   "metadata": {},
   "outputs": [
    {
     "data": {
      "text/plain": [
       "6432"
      ]
     },
     "execution_count": 299,
     "metadata": {},
     "output_type": "execute_result"
    }
   ],
   "source": [
    "mp_links_list3 = mp_links_list[(5912):]    # skipped 5909-11\n",
    "len(mp_links_list3)"
   ]
  },
  {
   "cell_type": "code",
   "execution_count": 295,
   "metadata": {},
   "outputs": [
    {
     "ename": "ValueError",
     "evalue": "could not convert string to float: 'Latest Updates:            News |            Daily |            Weekend |            All Time |            International |            ShowdownsHelp            BoxOfficeMojo.com by IMDbPro  an            IMDb            company.                    © IMDb.com Inc. or its affiliates. All rights reserved.            Box Office Mojo and IMDb are trademarks or registered trademarks of IMDb.com Inc. or its affiliates.            Conditions of Use             and             Privacy Policy            under which this service is provided to you.'",
     "output_type": "error",
     "traceback": [
      "\u001b[0;31m---------------------------------------------------------------------------\u001b[0m",
      "\u001b[0;31mValueError\u001b[0m                                Traceback (most recent call last)",
      "\u001b[0;32m<ipython-input-295-11dfd6d84fcd>\u001b[0m in \u001b[0;36m<module>\u001b[0;34m\u001b[0m\n\u001b[1;32m      1\u001b[0m \u001b[0;31m# RUNNING SCRAPER ON FIRST ROUND OF MOVIE PAGES - THIRD ATTEMPT\u001b[0m\u001b[0;34m\u001b[0m\u001b[0;34m\u001b[0m\u001b[0;34m\u001b[0m\u001b[0m\n\u001b[1;32m      2\u001b[0m \u001b[0;34m\u001b[0m\u001b[0m\n\u001b[0;32m----> 3\u001b[0;31m \u001b[0mscrape_mp_1\u001b[0m\u001b[0;34m(\u001b[0m\u001b[0mmp_links_list3\u001b[0m\u001b[0;34m,\u001b[0m \u001b[0mmp_info_list_1\u001b[0m\u001b[0;34m)\u001b[0m\u001b[0;34m\u001b[0m\u001b[0;34m\u001b[0m\u001b[0m\n\u001b[0m",
      "\u001b[0;32m<ipython-input-256-f4a188a0c205>\u001b[0m in \u001b[0;36mscrape_mp_1\u001b[0;34m(links, empty_list)\u001b[0m\n\u001b[1;32m      1\u001b[0m \u001b[0;32mdef\u001b[0m \u001b[0mscrape_mp_1\u001b[0m\u001b[0;34m(\u001b[0m\u001b[0mlinks\u001b[0m\u001b[0;34m,\u001b[0m \u001b[0mempty_list\u001b[0m\u001b[0;34m)\u001b[0m\u001b[0;34m:\u001b[0m\u001b[0;34m\u001b[0m\u001b[0;34m\u001b[0m\u001b[0m\n\u001b[1;32m      2\u001b[0m     \u001b[0;32mfor\u001b[0m \u001b[0mlink\u001b[0m \u001b[0;32min\u001b[0m \u001b[0mlinks\u001b[0m\u001b[0;34m:\u001b[0m\u001b[0;34m\u001b[0m\u001b[0;34m\u001b[0m\u001b[0m\n\u001b[0;32m----> 3\u001b[0;31m         \u001b[0mempty_list\u001b[0m\u001b[0;34m.\u001b[0m\u001b[0mappend\u001b[0m\u001b[0;34m(\u001b[0m\u001b[0mget_movie_dict_1\u001b[0m\u001b[0;34m(\u001b[0m\u001b[0mlink\u001b[0m\u001b[0;34m)\u001b[0m\u001b[0;34m)\u001b[0m\u001b[0;34m\u001b[0m\u001b[0;34m\u001b[0m\u001b[0m\n\u001b[0m",
      "\u001b[0;32m<ipython-input-255-e2e35432a15d>\u001b[0m in \u001b[0;36mget_movie_dict_1\u001b[0;34m(link)\u001b[0m\n\u001b[1;32m     34\u001b[0m     \u001b[0;31m# Get China gross\u001b[0m\u001b[0;34m\u001b[0m\u001b[0;34m\u001b[0m\u001b[0;34m\u001b[0m\u001b[0m\n\u001b[1;32m     35\u001b[0m     \u001b[0mraw_ctg\u001b[0m \u001b[0;34m=\u001b[0m \u001b[0mget_ctg\u001b[0m\u001b[0;34m(\u001b[0m\u001b[0msoup\u001b[0m\u001b[0;34m)\u001b[0m\u001b[0;34m\u001b[0m\u001b[0;34m\u001b[0m\u001b[0m\n\u001b[0;32m---> 36\u001b[0;31m     \u001b[0mctg\u001b[0m \u001b[0;34m=\u001b[0m \u001b[0mmoney_to_int\u001b[0m\u001b[0;34m(\u001b[0m\u001b[0mraw_ctg\u001b[0m\u001b[0;34m)\u001b[0m\u001b[0;34m\u001b[0m\u001b[0;34m\u001b[0m\u001b[0m\n\u001b[0m\u001b[1;32m     37\u001b[0m \u001b[0;34m\u001b[0m\u001b[0m\n\u001b[1;32m     38\u001b[0m     \u001b[0;31m# Get domestic gross\u001b[0m\u001b[0;34m\u001b[0m\u001b[0;34m\u001b[0m\u001b[0;34m\u001b[0m\u001b[0m\n",
      "\u001b[0;32m<ipython-input-206-c1748a0084de>\u001b[0m in \u001b[0;36mmoney_to_int\u001b[0;34m(moneystring)\u001b[0m\n\u001b[1;32m      3\u001b[0m         \u001b[0mmoneystring\u001b[0m \u001b[0;34m=\u001b[0m \u001b[0;34m(\u001b[0m\u001b[0mstr\u001b[0m\u001b[0;34m(\u001b[0m\u001b[0mmoneystring\u001b[0m\u001b[0;34m)\u001b[0m\u001b[0;34m.\u001b[0m\u001b[0mstrip\u001b[0m\u001b[0;34m(\u001b[0m\u001b[0;34m)\u001b[0m\u001b[0;34m.\u001b[0m\u001b[0mreplace\u001b[0m\u001b[0;34m(\u001b[0m\u001b[0;34m'$'\u001b[0m\u001b[0;34m,\u001b[0m \u001b[0;34m''\u001b[0m\u001b[0;34m)\u001b[0m\u001b[0;34m.\u001b[0m\u001b[0mreplace\u001b[0m\u001b[0;34m(\u001b[0m\u001b[0;34m','\u001b[0m\u001b[0;34m,\u001b[0m \u001b[0;34m''\u001b[0m\u001b[0;34m)\u001b[0m\u001b[0;34m.\u001b[0m\u001b[0mreplace\u001b[0m\u001b[0;34m(\u001b[0m\u001b[0;34m'-'\u001b[0m\u001b[0;34m,\u001b[0m \u001b[0;34m''\u001b[0m\u001b[0;34m)\u001b[0m\u001b[0;34m.\u001b[0m\u001b[0mreplace\u001b[0m\u001b[0;34m(\u001b[0m\u001b[0;34m'\\n'\u001b[0m\u001b[0;34m,\u001b[0m \u001b[0;34m''\u001b[0m\u001b[0;34m)\u001b[0m\u001b[0;34m.\u001b[0m\u001b[0mreplace\u001b[0m\u001b[0;34m(\u001b[0m\u001b[0;34m'–'\u001b[0m\u001b[0;34m,\u001b[0m \u001b[0;34m''\u001b[0m\u001b[0;34m)\u001b[0m\u001b[0;34m)\u001b[0m\u001b[0;34m\u001b[0m\u001b[0;34m\u001b[0m\u001b[0m\n\u001b[1;32m      4\u001b[0m         \u001b[0;32mif\u001b[0m \u001b[0mlen\u001b[0m\u001b[0;34m(\u001b[0m\u001b[0mmoneystring\u001b[0m\u001b[0;34m)\u001b[0m \u001b[0;34m>\u001b[0m \u001b[0;36m0\u001b[0m\u001b[0;34m:\u001b[0m\u001b[0;34m\u001b[0m\u001b[0;34m\u001b[0m\u001b[0m\n\u001b[0;32m----> 5\u001b[0;31m             \u001b[0;32mreturn\u001b[0m \u001b[0mint\u001b[0m\u001b[0;34m(\u001b[0m\u001b[0mfloat\u001b[0m\u001b[0;34m(\u001b[0m\u001b[0mmoneystring\u001b[0m\u001b[0;34m)\u001b[0m\u001b[0;34m)\u001b[0m\u001b[0;34m\u001b[0m\u001b[0;34m\u001b[0m\u001b[0m\n\u001b[0m\u001b[1;32m      6\u001b[0m         \u001b[0;32melse\u001b[0m\u001b[0;34m:\u001b[0m\u001b[0;34m\u001b[0m\u001b[0;34m\u001b[0m\u001b[0m\n\u001b[1;32m      7\u001b[0m             \u001b[0;32mreturn\u001b[0m \u001b[0;32mNone\u001b[0m\u001b[0;34m\u001b[0m\u001b[0;34m\u001b[0m\u001b[0m\n",
      "\u001b[0;31mValueError\u001b[0m: could not convert string to float: 'Latest Updates:            News |            Daily |            Weekend |            All Time |            International |            ShowdownsHelp            BoxOfficeMojo.com by IMDbPro  an            IMDb            company.                    © IMDb.com Inc. or its affiliates. All rights reserved.            Box Office Mojo and IMDb are trademarks or registered trademarks of IMDb.com Inc. or its affiliates.            Conditions of Use             and             Privacy Policy            under which this service is provided to you.'"
     ]
    }
   ],
   "source": [
    "# RUNNING SCRAPER ON FIRST ROUND OF MOVIE PAGES - THIRD ATTEMPT\n",
    "\n",
    "scrape_mp_1(mp_links_list3, mp_info_list_1)"
   ]
  },
  {
   "cell_type": "code",
   "execution_count": 296,
   "metadata": {},
   "outputs": [
    {
     "data": {
      "text/plain": [
       "10977"
      ]
     },
     "execution_count": 296,
     "metadata": {},
     "output_type": "execute_result"
    }
   ],
   "source": [
    "len(mp_info_list_1)"
   ]
  },
  {
   "cell_type": "code",
   "execution_count": 306,
   "metadata": {},
   "outputs": [
    {
     "data": {
      "text/plain": [
       "1364"
      ]
     },
     "execution_count": 306,
     "metadata": {},
     "output_type": "execute_result"
    }
   ],
   "source": [
    "mp_links_list4 = mp_links_list[(10980):]    # skipped 10977-80\n",
    "len(mp_links_list4)"
   ]
  },
  {
   "cell_type": "code",
   "execution_count": 307,
   "metadata": {},
   "outputs": [],
   "source": [
    "# RUNNING SCRAPER ON FIRST ROUND OF MOVIE PAGES - FOURTH ATTEMPT\n",
    "\n",
    "scrape_mp_1(mp_links_list4, mp_info_list_1)"
   ]
  },
  {
   "cell_type": "code",
   "execution_count": 308,
   "metadata": {},
   "outputs": [
    {
     "data": {
      "text/plain": [
       "12344"
      ]
     },
     "execution_count": 308,
     "metadata": {},
     "output_type": "execute_result"
    }
   ],
   "source": [
    "len(mp_info_list_1)"
   ]
  },
  {
   "cell_type": "code",
   "execution_count": 356,
   "metadata": {},
   "outputs": [],
   "source": [
    "# CONVERTING MP1 DATA TO DF AND SAVING AS CSV\n",
    "\n",
    "mp1_df = pd.DataFrame(mp_info_list_1)\n",
    "\n",
    "mp1_df.to_csv('mp1_df.csv')"
   ]
  },
  {
   "cell_type": "code",
   "execution_count": 357,
   "metadata": {},
   "outputs": [
    {
     "data": {
      "text/plain": [
       "838"
      ]
     },
     "execution_count": 357,
     "metadata": {},
     "output_type": "execute_result"
    }
   ],
   "source": [
    "# filtering to only display movies that were screened in china\n",
    "\n",
    "len(mp1_df[mp1_df.china_total_gross > 0].sort_values(by='china_total_gross', ascending=False))"
   ]
  },
  {
   "cell_type": "markdown",
   "metadata": {},
   "source": [
    "Scraping 20 years only yielded 832 that were screened in China.\n",
    "\n",
    "**Running back another 5 years (1995-99) to try to get up to 1000**"
   ]
  },
  {
   "cell_type": "code",
   "execution_count": 335,
   "metadata": {},
   "outputs": [],
   "source": [
    "# grabbing links to movie pages for each movie listed in WW box office from 1995-1999 (1 page/year)\n",
    "\n",
    "list_links2 = []\n",
    "\n",
    "for year in range(1995, 2000):                                            # choosing date range\n",
    "    link = \"https://www.boxofficemojo.com/year/world/{}/\".format(year)    # making list of yearly ww box office list pages\n",
    "    list_links2.append(link)                                               \n"
   ]
  },
  {
   "cell_type": "code",
   "execution_count": 337,
   "metadata": {},
   "outputs": [
    {
     "name": "stdout",
     "output_type": "stream",
     "text": [
      "https://www.boxofficemojo.com/year/world/1995/ 200\n",
      "https://www.boxofficemojo.com/year/world/1996/ 200\n",
      "https://www.boxofficemojo.com/year/world/1997/ 200\n",
      "https://www.boxofficemojo.com/year/world/1998/ 200\n",
      "https://www.boxofficemojo.com/year/world/1999/ 200\n"
     ]
    }
   ],
   "source": [
    "rows2 = []    # will have all movie page links\n",
    "\n",
    "for url in list_links2:\n",
    "    response = requests.get(url)                                                   # reading each list page (21 total)\n",
    "    print(url, response.status_code)                                               # checkign response is in 200s for each URL, prints below\n",
    "    page = response.text\n",
    "    soup = BeautifulSoup(page, \"html5lib\")                                         # getting soup for each list page\n",
    "    row = soup.find_all('td', class_='a-text-left mojo-field-type-release_group')  # narrowing soups down to only sections with movie page links \n",
    "    rows2.append(row)                                                               # adding each soup to list, makes list of lists, each list featuring all links from a single year"
   ]
  },
  {
   "cell_type": "code",
   "execution_count": 340,
   "metadata": {},
   "outputs": [],
   "source": [
    "mp_links2 = {}                                   # setting empty dict for key=name val=link\n",
    "# main_site = 'https://www.boxofficemojo.com'    \n",
    "\n",
    "for soup in rows2:\n",
    "    for line in soup:                           # nested loop bc list of soups, each soup with many lines, iterates through each line of each soup to pull out a link from the line of soup element\n",
    "        \n",
    "        link = line.find('a')    \n",
    "        title, url = link.text, link['href']\n",
    "        mp_links2[title] = url"
   ]
  },
  {
   "cell_type": "code",
   "execution_count": 341,
   "metadata": {},
   "outputs": [
    {
     "data": {
      "text/plain": [
       "1612"
      ]
     },
     "execution_count": 341,
     "metadata": {},
     "output_type": "execute_result"
    }
   ],
   "source": [
    "len(mp_links2)"
   ]
  },
  {
   "cell_type": "code",
   "execution_count": 342,
   "metadata": {},
   "outputs": [],
   "source": [
    "scrape_mp_1(mp_links2.values(), mp_info_list_1)"
   ]
  },
  {
   "cell_type": "code",
   "execution_count": 343,
   "metadata": {},
   "outputs": [
    {
     "data": {
      "text/plain": [
       "13956"
      ]
     },
     "execution_count": 343,
     "metadata": {},
     "output_type": "execute_result"
    }
   ],
   "source": [
    "len(mp_info_list_1)"
   ]
  },
  {
   "cell_type": "code",
   "execution_count": 344,
   "metadata": {},
   "outputs": [
    {
     "data": {
      "text/plain": [
       "832"
      ]
     },
     "execution_count": 344,
     "metadata": {},
     "output_type": "execute_result"
    }
   ],
   "source": [
    "len(mp1_df[mp1_df.china_total_gross > 0].sort_values(by='china_total_gross', ascending=False))"
   ]
  },
  {
   "cell_type": "code",
   "execution_count": 348,
   "metadata": {},
   "outputs": [],
   "source": [
    "# Adding 1994 since that was year first hollywood action movie screened in china\n",
    "\n",
    "list_links3 = []\n",
    "\n",
    "for year in range(1994, 1995):                                            # choosing date range\n",
    "    link = \"https://www.boxofficemojo.com/year/world/{}/\".format(year)    # making list of yearly ww box office list pages\n",
    "    list_links3.append(link)                                               \n"
   ]
  },
  {
   "cell_type": "code",
   "execution_count": 350,
   "metadata": {},
   "outputs": [
    {
     "name": "stdout",
     "output_type": "stream",
     "text": [
      "https://www.boxofficemojo.com/year/world/1994/ 200\n"
     ]
    }
   ],
   "source": [
    "rows3 = []    # will have all movie page links\n",
    "\n",
    "for url in list_links3:\n",
    "    response = requests.get(url)                                                   # reading each list page (21 total)\n",
    "    print(url, response.status_code)                                               # checkign response is in 200s for each URL, prints below\n",
    "    page = response.text\n",
    "    soup = BeautifulSoup(page, \"html5lib\")                                         # getting soup for each list page\n",
    "    row = soup.find_all('td', class_='a-text-left mojo-field-type-release_group')  # narrowing soups down to only sections with movie page links \n",
    "    rows3.append(row)                                                               # adding each soup to list, makes list of lists, each list featuring all links from a single year\n",
    "\n",
    "mp_links3 = {}                                   # setting empty dict for key=name val=link\n",
    "# main_site = 'https://www.boxofficemojo.com'    \n",
    "\n",
    "for soup in rows3:\n",
    "    for line in soup:                           # nested loop bc list of soups, each soup with many lines, iterates through each line of each soup to pull out a link from the line of soup element\n",
    "        \n",
    "        link = line.find('a')    \n",
    "        title, url = link.text, link['href']\n",
    "        mp_links3[title] = url"
   ]
  },
  {
   "cell_type": "code",
   "execution_count": 352,
   "metadata": {},
   "outputs": [
    {
     "data": {
      "text/plain": [
       "255"
      ]
     },
     "execution_count": 352,
     "metadata": {},
     "output_type": "execute_result"
    }
   ],
   "source": [
    "len(mp_links3)"
   ]
  },
  {
   "cell_type": "code",
   "execution_count": 353,
   "metadata": {},
   "outputs": [],
   "source": [
    "scrape_mp_1(mp_links3.values(), mp_info_list_1)"
   ]
  },
  {
   "cell_type": "code",
   "execution_count": 359,
   "metadata": {},
   "outputs": [],
   "source": [
    "# updating CSV with second and third round of scraping\n",
    "\n",
    "mp1_df = pd.DataFrame(mp_info_list_1)\n",
    "\n",
    "mp1_df.to_csv('mp1_df.csv')"
   ]
  },
  {
   "cell_type": "markdown",
   "metadata": {},
   "source": [
    "### 3. Scraping movie pages with film info \n",
    "\n",
    "Page that displays after clicking \"title summary\"  \n",
    "\n",
    "#### 3a. Getting links to scrape"
   ]
  },
  {
   "cell_type": "code",
   "execution_count": 365,
   "metadata": {},
   "outputs": [],
   "source": [
    "mp1_df = pd.read_csv('mp1_df.csv', parse_dates=['china_release_date', 'dom_release_date'])"
   ]
  },
  {
   "cell_type": "code",
   "execution_count": 375,
   "metadata": {},
   "outputs": [],
   "source": [
    "mp1_df.drop(\"Unnamed: 0\", axis=1, inplace=True)"
   ]
  },
  {
   "cell_type": "code",
   "execution_count": 383,
   "metadata": {},
   "outputs": [],
   "source": [
    "cn_only_mp1_df = mp1_df[mp1_df.china_total_gross > 0]"
   ]
  },
  {
   "cell_type": "code",
   "execution_count": 386,
   "metadata": {},
   "outputs": [
    {
     "data": {
      "text/plain": [
       "838"
      ]
     },
     "execution_count": 386,
     "metadata": {},
     "output_type": "execute_result"
    }
   ],
   "source": [
    "# still only 838 movies that came to china, but that's just what we'll have to work with!\n",
    "\n",
    "len(cn_only_mp1_df)"
   ]
  },
  {
   "cell_type": "code",
   "execution_count": 394,
   "metadata": {},
   "outputs": [],
   "source": [
    "# list of link stubs to each movies SECOND movie page (after clicking on 'Title Summary')\n",
    "\n",
    "mp2_link_stubs_list = (cn_only_mp1_df\n",
    "                       .summary_link_stub\n",
    "                       .to_list())"
   ]
  },
  {
   "cell_type": "markdown",
   "metadata": {},
   "source": [
    "#### 3b. Testing for a single movie page"
   ]
  },
  {
   "cell_type": "code",
   "execution_count": 395,
   "metadata": {},
   "outputs": [],
   "source": [
    "response = requests.get('https://www.boxofficemojo.com/title/tt0120755/?ref_=bo_tt_ti')                                                 "
   ]
  },
  {
   "cell_type": "code",
   "execution_count": 396,
   "metadata": {},
   "outputs": [
    {
     "data": {
      "text/plain": [
       "200"
      ]
     },
     "execution_count": 396,
     "metadata": {},
     "output_type": "execute_result"
    }
   ],
   "source": [
    "response.status_code"
   ]
  },
  {
   "cell_type": "code",
   "execution_count": 397,
   "metadata": {},
   "outputs": [],
   "source": [
    "page = response.text"
   ]
  },
  {
   "cell_type": "code",
   "execution_count": 398,
   "metadata": {},
   "outputs": [],
   "source": [
    "soup = BeautifulSoup(page, \"html5lib\") "
   ]
  },
  {
   "cell_type": "code",
   "execution_count": 399,
   "metadata": {},
   "outputs": [
    {
     "data": {
      "text/plain": [
       "'Mission: Impossible II (2000)'"
      ]
     },
     "execution_count": 399,
     "metadata": {},
     "output_type": "execute_result"
    }
   ],
   "source": [
    "# title\n",
    "\n",
    "title = soup.find('h1', class_='a-size-extra-large').text\n",
    "title"
   ]
  },
  {
   "cell_type": "code",
   "execution_count": 433,
   "metadata": {},
   "outputs": [
    {
     "data": {
      "text/plain": [
       "'All-Time Rankings'"
      ]
     },
     "execution_count": 433,
     "metadata": {},
     "output_type": "execute_result"
    }
   ],
   "source": [
    "get_movie_value(soup, 'Cast and Crew')"
   ]
  },
  {
   "cell_type": "code",
   "execution_count": 404,
   "metadata": {},
   "outputs": [
    {
     "data": {
      "text/plain": [
       "[]"
      ]
     },
     "execution_count": 404,
     "metadata": {},
     "output_type": "execute_result"
    }
   ],
   "source": [
    "soup.find_all('span', class_='a-section a-spacing-none mojo-summary-values mojo-hidden-from-mobile')"
   ]
  },
  {
   "cell_type": "code",
   "execution_count": 405,
   "metadata": {},
   "outputs": [],
   "source": [
    "def get_movie_value(soup, field_name):\n",
    "    \n",
    "    '''Grab a value from Box Office Mojo HTML\n",
    "    \n",
    "    Takes a string attribute of a movie on the page and returns the string in\n",
    "    the next sibling object (the value for that attribute) or None if nothing is found.\n",
    "    '''\n",
    "    \n",
    "    obj = soup.find(text=re.compile(field_name))\n",
    "    \n",
    "    if not obj: \n",
    "        return None\n",
    "    \n",
    "    # this works for most of the values\n",
    "    next_element = obj.findNext()\n",
    "    \n",
    "    if next_element:\n",
    "        return next_element.text \n",
    "    else:\n",
    "        return None"
   ]
  },
  {
   "cell_type": "code",
   "execution_count": 415,
   "metadata": {},
   "outputs": [
    {
     "data": {
      "text/plain": [
       "'Paramount PicturesSee full company information\\n        \\n    '"
      ]
     },
     "execution_count": 415,
     "metadata": {},
     "output_type": "execute_result"
    }
   ],
   "source": [
    "# Domestic distributor \n",
    "\n",
    "dom_distributor = get_movie_value(soup, 'Distributor')\n",
    "dom_distributor"
   ]
  },
  {
   "cell_type": "code",
   "execution_count": 420,
   "metadata": {},
   "outputs": [
    {
     "data": {
      "text/plain": [
       "'Paramount Pictures'"
      ]
     },
     "execution_count": 420,
     "metadata": {},
     "output_type": "execute_result"
    }
   ],
   "source": [
    "clean_text_string(dom_distributor)"
   ]
  },
  {
   "cell_type": "code",
   "execution_count": 421,
   "metadata": {},
   "outputs": [
    {
     "data": {
      "text/plain": [
       "'$125,000,000'"
      ]
     },
     "execution_count": 421,
     "metadata": {},
     "output_type": "execute_result"
    }
   ],
   "source": [
    "# Budget\n",
    "\n",
    "budget = get_movie_value(soup, 'Budget')\n",
    "budget"
   ]
  },
  {
   "cell_type": "code",
   "execution_count": 422,
   "metadata": {},
   "outputs": [
    {
     "data": {
      "text/plain": [
       "'PG-13'"
      ]
     },
     "execution_count": 422,
     "metadata": {},
     "output_type": "execute_result"
    }
   ],
   "source": [
    "# MPAA\n",
    "\n",
    "mpaa = get_movie_value(soup, 'MPAA')\n",
    "mpaa"
   ]
  },
  {
   "cell_type": "code",
   "execution_count": 424,
   "metadata": {},
   "outputs": [
    {
     "data": {
      "text/plain": [
       "'2 hr 3 min'"
      ]
     },
     "execution_count": 424,
     "metadata": {},
     "output_type": "execute_result"
    }
   ],
   "source": [
    "# Running time\n",
    "\n",
    "running_time = get_movie_value(soup, 'Running Time')\n",
    "running_time"
   ]
  },
  {
   "cell_type": "code",
   "execution_count": 425,
   "metadata": {},
   "outputs": [
    {
     "data": {
      "text/plain": [
       "'Action\\n    \\n        Adventure\\n    \\n        Thriller'"
      ]
     },
     "execution_count": 425,
     "metadata": {},
     "output_type": "execute_result"
    }
   ],
   "source": [
    "# Genres - MUST SPLIT\n",
    "\n",
    "genres = get_movie_value(soup, 'Genres')\n",
    "genres"
   ]
  },
  {
   "cell_type": "code",
   "execution_count": 431,
   "metadata": {},
   "outputs": [
    {
     "data": {
      "text/plain": [
       "['Action', 'Adventure', 'Thriller']"
      ]
     },
     "execution_count": 431,
     "metadata": {},
     "output_type": "execute_result"
    }
   ],
   "source": [
    "clean_text_string(genres).split()"
   ]
  },
  {
   "cell_type": "markdown",
   "metadata": {},
   "source": [
    "#### 3c. Extend to all moviepages"
   ]
  },
  {
   "cell_type": "code",
   "execution_count": 447,
   "metadata": {},
   "outputs": [],
   "source": [
    "def get_movie_dict_2(link):\n",
    "    '''\n",
    "    From BoxOfficeMojo link stub, request movie html, parse with BeautifulSoup, and\n",
    "    collect \n",
    "        'movie_title', \n",
    "        'dom_distributor', \n",
    "        'budget', \n",
    "        'mpaa', \n",
    "        'running_time',\n",
    "        'genres', \n",
    "    Return information as a dictionary.\n",
    "    '''\n",
    "    \n",
    "    base_url = 'https://www.boxofficemojo.com'\n",
    "    \n",
    "    #Create full url to scrape\n",
    "    url = base_url + link\n",
    "    \n",
    "    # Request HTML and parse\n",
    "    response = requests.get(url)\n",
    "    page = response.text\n",
    "    soup = BeautifulSoup(page, \"html5lib\")\n",
    "\n",
    "    \n",
    "    headers = ['movie_title', 'dom_distributor', 'budget', 'mpaa', 'running_time', 'genres', 'cast_link_stub']\n",
    "    \n",
    "    # Get title\n",
    "    title_string = soup.find('h1', class_='a-size-extra-large').text\n",
    "    title = title_string.split('-')[0].strip()\n",
    "\n",
    "    # Get domestic distributor\n",
    "    raw_dom_distributor = get_movie_value(soup, 'Distributor')\n",
    "    dom_distributor = clean_text_string(raw_dom_distributor)\n",
    "    \n",
    "    # Get budget\n",
    "    raw_budget = get_movie_value(soup, 'Budget')\n",
    "    budget = money_to_int(raw_budget)\n",
    "\n",
    "    # Get mpaa rating\n",
    "    mpaa = get_movie_value(soup, 'MPAA')\n",
    "    \n",
    "    # Get running time\n",
    "    raw_running_time = get_movie_value(soup, 'Running Time')\n",
    "    running_time = runtime_to_minutes(raw_running_time)\n",
    "    \n",
    "    # Get genres\n",
    "    raw_genres = get_movie_value(soup, 'Genres')\n",
    "    genres = clean_text_string(raw_genres).split()\n",
    "\n",
    "    # Get link to cast page\n",
    "    cast_link_stub = get_cast_page_link(soup)\n",
    "    \n",
    "    #Create movie dictionary and return\n",
    "    movie_dict = dict(zip(headers, [title,\n",
    "                                dom_distributor,\n",
    "                                budget,\n",
    "                                mpaa, \n",
    "                                running_time,\n",
    "                                genres,\n",
    "                                cast_link_stub]))\n",
    "\n",
    "    return movie_dict"
   ]
  },
  {
   "cell_type": "code",
   "execution_count": 449,
   "metadata": {},
   "outputs": [],
   "source": [
    "def scrape_mp_2(links, empty_list):\n",
    "    for link in links:\n",
    "        empty_list.append(get_movie_dict_2(link))"
   ]
  },
  {
   "cell_type": "code",
   "execution_count": 451,
   "metadata": {},
   "outputs": [],
   "source": [
    "# RUNNING SCRAPER ON SECOND ROUND OF MOVIE PAGES - FIRST ATTEMPT\n",
    "\n",
    "mp_info_list_2 = []      # ONLY RUN THIS LINE THE FIRST TIME USING --- DO NOT USE IN SUBSEQUENT ATTEMPS WHEN PICKIN UP HALFWAY DOWN LIST\n",
    "\n",
    "scrape_mp_2(mp2_link_stubs_list, mp_info_list_2)"
   ]
  },
  {
   "cell_type": "code",
   "execution_count": 453,
   "metadata": {},
   "outputs": [
    {
     "data": {
      "text/plain": [
       "838"
      ]
     },
     "execution_count": 453,
     "metadata": {},
     "output_type": "execute_result"
    }
   ],
   "source": [
    "len(mp_info_list_2)"
   ]
  },
  {
   "cell_type": "code",
   "execution_count": 454,
   "metadata": {},
   "outputs": [],
   "source": [
    "# CONVERTING MP2 DATA TO DF AND SAVING AS CSV\n",
    "\n",
    "mp2_df = pd.DataFrame(mp_info_list_2)\n",
    "\n",
    "mp2_df.to_csv('mp2_df.csv')"
   ]
  },
  {
   "cell_type": "markdown",
   "metadata": {},
   "source": [
    "### 4. Getting cast info from movie page 3\n",
    "\n",
    "Page that displays after clicking \"cast and crew\"  \n",
    "\n",
    "#### 4a. Getting links to scrape"
   ]
  },
  {
   "cell_type": "code",
   "execution_count": 763,
   "metadata": {},
   "outputs": [],
   "source": [
    "mp2_df = pd.read_csv('mp2_df.csv')"
   ]
  },
  {
   "cell_type": "code",
   "execution_count": 764,
   "metadata": {},
   "outputs": [],
   "source": [
    "mp2_df.drop(\"Unnamed: 0\", axis=1, inplace=True)"
   ]
  },
  {
   "cell_type": "code",
   "execution_count": 460,
   "metadata": {},
   "outputs": [
    {
     "data": {
      "text/html": [
       "<div>\n",
       "<style scoped>\n",
       "    .dataframe tbody tr th:only-of-type {\n",
       "        vertical-align: middle;\n",
       "    }\n",
       "\n",
       "    .dataframe tbody tr th {\n",
       "        vertical-align: top;\n",
       "    }\n",
       "\n",
       "    .dataframe thead th {\n",
       "        text-align: right;\n",
       "    }\n",
       "</style>\n",
       "<table border=\"1\" class=\"dataframe\">\n",
       "  <thead>\n",
       "    <tr style=\"text-align: right;\">\n",
       "      <th></th>\n",
       "      <th>movie_title</th>\n",
       "      <th>dom_distributor</th>\n",
       "      <th>budget</th>\n",
       "      <th>mpaa</th>\n",
       "      <th>running_time</th>\n",
       "      <th>genres</th>\n",
       "      <th>cast_link_stub</th>\n",
       "    </tr>\n",
       "  </thead>\n",
       "  <tbody>\n",
       "    <tr>\n",
       "      <th>0</th>\n",
       "      <td>Mission: Impossible II (2000)</td>\n",
       "      <td>Paramount Pictures</td>\n",
       "      <td>125000000.0</td>\n",
       "      <td>PG-13</td>\n",
       "      <td>123.0</td>\n",
       "      <td>['Action', 'Adventure', 'Thriller']</td>\n",
       "      <td>/title/tt0120755/credits/?ref_=bo_tt_tab#tabs</td>\n",
       "    </tr>\n",
       "    <tr>\n",
       "      <th>1</th>\n",
       "      <td>Gladiator (2000)</td>\n",
       "      <td>DreamWorks Distribution</td>\n",
       "      <td>103000000.0</td>\n",
       "      <td>R</td>\n",
       "      <td>155.0</td>\n",
       "      <td>['Action', 'Adventure', 'Drama']</td>\n",
       "      <td>/title/tt0172495/credits/?ref_=bo_tt_tab#tabs</td>\n",
       "    </tr>\n",
       "    <tr>\n",
       "      <th>2</th>\n",
       "      <td>What Women Want (2011)</td>\n",
       "      <td>China Lion Film Distribution</td>\n",
       "      <td>NaN</td>\n",
       "      <td>NaN</td>\n",
       "      <td>116.0</td>\n",
       "      <td>['Comedy', 'Romance', 'Sci-Fi']</td>\n",
       "      <td>/title/tt1667150/credits/?ref_=bo_tt_tab#tabs</td>\n",
       "    </tr>\n",
       "    <tr>\n",
       "      <th>3</th>\n",
       "      <td>Charlie's Angels (2019)</td>\n",
       "      <td>Sony Pictures Releasing</td>\n",
       "      <td>48000000.0</td>\n",
       "      <td>PG-13</td>\n",
       "      <td>118.0</td>\n",
       "      <td>['Action', 'Adventure', 'Comedy']</td>\n",
       "      <td>/title/tt5033998/credits/?ref_=bo_tt_tab#tabs</td>\n",
       "    </tr>\n",
       "    <tr>\n",
       "      <th>4</th>\n",
       "      <td>Southpaw (2015)</td>\n",
       "      <td>The Weinstein Company</td>\n",
       "      <td>30000000.0</td>\n",
       "      <td>R</td>\n",
       "      <td>124.0</td>\n",
       "      <td>['Action', 'Drama', 'Sport']</td>\n",
       "      <td>/title/tt1798684/credits/?ref_=bo_tt_tab#tabs</td>\n",
       "    </tr>\n",
       "  </tbody>\n",
       "</table>\n",
       "</div>"
      ],
      "text/plain": [
       "                     movie_title               dom_distributor       budget  \\\n",
       "0  Mission: Impossible II (2000)            Paramount Pictures  125000000.0   \n",
       "1               Gladiator (2000)       DreamWorks Distribution  103000000.0   \n",
       "2         What Women Want (2011)  China Lion Film Distribution          NaN   \n",
       "3        Charlie's Angels (2019)       Sony Pictures Releasing   48000000.0   \n",
       "4                Southpaw (2015)         The Weinstein Company   30000000.0   \n",
       "\n",
       "    mpaa  running_time                               genres  \\\n",
       "0  PG-13         123.0  ['Action', 'Adventure', 'Thriller']   \n",
       "1      R         155.0     ['Action', 'Adventure', 'Drama']   \n",
       "2    NaN         116.0      ['Comedy', 'Romance', 'Sci-Fi']   \n",
       "3  PG-13         118.0    ['Action', 'Adventure', 'Comedy']   \n",
       "4      R         124.0         ['Action', 'Drama', 'Sport']   \n",
       "\n",
       "                                  cast_link_stub  \n",
       "0  /title/tt0120755/credits/?ref_=bo_tt_tab#tabs  \n",
       "1  /title/tt0172495/credits/?ref_=bo_tt_tab#tabs  \n",
       "2  /title/tt1667150/credits/?ref_=bo_tt_tab#tabs  \n",
       "3  /title/tt5033998/credits/?ref_=bo_tt_tab#tabs  \n",
       "4  /title/tt1798684/credits/?ref_=bo_tt_tab#tabs  "
      ]
     },
     "execution_count": 460,
     "metadata": {},
     "output_type": "execute_result"
    }
   ],
   "source": [
    "mp2_df.head()"
   ]
  },
  {
   "cell_type": "code",
   "execution_count": 466,
   "metadata": {},
   "outputs": [],
   "source": [
    "mp3_link_stubs_list = (mp2_df\n",
    "                       .cast_link_stub\n",
    "                       .to_list())"
   ]
  },
  {
   "cell_type": "markdown",
   "metadata": {},
   "source": [
    "#### 4b. Testing for a single movie page"
   ]
  },
  {
   "cell_type": "code",
   "execution_count": 485,
   "metadata": {},
   "outputs": [],
   "source": [
    "response = requests.get('https://www.boxofficemojo.com/title/tt0120755/credits/?ref_=bo_tt_tab#tabs')                                                 "
   ]
  },
  {
   "cell_type": "code",
   "execution_count": 486,
   "metadata": {},
   "outputs": [
    {
     "data": {
      "text/plain": [
       "200"
      ]
     },
     "execution_count": 486,
     "metadata": {},
     "output_type": "execute_result"
    }
   ],
   "source": [
    "response.status_code"
   ]
  },
  {
   "cell_type": "code",
   "execution_count": 487,
   "metadata": {},
   "outputs": [],
   "source": [
    "page = response.text"
   ]
  },
  {
   "cell_type": "code",
   "execution_count": 494,
   "metadata": {},
   "outputs": [],
   "source": [
    "soup = BeautifulSoup(page, \"html5lib\") "
   ]
  },
  {
   "cell_type": "code",
   "execution_count": 495,
   "metadata": {},
   "outputs": [
    {
     "data": {
      "text/plain": [
       "'Mission: Impossible II (2000)'"
      ]
     },
     "execution_count": 495,
     "metadata": {},
     "output_type": "execute_result"
    }
   ],
   "source": [
    "# title\n",
    "\n",
    "title = soup.find('h1', class_='a-size-extra-large').text\n",
    "title"
   ]
  },
  {
   "cell_type": "code",
   "execution_count": 504,
   "metadata": {},
   "outputs": [],
   "source": [
    "# director\n",
    "\n",
    "director = soup.find('td', text='Director').previous_sibling.text"
   ]
  },
  {
   "cell_type": "code",
   "execution_count": 505,
   "metadata": {},
   "outputs": [
    {
     "data": {
      "text/plain": [
       "'John Woo'"
      ]
     },
     "execution_count": 505,
     "metadata": {},
     "output_type": "execute_result"
    }
   ],
   "source": [
    "clean_text_string(director)"
   ]
  },
  {
   "cell_type": "code",
   "execution_count": 597,
   "metadata": {},
   "outputs": [],
   "source": [
    "def get_director(soup):\n",
    "    \n",
    "    obj = soup.find('td', text='Director')\n",
    "    \n",
    "    if not obj:\n",
    "        return None\n",
    "    \n",
    "    prev_element = obj.previous_sibling\n",
    "    \n",
    "    if prev_element:\n",
    "        return prev_element.text\n",
    "    \n",
    "    else:\n",
    "        return None"
   ]
  },
  {
   "cell_type": "code",
   "execution_count": 640,
   "metadata": {},
   "outputs": [
    {
     "data": {
      "text/plain": [
       "['Tom Cruise', 'Dougray Scott', 'Thandie Newton', 'Ving Rhames']"
      ]
     },
     "execution_count": 640,
     "metadata": {},
     "output_type": "execute_result"
    }
   ],
   "source": [
    "# principal_cast\n",
    "\n",
    "actors_soup = soup.find('table', {\"id\": \"principalCast\"}).find_all('td')\n",
    "\n",
    "actor_list = []\n",
    "\n",
    "for row in actors_soup:\n",
    "    actors_string = row.text\n",
    "    clean_string = clean_text_string(actors_string)\n",
    "    actor_list.append(clean_string)\n",
    "    cast_list = actor_list[0::2]                     # removes character names and leaves only actor names\n",
    "    \n",
    "cast_list"
   ]
  },
  {
   "cell_type": "code",
   "execution_count": 670,
   "metadata": {},
   "outputs": [],
   "source": [
    "def get_cast(soup):\n",
    "    \n",
    "    obj = soup.find('table', {\"id\": \"principalCast\"}).find_all('td')\n",
    "    \n",
    "    if not obj:\n",
    "        return None\n",
    "    \n",
    "    actor_list = []\n",
    "    \n",
    "    if obj:\n",
    "        for row in obj:\n",
    "            actors_string = row.text\n",
    "\n",
    "            clean_string = clean_text_string(actors_string)\n",
    "\n",
    "            actor_list.append(clean_string)\n",
    "\n",
    "            clean_list = actor_list[0::2]     # removes character names and leaves only actor names\n",
    "\n",
    "            final_set = set(clean_list)       # removes duplicate actor names\n",
    "            \n",
    "            final_set = str(final_set).strip().replace('{', '').replace('}', '').replace('\\'','')\n",
    "\n",
    "        return str(final_set)           # convert back to list\n",
    "        \n",
    "    else: \n",
    "        return None\n"
   ]
  },
  {
   "cell_type": "code",
   "execution_count": 684,
   "metadata": {},
   "outputs": [
    {
     "name": "stdout",
     "output_type": "stream",
     "text": [
      "Dougray Scott, Tom Cruise, Thandie Newton, Ving Rhames\n",
      "\n",
      "\n",
      "['Dougray Scott', ' Tom Cruise', ' Thandie Newton', ' Ving Rhames']\n"
     ]
    }
   ],
   "source": [
    "# to get list out of this cell later and separate\n",
    "\n",
    "test = get_cast(soup)\n",
    "print(test)\n",
    "print('\\n')\n",
    "print(test.split(','))\n"
   ]
  },
  {
   "cell_type": "markdown",
   "metadata": {},
   "source": [
    "#### c. Extend to all moviepages"
   ]
  },
  {
   "cell_type": "code",
   "execution_count": 651,
   "metadata": {},
   "outputs": [],
   "source": [
    "def get_movie_dict_3(link):\n",
    "    '''\n",
    "    From BoxOfficeMojo link stub, request movie html, parse with BeautifulSoup, and\n",
    "    collect \n",
    "        'movie_title', \n",
    "        'director', \n",
    "        'principal_cast' \n",
    "    Return information as a dictionary.\n",
    "    '''\n",
    "    \n",
    "    base_url = 'https://www.boxofficemojo.com'\n",
    "    \n",
    "    #Create full url to scrape\n",
    "    url = base_url + link\n",
    "    \n",
    "    # Request HTML and parse\n",
    "    response = requests.get(url)\n",
    "    page = response.text\n",
    "    soup = BeautifulSoup(page, \"html5lib\")\n",
    "\n",
    "    \n",
    "    headers = ['movie_title', 'director', 'principal_cast']\n",
    "    \n",
    "    # Get title\n",
    "    title_string = soup.find('h1', class_='a-size-extra-large').text\n",
    "    title = title_string.split('-')[0].strip()\n",
    "\n",
    "    # Get director\n",
    "    raw_director = get_director(soup)\n",
    "    director = clean_text_string(raw_director)\n",
    " \n",
    "    # Get principal cast\n",
    "    principal_cast = get_cast(soup)\n",
    "\n",
    "    #Create movie dictionary and return\n",
    "    movie_dict = dict(zip(headers, [title,\n",
    "                                director,\n",
    "                                principal_cast]))\n",
    "\n",
    "    return movie_dict"
   ]
  },
  {
   "cell_type": "code",
   "execution_count": 599,
   "metadata": {},
   "outputs": [],
   "source": [
    "def scrape_mp_3(links, empty_list):\n",
    "    for link in links:\n",
    "        empty_list.append(get_movie_dict_3(link))"
   ]
  },
  {
   "cell_type": "code",
   "execution_count": 685,
   "metadata": {},
   "outputs": [
    {
     "ename": "AttributeError",
     "evalue": "'NoneType' object has no attribute 'find_all'",
     "output_type": "error",
     "traceback": [
      "\u001b[0;31m---------------------------------------------------------------------------\u001b[0m",
      "\u001b[0;31mAttributeError\u001b[0m                            Traceback (most recent call last)",
      "\u001b[0;32m<ipython-input-685-4671b9871475>\u001b[0m in \u001b[0;36m<module>\u001b[0;34m\u001b[0m\n\u001b[1;32m      3\u001b[0m \u001b[0mmp_info_list_3\u001b[0m \u001b[0;34m=\u001b[0m \u001b[0;34m[\u001b[0m\u001b[0;34m]\u001b[0m      \u001b[0;31m# ONLY RUN THIS LINE THE FIRST TIME USING --- DO NOT USE IN SUBSEQUENT ATTEMPS WHEN PICKIN UP HALFWAY DOWN LIST\u001b[0m\u001b[0;34m\u001b[0m\u001b[0;34m\u001b[0m\u001b[0m\n\u001b[1;32m      4\u001b[0m \u001b[0;34m\u001b[0m\u001b[0m\n\u001b[0;32m----> 5\u001b[0;31m \u001b[0mscrape_mp_3\u001b[0m\u001b[0;34m(\u001b[0m\u001b[0mmp3_link_stubs_list\u001b[0m\u001b[0;34m,\u001b[0m \u001b[0mmp_info_list_3\u001b[0m\u001b[0;34m)\u001b[0m\u001b[0;34m\u001b[0m\u001b[0;34m\u001b[0m\u001b[0m\n\u001b[0m",
      "\u001b[0;32m<ipython-input-599-3ec6f7c95ded>\u001b[0m in \u001b[0;36mscrape_mp_3\u001b[0;34m(links, empty_list)\u001b[0m\n\u001b[1;32m      1\u001b[0m \u001b[0;32mdef\u001b[0m \u001b[0mscrape_mp_3\u001b[0m\u001b[0;34m(\u001b[0m\u001b[0mlinks\u001b[0m\u001b[0;34m,\u001b[0m \u001b[0mempty_list\u001b[0m\u001b[0;34m)\u001b[0m\u001b[0;34m:\u001b[0m\u001b[0;34m\u001b[0m\u001b[0;34m\u001b[0m\u001b[0m\n\u001b[1;32m      2\u001b[0m     \u001b[0;32mfor\u001b[0m \u001b[0mlink\u001b[0m \u001b[0;32min\u001b[0m \u001b[0mlinks\u001b[0m\u001b[0;34m:\u001b[0m\u001b[0;34m\u001b[0m\u001b[0;34m\u001b[0m\u001b[0m\n\u001b[0;32m----> 3\u001b[0;31m         \u001b[0mempty_list\u001b[0m\u001b[0;34m.\u001b[0m\u001b[0mappend\u001b[0m\u001b[0;34m(\u001b[0m\u001b[0mget_movie_dict_3\u001b[0m\u001b[0;34m(\u001b[0m\u001b[0mlink\u001b[0m\u001b[0;34m)\u001b[0m\u001b[0;34m)\u001b[0m\u001b[0;34m\u001b[0m\u001b[0;34m\u001b[0m\u001b[0m\n\u001b[0m",
      "\u001b[0;32m<ipython-input-651-cebf018a6a70>\u001b[0m in \u001b[0;36mget_movie_dict_3\u001b[0;34m(link)\u001b[0m\n\u001b[1;32m     31\u001b[0m \u001b[0;34m\u001b[0m\u001b[0m\n\u001b[1;32m     32\u001b[0m     \u001b[0;31m# Get principal cast\u001b[0m\u001b[0;34m\u001b[0m\u001b[0;34m\u001b[0m\u001b[0;34m\u001b[0m\u001b[0m\n\u001b[0;32m---> 33\u001b[0;31m     \u001b[0mprincipal_cast\u001b[0m \u001b[0;34m=\u001b[0m \u001b[0mget_cast\u001b[0m\u001b[0;34m(\u001b[0m\u001b[0msoup\u001b[0m\u001b[0;34m)\u001b[0m\u001b[0;34m\u001b[0m\u001b[0;34m\u001b[0m\u001b[0m\n\u001b[0m\u001b[1;32m     34\u001b[0m \u001b[0;34m\u001b[0m\u001b[0m\n\u001b[1;32m     35\u001b[0m     \u001b[0;31m#Create movie dictionary and return\u001b[0m\u001b[0;34m\u001b[0m\u001b[0;34m\u001b[0m\u001b[0;34m\u001b[0m\u001b[0m\n",
      "\u001b[0;32m<ipython-input-670-51dd8e20b710>\u001b[0m in \u001b[0;36mget_cast\u001b[0;34m(soup)\u001b[0m\n\u001b[1;32m      1\u001b[0m \u001b[0;32mdef\u001b[0m \u001b[0mget_cast\u001b[0m\u001b[0;34m(\u001b[0m\u001b[0msoup\u001b[0m\u001b[0;34m)\u001b[0m\u001b[0;34m:\u001b[0m\u001b[0;34m\u001b[0m\u001b[0;34m\u001b[0m\u001b[0m\n\u001b[1;32m      2\u001b[0m \u001b[0;34m\u001b[0m\u001b[0m\n\u001b[0;32m----> 3\u001b[0;31m     \u001b[0mobj\u001b[0m \u001b[0;34m=\u001b[0m \u001b[0msoup\u001b[0m\u001b[0;34m.\u001b[0m\u001b[0mfind\u001b[0m\u001b[0;34m(\u001b[0m\u001b[0;34m'table'\u001b[0m\u001b[0;34m,\u001b[0m \u001b[0;34m{\u001b[0m\u001b[0;34m\"id\"\u001b[0m\u001b[0;34m:\u001b[0m \u001b[0;34m\"principalCast\"\u001b[0m\u001b[0;34m}\u001b[0m\u001b[0;34m)\u001b[0m\u001b[0;34m.\u001b[0m\u001b[0mfind_all\u001b[0m\u001b[0;34m(\u001b[0m\u001b[0;34m'td'\u001b[0m\u001b[0;34m)\u001b[0m\u001b[0;34m\u001b[0m\u001b[0;34m\u001b[0m\u001b[0m\n\u001b[0m\u001b[1;32m      4\u001b[0m \u001b[0;34m\u001b[0m\u001b[0m\n\u001b[1;32m      5\u001b[0m     \u001b[0;32mif\u001b[0m \u001b[0;32mnot\u001b[0m \u001b[0mobj\u001b[0m\u001b[0;34m:\u001b[0m\u001b[0;34m\u001b[0m\u001b[0;34m\u001b[0m\u001b[0m\n",
      "\u001b[0;31mAttributeError\u001b[0m: 'NoneType' object has no attribute 'find_all'"
     ]
    }
   ],
   "source": [
    "# RUNNING SCRAPER ON THIRD ROUND OF MOVIE PAGES - FIRST ATTEMPT\n",
    "\n",
    "mp_info_list_3 = []      # ONLY RUN THIS LINE THE FIRST TIME USING --- DO NOT USE IN SUBSEQUENT ATTEMPS WHEN PICKIN UP HALFWAY DOWN LIST\n",
    "\n",
    "scrape_mp_3(mp3_link_stubs_list, mp_info_list_3)"
   ]
  },
  {
   "cell_type": "code",
   "execution_count": 653,
   "metadata": {},
   "outputs": [
    {
     "data": {
      "text/plain": [
       "547"
      ]
     },
     "execution_count": 653,
     "metadata": {},
     "output_type": "execute_result"
    }
   ],
   "source": [
    "len(mp_info_list_3)"
   ]
  },
  {
   "cell_type": "code",
   "execution_count": 686,
   "metadata": {},
   "outputs": [
    {
     "data": {
      "text/plain": [
       "290"
      ]
     },
     "execution_count": 686,
     "metadata": {},
     "output_type": "execute_result"
    }
   ],
   "source": [
    "mp3_link_stubs_list_2 = mp3_link_stubs_list[548:]\n",
    "len(mp3_link_stubs_list_2)"
   ]
  },
  {
   "cell_type": "code",
   "execution_count": 687,
   "metadata": {},
   "outputs": [],
   "source": [
    "# RUNNING SCRAPER ON THIRD ROUND OF MOVIE PAGES - SECOND ATTEMPT (skipping 547)\n",
    "\n",
    "scrape_mp_3(mp3_link_stubs_list_2, mp_info_list_3)"
   ]
  },
  {
   "cell_type": "code",
   "execution_count": 688,
   "metadata": {},
   "outputs": [
    {
     "data": {
      "text/plain": [
       "837"
      ]
     },
     "execution_count": 688,
     "metadata": {},
     "output_type": "execute_result"
    }
   ],
   "source": [
    "len(mp_info_list_3)"
   ]
  },
  {
   "cell_type": "code",
   "execution_count": 689,
   "metadata": {},
   "outputs": [],
   "source": [
    "# CONVERTING MP3 DATA TO DF AND SAVING AS CSV\n",
    "\n",
    "mp3_df = pd.DataFrame(mp_info_list_3)\n",
    "\n",
    "mp3_df.to_csv('mp3_df.csv')"
   ]
  },
  {
   "cell_type": "markdown",
   "metadata": {},
   "source": [
    "### 5. Merging all three BOM dfs\n",
    "\n",
    "#### 5a. cleaning principal cast"
   ]
  },
  {
   "cell_type": "code",
   "execution_count": 765,
   "metadata": {},
   "outputs": [],
   "source": [
    "mp3_df = pd.read_csv('mp3_df.csv')"
   ]
  },
  {
   "cell_type": "code",
   "execution_count": 766,
   "metadata": {},
   "outputs": [],
   "source": [
    "mp3_df.drop(\"Unnamed: 0\", axis=1, inplace=True)"
   ]
  },
  {
   "cell_type": "code",
   "execution_count": 695,
   "metadata": {},
   "outputs": [
    {
     "data": {
      "text/html": [
       "<div>\n",
       "<style scoped>\n",
       "    .dataframe tbody tr th:only-of-type {\n",
       "        vertical-align: middle;\n",
       "    }\n",
       "\n",
       "    .dataframe tbody tr th {\n",
       "        vertical-align: top;\n",
       "    }\n",
       "\n",
       "    .dataframe thead th {\n",
       "        text-align: right;\n",
       "    }\n",
       "</style>\n",
       "<table border=\"1\" class=\"dataframe\">\n",
       "  <thead>\n",
       "    <tr style=\"text-align: right;\">\n",
       "      <th></th>\n",
       "      <th>movie_title</th>\n",
       "      <th>director</th>\n",
       "      <th>principal_cast</th>\n",
       "    </tr>\n",
       "  </thead>\n",
       "  <tbody>\n",
       "    <tr>\n",
       "      <th>0</th>\n",
       "      <td>Mission: Impossible II (2000)</td>\n",
       "      <td>John Woo</td>\n",
       "      <td>Dougray Scott, Tom Cruise, Thandie Newton, Vin...</td>\n",
       "    </tr>\n",
       "  </tbody>\n",
       "</table>\n",
       "</div>"
      ],
      "text/plain": [
       "                     movie_title  director  \\\n",
       "0  Mission: Impossible II (2000)  John Woo   \n",
       "\n",
       "                                      principal_cast  \n",
       "0  Dougray Scott, Tom Cruise, Thandie Newton, Vin...  "
      ]
     },
     "execution_count": 695,
     "metadata": {},
     "output_type": "execute_result"
    }
   ],
   "source": [
    "mp3_df.head(1)"
   ]
  },
  {
   "cell_type": "code",
   "execution_count": 693,
   "metadata": {},
   "outputs": [
    {
     "data": {
      "text/html": [
       "<div>\n",
       "<style scoped>\n",
       "    .dataframe tbody tr th:only-of-type {\n",
       "        vertical-align: middle;\n",
       "    }\n",
       "\n",
       "    .dataframe tbody tr th {\n",
       "        vertical-align: top;\n",
       "    }\n",
       "\n",
       "    .dataframe thead th {\n",
       "        text-align: right;\n",
       "    }\n",
       "</style>\n",
       "<table border=\"1\" class=\"dataframe\">\n",
       "  <thead>\n",
       "    <tr style=\"text-align: right;\">\n",
       "      <th></th>\n",
       "      <th>movie_title</th>\n",
       "      <th>dom_distributor</th>\n",
       "      <th>budget</th>\n",
       "      <th>mpaa</th>\n",
       "      <th>running_time</th>\n",
       "      <th>genres</th>\n",
       "      <th>cast_link_stub</th>\n",
       "    </tr>\n",
       "  </thead>\n",
       "  <tbody>\n",
       "    <tr>\n",
       "      <th>0</th>\n",
       "      <td>Mission: Impossible II (2000)</td>\n",
       "      <td>Paramount Pictures</td>\n",
       "      <td>125000000.0</td>\n",
       "      <td>PG-13</td>\n",
       "      <td>123.0</td>\n",
       "      <td>['Action', 'Adventure', 'Thriller']</td>\n",
       "      <td>/title/tt0120755/credits/?ref_=bo_tt_tab#tabs</td>\n",
       "    </tr>\n",
       "  </tbody>\n",
       "</table>\n",
       "</div>"
      ],
      "text/plain": [
       "                     movie_title     dom_distributor       budget   mpaa  \\\n",
       "0  Mission: Impossible II (2000)  Paramount Pictures  125000000.0  PG-13   \n",
       "\n",
       "   running_time                               genres  \\\n",
       "0         123.0  ['Action', 'Adventure', 'Thriller']   \n",
       "\n",
       "                                  cast_link_stub  \n",
       "0  /title/tt0120755/credits/?ref_=bo_tt_tab#tabs  "
      ]
     },
     "execution_count": 693,
     "metadata": {},
     "output_type": "execute_result"
    }
   ],
   "source": [
    "mp2_df.head(1)"
   ]
  },
  {
   "cell_type": "code",
   "execution_count": 716,
   "metadata": {},
   "outputs": [
    {
     "data": {
      "text/html": [
       "<div>\n",
       "<style scoped>\n",
       "    .dataframe tbody tr th:only-of-type {\n",
       "        vertical-align: middle;\n",
       "    }\n",
       "\n",
       "    .dataframe tbody tr th {\n",
       "        vertical-align: top;\n",
       "    }\n",
       "\n",
       "    .dataframe thead th {\n",
       "        text-align: right;\n",
       "    }\n",
       "</style>\n",
       "<table border=\"1\" class=\"dataframe\">\n",
       "  <thead>\n",
       "    <tr style=\"text-align: right;\">\n",
       "      <th></th>\n",
       "      <th>movie_title</th>\n",
       "      <th>china_total_gross</th>\n",
       "      <th>domestic_toal_gross</th>\n",
       "      <th>international_total_gross</th>\n",
       "      <th>china_opening_sales</th>\n",
       "      <th>domestic_opening_sales</th>\n",
       "      <th>china_release_date</th>\n",
       "      <th>dom_release_date</th>\n",
       "      <th>summary_link_stub</th>\n",
       "    </tr>\n",
       "  </thead>\n",
       "  <tbody>\n",
       "    <tr>\n",
       "      <th>0</th>\n",
       "      <td>Mission: Impossible II</td>\n",
       "      <td>3453141.0</td>\n",
       "      <td>215409889</td>\n",
       "      <td>330978219</td>\n",
       "      <td>NaN</td>\n",
       "      <td>57845297.0</td>\n",
       "      <td>2000-08-21</td>\n",
       "      <td>2000-05-24</td>\n",
       "      <td>/title/tt0120755/?ref_=bo_gr_ti</td>\n",
       "    </tr>\n",
       "  </tbody>\n",
       "</table>\n",
       "</div>"
      ],
      "text/plain": [
       "              movie_title  china_total_gross  domestic_toal_gross  \\\n",
       "0  Mission: Impossible II          3453141.0            215409889   \n",
       "\n",
       "   international_total_gross  china_opening_sales  domestic_opening_sales  \\\n",
       "0                  330978219                  NaN              57845297.0   \n",
       "\n",
       "  china_release_date dom_release_date                summary_link_stub  \n",
       "0         2000-08-21       2000-05-24  /title/tt0120755/?ref_=bo_gr_ti  "
      ]
     },
     "execution_count": 716,
     "metadata": {},
     "output_type": "execute_result"
    }
   ],
   "source": [
    "mp1_df.head(1)"
   ]
  },
  {
   "cell_type": "code",
   "execution_count": 726,
   "metadata": {},
   "outputs": [
    {
     "data": {
      "text/plain": [
       "'Mission: Impossible II'"
      ]
     },
     "execution_count": 726,
     "metadata": {},
     "output_type": "execute_result"
    }
   ],
   "source": [
    "# testing how to make movie_title uniform across dfs\n",
    "\n",
    "' '.join(mp2_df.movie_title[0].split()[:-1])"
   ]
  },
  {
   "cell_type": "code",
   "execution_count": 767,
   "metadata": {},
   "outputs": [],
   "source": [
    "# cleaning mp2 and mp3 movie_title \n",
    "\n",
    "mp2_df.movie_title = mp2_df.movie_title.apply(lambda row: ' '.join(row.split()[:-1]))\n",
    "mp3_df.movie_title = mp3_df.movie_title.apply(lambda row: ' '.join(row.split()[:-1]))"
   ]
  },
  {
   "cell_type": "code",
   "execution_count": 770,
   "metadata": {},
   "outputs": [
    {
     "data": {
      "text/html": [
       "<div>\n",
       "<style scoped>\n",
       "    .dataframe tbody tr th:only-of-type {\n",
       "        vertical-align: middle;\n",
       "    }\n",
       "\n",
       "    .dataframe tbody tr th {\n",
       "        vertical-align: top;\n",
       "    }\n",
       "\n",
       "    .dataframe thead th {\n",
       "        text-align: right;\n",
       "    }\n",
       "</style>\n",
       "<table border=\"1\" class=\"dataframe\">\n",
       "  <thead>\n",
       "    <tr style=\"text-align: right;\">\n",
       "      <th></th>\n",
       "      <th>movie_title</th>\n",
       "      <th>director</th>\n",
       "      <th>principal_cast</th>\n",
       "    </tr>\n",
       "  </thead>\n",
       "  <tbody>\n",
       "    <tr>\n",
       "      <th>0</th>\n",
       "      <td>Mission: Impossible II</td>\n",
       "      <td>John Woo</td>\n",
       "      <td>Dougray Scott, Tom Cruise, Thandie Newton, Vin...</td>\n",
       "    </tr>\n",
       "    <tr>\n",
       "      <th>1</th>\n",
       "      <td>Gladiator</td>\n",
       "      <td>Ridley Scott</td>\n",
       "      <td>Connie Nielsen, Oliver Reed, Russell Crowe, Jo...</td>\n",
       "    </tr>\n",
       "    <tr>\n",
       "      <th>2</th>\n",
       "      <td>What Women Want</td>\n",
       "      <td>Daming Chen</td>\n",
       "      <td>Li Yuan, Julian Chen, Andy Lau, Li Gong</td>\n",
       "    </tr>\n",
       "  </tbody>\n",
       "</table>\n",
       "</div>"
      ],
      "text/plain": [
       "              movie_title      director  \\\n",
       "0  Mission: Impossible II      John Woo   \n",
       "1               Gladiator  Ridley Scott   \n",
       "2         What Women Want   Daming Chen   \n",
       "\n",
       "                                      principal_cast  \n",
       "0  Dougray Scott, Tom Cruise, Thandie Newton, Vin...  \n",
       "1  Connie Nielsen, Oliver Reed, Russell Crowe, Jo...  \n",
       "2            Li Yuan, Julian Chen, Andy Lau, Li Gong  "
      ]
     },
     "execution_count": 770,
     "metadata": {},
     "output_type": "execute_result"
    }
   ],
   "source": [
    "mp3_df.head(3)"
   ]
  },
  {
   "cell_type": "markdown",
   "metadata": {},
   "source": [
    "#### 5b. Merging DFs"
   ]
  },
  {
   "cell_type": "code",
   "execution_count": 771,
   "metadata": {},
   "outputs": [],
   "source": [
    "merged_1_2 =  pd.merge(mp2_df, mp1_df, how='left', on='movie_title')"
   ]
  },
  {
   "cell_type": "code",
   "execution_count": 772,
   "metadata": {},
   "outputs": [
    {
     "data": {
      "text/plain": [
       "907"
      ]
     },
     "execution_count": 772,
     "metadata": {},
     "output_type": "execute_result"
    }
   ],
   "source": [
    "len(merged_1_2)"
   ]
  },
  {
   "cell_type": "code",
   "execution_count": 774,
   "metadata": {},
   "outputs": [
    {
     "data": {
      "text/html": [
       "<div>\n",
       "<style scoped>\n",
       "    .dataframe tbody tr th:only-of-type {\n",
       "        vertical-align: middle;\n",
       "    }\n",
       "\n",
       "    .dataframe tbody tr th {\n",
       "        vertical-align: top;\n",
       "    }\n",
       "\n",
       "    .dataframe thead th {\n",
       "        text-align: right;\n",
       "    }\n",
       "</style>\n",
       "<table border=\"1\" class=\"dataframe\">\n",
       "  <thead>\n",
       "    <tr style=\"text-align: right;\">\n",
       "      <th></th>\n",
       "      <th>movie_title</th>\n",
       "      <th>dom_distributor</th>\n",
       "      <th>budget</th>\n",
       "      <th>mpaa</th>\n",
       "      <th>running_time</th>\n",
       "      <th>genres</th>\n",
       "      <th>cast_link_stub</th>\n",
       "      <th>china_total_gross</th>\n",
       "      <th>domestic_toal_gross</th>\n",
       "      <th>international_total_gross</th>\n",
       "      <th>china_opening_sales</th>\n",
       "      <th>domestic_opening_sales</th>\n",
       "      <th>china_release_date</th>\n",
       "      <th>dom_release_date</th>\n",
       "      <th>summary_link_stub</th>\n",
       "    </tr>\n",
       "  </thead>\n",
       "  <tbody>\n",
       "    <tr>\n",
       "      <th>0</th>\n",
       "      <td>Mission: Impossible II</td>\n",
       "      <td>Paramount Pictures</td>\n",
       "      <td>125000000.0</td>\n",
       "      <td>PG-13</td>\n",
       "      <td>123.0</td>\n",
       "      <td>['Action', 'Adventure', 'Thriller']</td>\n",
       "      <td>/title/tt0120755/credits/?ref_=bo_tt_tab#tabs</td>\n",
       "      <td>3453141.0</td>\n",
       "      <td>215409889.0</td>\n",
       "      <td>330978219.0</td>\n",
       "      <td>NaN</td>\n",
       "      <td>57845297.0</td>\n",
       "      <td>2000-08-21</td>\n",
       "      <td>2000-05-24</td>\n",
       "      <td>/title/tt0120755/?ref_=bo_gr_ti</td>\n",
       "    </tr>\n",
       "    <tr>\n",
       "      <th>1</th>\n",
       "      <td>Gladiator</td>\n",
       "      <td>DreamWorks Distribution</td>\n",
       "      <td>103000000.0</td>\n",
       "      <td>R</td>\n",
       "      <td>155.0</td>\n",
       "      <td>['Action', 'Adventure', 'Drama']</td>\n",
       "      <td>/title/tt0172495/credits/?ref_=bo_tt_tab#tabs</td>\n",
       "      <td>3376447.0</td>\n",
       "      <td>187705427.0</td>\n",
       "      <td>272878533.0</td>\n",
       "      <td>NaN</td>\n",
       "      <td>34819017.0</td>\n",
       "      <td>2000-08-05</td>\n",
       "      <td>2000-05-05</td>\n",
       "      <td>/title/tt0172495/?ref_=bo_gr_ti</td>\n",
       "    </tr>\n",
       "    <tr>\n",
       "      <th>2</th>\n",
       "      <td>What Women Want</td>\n",
       "      <td>China Lion Film Distribution</td>\n",
       "      <td>NaN</td>\n",
       "      <td>NaN</td>\n",
       "      <td>116.0</td>\n",
       "      <td>['Comedy', 'Romance', 'Sci-Fi']</td>\n",
       "      <td>/title/tt1667150/credits/?ref_=bo_tt_tab#tabs</td>\n",
       "      <td>10288154.0</td>\n",
       "      <td>123526.0</td>\n",
       "      <td>11714651.0</td>\n",
       "      <td>NaN</td>\n",
       "      <td>53224.0</td>\n",
       "      <td>2011-02-03</td>\n",
       "      <td>2011-02-03</td>\n",
       "      <td>/title/tt1667150/?ref_=bo_gr_ti</td>\n",
       "    </tr>\n",
       "    <tr>\n",
       "      <th>3</th>\n",
       "      <td>Charlie's Angels</td>\n",
       "      <td>Sony Pictures Releasing</td>\n",
       "      <td>48000000.0</td>\n",
       "      <td>PG-13</td>\n",
       "      <td>118.0</td>\n",
       "      <td>['Action', 'Adventure', 'Comedy']</td>\n",
       "      <td>/title/tt5033998/credits/?ref_=bo_tt_tab#tabs</td>\n",
       "      <td>10800219.0</td>\n",
       "      <td>17803077.0</td>\n",
       "      <td>55476811.0</td>\n",
       "      <td>7639741.0</td>\n",
       "      <td>8351109.0</td>\n",
       "      <td>2019-11-15</td>\n",
       "      <td>2019-11-15</td>\n",
       "      <td>/title/tt5033998/?ref_=bo_gr_ti</td>\n",
       "    </tr>\n",
       "    <tr>\n",
       "      <th>4</th>\n",
       "      <td>Southpaw</td>\n",
       "      <td>The Weinstein Company</td>\n",
       "      <td>30000000.0</td>\n",
       "      <td>R</td>\n",
       "      <td>124.0</td>\n",
       "      <td>['Action', 'Drama', 'Sport']</td>\n",
       "      <td>/title/tt1798684/credits/?ref_=bo_tt_tab#tabs</td>\n",
       "      <td>1168081.0</td>\n",
       "      <td>52421953.0</td>\n",
       "      <td>39548874.0</td>\n",
       "      <td>722844.0</td>\n",
       "      <td>16701294.0</td>\n",
       "      <td>2016-09-02</td>\n",
       "      <td>2015-07-24</td>\n",
       "      <td>/title/tt1798684/?ref_=bo_gr_ti</td>\n",
       "    </tr>\n",
       "  </tbody>\n",
       "</table>\n",
       "</div>"
      ],
      "text/plain": [
       "              movie_title               dom_distributor       budget   mpaa  \\\n",
       "0  Mission: Impossible II            Paramount Pictures  125000000.0  PG-13   \n",
       "1               Gladiator       DreamWorks Distribution  103000000.0      R   \n",
       "2         What Women Want  China Lion Film Distribution          NaN    NaN   \n",
       "3        Charlie's Angels       Sony Pictures Releasing   48000000.0  PG-13   \n",
       "4                Southpaw         The Weinstein Company   30000000.0      R   \n",
       "\n",
       "   running_time                               genres  \\\n",
       "0         123.0  ['Action', 'Adventure', 'Thriller']   \n",
       "1         155.0     ['Action', 'Adventure', 'Drama']   \n",
       "2         116.0      ['Comedy', 'Romance', 'Sci-Fi']   \n",
       "3         118.0    ['Action', 'Adventure', 'Comedy']   \n",
       "4         124.0         ['Action', 'Drama', 'Sport']   \n",
       "\n",
       "                                  cast_link_stub  china_total_gross  \\\n",
       "0  /title/tt0120755/credits/?ref_=bo_tt_tab#tabs          3453141.0   \n",
       "1  /title/tt0172495/credits/?ref_=bo_tt_tab#tabs          3376447.0   \n",
       "2  /title/tt1667150/credits/?ref_=bo_tt_tab#tabs         10288154.0   \n",
       "3  /title/tt5033998/credits/?ref_=bo_tt_tab#tabs         10800219.0   \n",
       "4  /title/tt1798684/credits/?ref_=bo_tt_tab#tabs          1168081.0   \n",
       "\n",
       "   domestic_toal_gross  international_total_gross  china_opening_sales  \\\n",
       "0          215409889.0                330978219.0                  NaN   \n",
       "1          187705427.0                272878533.0                  NaN   \n",
       "2             123526.0                 11714651.0                  NaN   \n",
       "3           17803077.0                 55476811.0            7639741.0   \n",
       "4           52421953.0                 39548874.0             722844.0   \n",
       "\n",
       "   domestic_opening_sales china_release_date dom_release_date  \\\n",
       "0              57845297.0         2000-08-21       2000-05-24   \n",
       "1              34819017.0         2000-08-05       2000-05-05   \n",
       "2                 53224.0         2011-02-03       2011-02-03   \n",
       "3               8351109.0         2019-11-15       2019-11-15   \n",
       "4              16701294.0         2016-09-02       2015-07-24   \n",
       "\n",
       "                 summary_link_stub  \n",
       "0  /title/tt0120755/?ref_=bo_gr_ti  \n",
       "1  /title/tt0172495/?ref_=bo_gr_ti  \n",
       "2  /title/tt1667150/?ref_=bo_gr_ti  \n",
       "3  /title/tt5033998/?ref_=bo_gr_ti  \n",
       "4  /title/tt1798684/?ref_=bo_gr_ti  "
      ]
     },
     "execution_count": 774,
     "metadata": {},
     "output_type": "execute_result"
    }
   ],
   "source": [
    "merged_1_2.head()"
   ]
  },
  {
   "cell_type": "code",
   "execution_count": 775,
   "metadata": {},
   "outputs": [
    {
     "data": {
      "text/plain": [
       "Index(['movie_title', 'dom_distributor', 'budget', 'mpaa', 'running_time',\n",
       "       'genres', 'cast_link_stub', 'china_total_gross', 'domestic_toal_gross',\n",
       "       'international_total_gross', 'china_opening_sales',\n",
       "       'domestic_opening_sales', 'china_release_date', 'dom_release_date',\n",
       "       'summary_link_stub'],\n",
       "      dtype='object')"
      ]
     },
     "execution_count": 775,
     "metadata": {},
     "output_type": "execute_result"
    }
   ],
   "source": [
    "merged_1_2.columns"
   ]
  },
  {
   "cell_type": "code",
   "execution_count": 776,
   "metadata": {},
   "outputs": [],
   "source": [
    "merged_final_df =  pd.merge(merged_1_2, mp3_df, how='left', on='movie_title')"
   ]
  },
  {
   "cell_type": "code",
   "execution_count": 873,
   "metadata": {},
   "outputs": [
    {
     "data": {
      "text/html": [
       "<div>\n",
       "<style scoped>\n",
       "    .dataframe tbody tr th:only-of-type {\n",
       "        vertical-align: middle;\n",
       "    }\n",
       "\n",
       "    .dataframe tbody tr th {\n",
       "        vertical-align: top;\n",
       "    }\n",
       "\n",
       "    .dataframe thead th {\n",
       "        text-align: right;\n",
       "    }\n",
       "</style>\n",
       "<table border=\"1\" class=\"dataframe\">\n",
       "  <thead>\n",
       "    <tr style=\"text-align: right;\">\n",
       "      <th></th>\n",
       "      <th>movie_title</th>\n",
       "      <th>dom_distributor</th>\n",
       "      <th>budget</th>\n",
       "      <th>mpaa</th>\n",
       "      <th>running_time</th>\n",
       "      <th>genres</th>\n",
       "      <th>cast_link_stub</th>\n",
       "      <th>china_total_gross</th>\n",
       "      <th>domestic_toal_gross</th>\n",
       "      <th>international_total_gross</th>\n",
       "      <th>china_opening_sales</th>\n",
       "      <th>domestic_opening_sales</th>\n",
       "      <th>china_release_date</th>\n",
       "      <th>dom_release_date</th>\n",
       "      <th>summary_link_stub</th>\n",
       "      <th>director</th>\n",
       "      <th>principal_cast</th>\n",
       "    </tr>\n",
       "  </thead>\n",
       "  <tbody>\n",
       "    <tr>\n",
       "      <th>0</th>\n",
       "      <td>Mission: Impossible II</td>\n",
       "      <td>Paramount Pictures</td>\n",
       "      <td>125000000.0</td>\n",
       "      <td>PG-13</td>\n",
       "      <td>123.0</td>\n",
       "      <td>['Action', 'Adventure', 'Thriller']</td>\n",
       "      <td>/title/tt0120755/credits/?ref_=bo_tt_tab#tabs</td>\n",
       "      <td>3453141.0</td>\n",
       "      <td>215409889.0</td>\n",
       "      <td>330978219.0</td>\n",
       "      <td>NaN</td>\n",
       "      <td>57845297.0</td>\n",
       "      <td>2000-08-21</td>\n",
       "      <td>2000-05-24</td>\n",
       "      <td>/title/tt0120755/?ref_=bo_gr_ti</td>\n",
       "      <td>John Woo</td>\n",
       "      <td>Dougray Scott, Tom Cruise, Thandie Newton, Vin...</td>\n",
       "    </tr>\n",
       "    <tr>\n",
       "      <th>1</th>\n",
       "      <td>Gladiator</td>\n",
       "      <td>DreamWorks Distribution</td>\n",
       "      <td>103000000.0</td>\n",
       "      <td>R</td>\n",
       "      <td>155.0</td>\n",
       "      <td>['Action', 'Adventure', 'Drama']</td>\n",
       "      <td>/title/tt0172495/credits/?ref_=bo_tt_tab#tabs</td>\n",
       "      <td>3376447.0</td>\n",
       "      <td>187705427.0</td>\n",
       "      <td>272878533.0</td>\n",
       "      <td>NaN</td>\n",
       "      <td>34819017.0</td>\n",
       "      <td>2000-08-05</td>\n",
       "      <td>2000-05-05</td>\n",
       "      <td>/title/tt0172495/?ref_=bo_gr_ti</td>\n",
       "      <td>Ridley Scott</td>\n",
       "      <td>Connie Nielsen, Oliver Reed, Russell Crowe, Jo...</td>\n",
       "    </tr>\n",
       "    <tr>\n",
       "      <th>2</th>\n",
       "      <td>What Women Want</td>\n",
       "      <td>China Lion Film Distribution</td>\n",
       "      <td>NaN</td>\n",
       "      <td>NaN</td>\n",
       "      <td>116.0</td>\n",
       "      <td>['Comedy', 'Romance', 'Sci-Fi']</td>\n",
       "      <td>/title/tt1667150/credits/?ref_=bo_tt_tab#tabs</td>\n",
       "      <td>10288154.0</td>\n",
       "      <td>123526.0</td>\n",
       "      <td>11714651.0</td>\n",
       "      <td>NaN</td>\n",
       "      <td>53224.0</td>\n",
       "      <td>2011-02-03</td>\n",
       "      <td>2011-02-03</td>\n",
       "      <td>/title/tt1667150/?ref_=bo_gr_ti</td>\n",
       "      <td>Daming Chen</td>\n",
       "      <td>Li Yuan, Julian Chen, Andy Lau, Li Gong</td>\n",
       "    </tr>\n",
       "    <tr>\n",
       "      <th>3</th>\n",
       "      <td>Charlie's Angels</td>\n",
       "      <td>Sony Pictures Releasing</td>\n",
       "      <td>48000000.0</td>\n",
       "      <td>PG-13</td>\n",
       "      <td>118.0</td>\n",
       "      <td>['Action', 'Adventure', 'Comedy']</td>\n",
       "      <td>/title/tt5033998/credits/?ref_=bo_tt_tab#tabs</td>\n",
       "      <td>10800219.0</td>\n",
       "      <td>17803077.0</td>\n",
       "      <td>55476811.0</td>\n",
       "      <td>7639741.0</td>\n",
       "      <td>8351109.0</td>\n",
       "      <td>2019-11-15</td>\n",
       "      <td>2019-11-15</td>\n",
       "      <td>/title/tt5033998/?ref_=bo_gr_ti</td>\n",
       "      <td>Elizabeth Banks</td>\n",
       "      <td>Naomi Scott, Elizabeth Banks, Kristen Stewart,...</td>\n",
       "    </tr>\n",
       "    <tr>\n",
       "      <th>4</th>\n",
       "      <td>Southpaw</td>\n",
       "      <td>The Weinstein Company</td>\n",
       "      <td>30000000.0</td>\n",
       "      <td>R</td>\n",
       "      <td>124.0</td>\n",
       "      <td>['Action', 'Drama', 'Sport']</td>\n",
       "      <td>/title/tt1798684/credits/?ref_=bo_tt_tab#tabs</td>\n",
       "      <td>1168081.0</td>\n",
       "      <td>52421953.0</td>\n",
       "      <td>39548874.0</td>\n",
       "      <td>722844.0</td>\n",
       "      <td>16701294.0</td>\n",
       "      <td>2016-09-02</td>\n",
       "      <td>2015-07-24</td>\n",
       "      <td>/title/tt1798684/?ref_=bo_gr_ti</td>\n",
       "      <td>Antoine Fuqua</td>\n",
       "      <td>Rachel McAdams, Jake Gyllenhaal, Oona Laurence...</td>\n",
       "    </tr>\n",
       "  </tbody>\n",
       "</table>\n",
       "</div>"
      ],
      "text/plain": [
       "              movie_title               dom_distributor       budget   mpaa  \\\n",
       "0  Mission: Impossible II            Paramount Pictures  125000000.0  PG-13   \n",
       "1               Gladiator       DreamWorks Distribution  103000000.0      R   \n",
       "2         What Women Want  China Lion Film Distribution          NaN    NaN   \n",
       "3        Charlie's Angels       Sony Pictures Releasing   48000000.0  PG-13   \n",
       "4                Southpaw         The Weinstein Company   30000000.0      R   \n",
       "\n",
       "   running_time                               genres  \\\n",
       "0         123.0  ['Action', 'Adventure', 'Thriller']   \n",
       "1         155.0     ['Action', 'Adventure', 'Drama']   \n",
       "2         116.0      ['Comedy', 'Romance', 'Sci-Fi']   \n",
       "3         118.0    ['Action', 'Adventure', 'Comedy']   \n",
       "4         124.0         ['Action', 'Drama', 'Sport']   \n",
       "\n",
       "                                  cast_link_stub  china_total_gross  \\\n",
       "0  /title/tt0120755/credits/?ref_=bo_tt_tab#tabs          3453141.0   \n",
       "1  /title/tt0172495/credits/?ref_=bo_tt_tab#tabs          3376447.0   \n",
       "2  /title/tt1667150/credits/?ref_=bo_tt_tab#tabs         10288154.0   \n",
       "3  /title/tt5033998/credits/?ref_=bo_tt_tab#tabs         10800219.0   \n",
       "4  /title/tt1798684/credits/?ref_=bo_tt_tab#tabs          1168081.0   \n",
       "\n",
       "   domestic_toal_gross  international_total_gross  china_opening_sales  \\\n",
       "0          215409889.0                330978219.0                  NaN   \n",
       "1          187705427.0                272878533.0                  NaN   \n",
       "2             123526.0                 11714651.0                  NaN   \n",
       "3           17803077.0                 55476811.0            7639741.0   \n",
       "4           52421953.0                 39548874.0             722844.0   \n",
       "\n",
       "   domestic_opening_sales china_release_date dom_release_date  \\\n",
       "0              57845297.0         2000-08-21       2000-05-24   \n",
       "1              34819017.0         2000-08-05       2000-05-05   \n",
       "2                 53224.0         2011-02-03       2011-02-03   \n",
       "3               8351109.0         2019-11-15       2019-11-15   \n",
       "4              16701294.0         2016-09-02       2015-07-24   \n",
       "\n",
       "                 summary_link_stub         director  \\\n",
       "0  /title/tt0120755/?ref_=bo_gr_ti         John Woo   \n",
       "1  /title/tt0172495/?ref_=bo_gr_ti     Ridley Scott   \n",
       "2  /title/tt1667150/?ref_=bo_gr_ti      Daming Chen   \n",
       "3  /title/tt5033998/?ref_=bo_gr_ti  Elizabeth Banks   \n",
       "4  /title/tt1798684/?ref_=bo_gr_ti    Antoine Fuqua   \n",
       "\n",
       "                                      principal_cast  \n",
       "0  Dougray Scott, Tom Cruise, Thandie Newton, Vin...  \n",
       "1  Connie Nielsen, Oliver Reed, Russell Crowe, Jo...  \n",
       "2            Li Yuan, Julian Chen, Andy Lau, Li Gong  \n",
       "3  Naomi Scott, Elizabeth Banks, Kristen Stewart,...  \n",
       "4  Rachel McAdams, Jake Gyllenhaal, Oona Laurence...  "
      ]
     },
     "execution_count": 873,
     "metadata": {},
     "output_type": "execute_result"
    }
   ],
   "source": [
    "merged_final_df.head()"
   ]
  },
  {
   "cell_type": "code",
   "execution_count": 611,
   "metadata": {},
   "outputs": [
    {
     "data": {
      "text/html": [
       "<div>\n",
       "<style scoped>\n",
       "    .dataframe tbody tr th:only-of-type {\n",
       "        vertical-align: middle;\n",
       "    }\n",
       "\n",
       "    .dataframe tbody tr th {\n",
       "        vertical-align: top;\n",
       "    }\n",
       "\n",
       "    .dataframe thead th {\n",
       "        text-align: right;\n",
       "    }\n",
       "</style>\n",
       "<table border=\"1\" class=\"dataframe\">\n",
       "  <thead>\n",
       "    <tr style=\"text-align: right;\">\n",
       "      <th></th>\n",
       "      <th>Unnamed: 0</th>\n",
       "      <th>movie_title</th>\n",
       "      <th>director</th>\n",
       "      <th>principal_cast</th>\n",
       "    </tr>\n",
       "  </thead>\n",
       "  <tbody>\n",
       "    <tr>\n",
       "      <th>0</th>\n",
       "      <td>0</td>\n",
       "      <td>Mission: Impossible II (2000)</td>\n",
       "      <td>John Woo</td>\n",
       "      <td>['Ryan Gosling', 'Thandie Newton', 'Bruce Will...</td>\n",
       "    </tr>\n",
       "    <tr>\n",
       "      <th>1</th>\n",
       "      <td>1</td>\n",
       "      <td>Gladiator (2000)</td>\n",
       "      <td>Ridley Scott</td>\n",
       "      <td>['Ryan Gosling', 'Thandie Newton', 'Bruce Will...</td>\n",
       "    </tr>\n",
       "    <tr>\n",
       "      <th>2</th>\n",
       "      <td>2</td>\n",
       "      <td>What Women Want (2011)</td>\n",
       "      <td>Daming Chen</td>\n",
       "      <td>['Ryan Gosling', 'Thandie Newton', 'Bruce Will...</td>\n",
       "    </tr>\n",
       "    <tr>\n",
       "      <th>3</th>\n",
       "      <td>3</td>\n",
       "      <td>Charlie's Angels (2019)</td>\n",
       "      <td>Elizabeth Banks</td>\n",
       "      <td>['Ryan Gosling', 'Thandie Newton', 'Bruce Will...</td>\n",
       "    </tr>\n",
       "    <tr>\n",
       "      <th>4</th>\n",
       "      <td>4</td>\n",
       "      <td>Southpaw (2015)</td>\n",
       "      <td>Antoine Fuqua</td>\n",
       "      <td>['Ryan Gosling', 'Thandie Newton', 'Bruce Will...</td>\n",
       "    </tr>\n",
       "  </tbody>\n",
       "</table>\n",
       "</div>"
      ],
      "text/plain": [
       "   Unnamed: 0                    movie_title         director  \\\n",
       "0           0  Mission: Impossible II (2000)         John Woo   \n",
       "1           1               Gladiator (2000)     Ridley Scott   \n",
       "2           2         What Women Want (2011)      Daming Chen   \n",
       "3           3        Charlie's Angels (2019)  Elizabeth Banks   \n",
       "4           4                Southpaw (2015)    Antoine Fuqua   \n",
       "\n",
       "                                      principal_cast  \n",
       "0  ['Ryan Gosling', 'Thandie Newton', 'Bruce Will...  \n",
       "1  ['Ryan Gosling', 'Thandie Newton', 'Bruce Will...  \n",
       "2  ['Ryan Gosling', 'Thandie Newton', 'Bruce Will...  \n",
       "3  ['Ryan Gosling', 'Thandie Newton', 'Bruce Will...  \n",
       "4  ['Ryan Gosling', 'Thandie Newton', 'Bruce Will...  "
      ]
     },
     "execution_count": 611,
     "metadata": {},
     "output_type": "execute_result"
    }
   ],
   "source": [
    "mp3_df.head()"
   ]
  },
  {
   "cell_type": "code",
   "execution_count": 779,
   "metadata": {},
   "outputs": [
    {
     "data": {
      "text/plain": [
       "Index(['movie_title', 'dom_distributor', 'budget', 'mpaa', 'running_time',\n",
       "       'genres', 'cast_link_stub', 'china_total_gross', 'domestic_toal_gross',\n",
       "       'international_total_gross', 'china_opening_sales',\n",
       "       'domestic_opening_sales', 'china_release_date', 'dom_release_date',\n",
       "       'summary_link_stub', 'director', 'principal_cast'],\n",
       "      dtype='object')"
      ]
     },
     "execution_count": 779,
     "metadata": {},
     "output_type": "execute_result"
    }
   ],
   "source": [
    ".columns"
   ]
  },
  {
   "cell_type": "code",
   "execution_count": 889,
   "metadata": {},
   "outputs": [
    {
     "data": {
      "text/plain": [
       "799"
      ]
     },
     "execution_count": 889,
     "metadata": {},
     "output_type": "execute_result"
    }
   ],
   "source": [
    "len(merged_final_df)"
   ]
  },
  {
   "cell_type": "code",
   "execution_count": 866,
   "metadata": {},
   "outputs": [],
   "source": [
    "merged_final_df.dropna(subset=['china_total_gross'], inplace=True)"
   ]
  },
  {
   "cell_type": "code",
   "execution_count": 888,
   "metadata": {},
   "outputs": [
    {
     "data": {
      "text/html": [
       "<div>\n",
       "<style scoped>\n",
       "    .dataframe tbody tr th:only-of-type {\n",
       "        vertical-align: middle;\n",
       "    }\n",
       "\n",
       "    .dataframe tbody tr th {\n",
       "        vertical-align: top;\n",
       "    }\n",
       "\n",
       "    .dataframe thead th {\n",
       "        text-align: right;\n",
       "    }\n",
       "</style>\n",
       "<table border=\"1\" class=\"dataframe\">\n",
       "  <thead>\n",
       "    <tr style=\"text-align: right;\">\n",
       "      <th></th>\n",
       "      <th>movie_title</th>\n",
       "      <th>dom_distributor</th>\n",
       "      <th>budget</th>\n",
       "      <th>mpaa</th>\n",
       "      <th>running_time</th>\n",
       "      <th>genres</th>\n",
       "      <th>cast_link_stub</th>\n",
       "      <th>china_total_gross</th>\n",
       "      <th>domestic_toal_gross</th>\n",
       "      <th>international_total_gross</th>\n",
       "      <th>china_opening_sales</th>\n",
       "      <th>domestic_opening_sales</th>\n",
       "      <th>china_release_date</th>\n",
       "      <th>dom_release_date</th>\n",
       "      <th>summary_link_stub</th>\n",
       "      <th>director</th>\n",
       "      <th>principal_cast</th>\n",
       "    </tr>\n",
       "  </thead>\n",
       "  <tbody>\n",
       "  </tbody>\n",
       "</table>\n",
       "</div>"
      ],
      "text/plain": [
       "Empty DataFrame\n",
       "Columns: [movie_title, dom_distributor, budget, mpaa, running_time, genres, cast_link_stub, china_total_gross, domestic_toal_gross, international_total_gross, china_opening_sales, domestic_opening_sales, china_release_date, dom_release_date, summary_link_stub, director, principal_cast]\n",
       "Index: []"
      ]
     },
     "execution_count": 888,
     "metadata": {},
     "output_type": "execute_result"
    }
   ],
   "source": [
    "# some rows have duplicates wiht different release dates, and various gross\n",
    "\n",
    "merged_final_df[merged_final_df.movie_title.duplicated()]"
   ]
  },
  {
   "cell_type": "code",
   "execution_count": null,
   "metadata": {},
   "outputs": [],
   "source": [
    "# removing various dupes"
   ]
  },
  {
   "cell_type": "code",
   "execution_count": 825,
   "metadata": {},
   "outputs": [],
   "source": [
    "merged_final_df.drop(range(1146, 1151), inplace=True)"
   ]
  },
  {
   "cell_type": "code",
   "execution_count": 887,
   "metadata": {},
   "outputs": [],
   "source": [
    "merged_final_df.drop(987, inplace=True)"
   ]
  },
  {
   "cell_type": "code",
   "execution_count": 886,
   "metadata": {},
   "outputs": [
    {
     "data": {
      "text/html": [
       "<div>\n",
       "<style scoped>\n",
       "    .dataframe tbody tr th:only-of-type {\n",
       "        vertical-align: middle;\n",
       "    }\n",
       "\n",
       "    .dataframe tbody tr th {\n",
       "        vertical-align: top;\n",
       "    }\n",
       "\n",
       "    .dataframe thead th {\n",
       "        text-align: right;\n",
       "    }\n",
       "</style>\n",
       "<table border=\"1\" class=\"dataframe\">\n",
       "  <thead>\n",
       "    <tr style=\"text-align: right;\">\n",
       "      <th></th>\n",
       "      <th>movie_title</th>\n",
       "      <th>dom_distributor</th>\n",
       "      <th>budget</th>\n",
       "      <th>mpaa</th>\n",
       "      <th>running_time</th>\n",
       "      <th>genres</th>\n",
       "      <th>cast_link_stub</th>\n",
       "      <th>china_total_gross</th>\n",
       "      <th>domestic_toal_gross</th>\n",
       "      <th>international_total_gross</th>\n",
       "      <th>china_opening_sales</th>\n",
       "      <th>domestic_opening_sales</th>\n",
       "      <th>china_release_date</th>\n",
       "      <th>dom_release_date</th>\n",
       "      <th>summary_link_stub</th>\n",
       "      <th>director</th>\n",
       "      <th>principal_cast</th>\n",
       "    </tr>\n",
       "  </thead>\n",
       "  <tbody>\n",
       "  </tbody>\n",
       "</table>\n",
       "</div>"
      ],
      "text/plain": [
       "Empty DataFrame\n",
       "Columns: [movie_title, dom_distributor, budget, mpaa, running_time, genres, cast_link_stub, china_total_gross, domestic_toal_gross, international_total_gross, china_opening_sales, domestic_opening_sales, china_release_date, dom_release_date, summary_link_stub, director, principal_cast]\n",
       "Index: []"
      ]
     },
     "execution_count": 886,
     "metadata": {},
     "output_type": "execute_result"
    }
   ],
   "source": [
    "merged_final_df[merged_final_df.movie_title == 'Tall Tales']"
   ]
  },
  {
   "cell_type": "code",
   "execution_count": 895,
   "metadata": {},
   "outputs": [
    {
     "name": "stdout",
     "output_type": "stream",
     "text": [
      "<class 'pandas.core.frame.DataFrame'>\n",
      "Int64Index: 799 entries, 0 to 1160\n",
      "Data columns (total 17 columns):\n",
      " #   Column                     Non-Null Count  Dtype         \n",
      "---  ------                     --------------  -----         \n",
      " 0   movie_title                799 non-null    object        \n",
      " 1   dom_distributor            791 non-null    object        \n",
      " 2   budget                     427 non-null    float64       \n",
      " 3   mpaa                       611 non-null    object        \n",
      " 4   running_time               781 non-null    float64       \n",
      " 5   genres                     799 non-null    object        \n",
      " 6   cast_link_stub             799 non-null    object        \n",
      " 7   china_total_gross          799 non-null    float64       \n",
      " 8   domestic_toal_gross        799 non-null    float64       \n",
      " 9   international_total_gross  799 non-null    float64       \n",
      " 10  china_opening_sales        408 non-null    float64       \n",
      " 11  domestic_opening_sales     769 non-null    float64       \n",
      " 12  china_release_date         789 non-null    datetime64[ns]\n",
      " 13  dom_release_date           797 non-null    datetime64[ns]\n",
      " 14  summary_link_stub          799 non-null    object        \n",
      " 15  director                   798 non-null    object        \n",
      " 16  principal_cast             798 non-null    object        \n",
      "dtypes: datetime64[ns](2), float64(7), object(8)\n",
      "memory usage: 112.4+ KB\n"
     ]
    }
   ],
   "source": [
    "merged_final_df.info()"
   ]
  },
  {
   "cell_type": "code",
   "execution_count": 896,
   "metadata": {},
   "outputs": [],
   "source": [
    "# CONVERTING FINAL DATA TO DF AND SAVING AS CSV\n",
    "\n",
    "merged_final_df.to_csv('merged_final_df.csv')"
   ]
  },
  {
   "cell_type": "code",
   "execution_count": 902,
   "metadata": {},
   "outputs": [
    {
     "data": {
      "text/plain": [
       "295"
      ]
     },
     "execution_count": 902,
     "metadata": {},
     "output_type": "execute_result"
    }
   ],
   "source": [
    "# Movies that made more money in China than USA\n",
    "\n",
    "len(merged_final_df[merged_final_df.china_total_gross > merged_final_df.domestic_toal_gross])"
   ]
  },
  {
   "cell_type": "code",
   "execution_count": 913,
   "metadata": {},
   "outputs": [
    {
     "data": {
      "text/plain": [
       "278"
      ]
     },
     "execution_count": 913,
     "metadata": {},
     "output_type": "execute_result"
    }
   ],
   "source": [
    "# Movies that did better in China than USA & were released in countries other than US and China (have greater int'l audience)\n",
    "\n",
    "len(merged_final_df[(merged_final_df.china_total_gross > merged_final_df.domestic_toal_gross) & (merged_final_df.china_total_gross != merged_final_df.international_total_gross)].sort_values(by='domestic_toal_gross', ascending=False))"
   ]
  },
  {
   "cell_type": "code",
   "execution_count": 916,
   "metadata": {},
   "outputs": [
    {
     "data": {
      "text/plain": [
       "20"
      ]
     },
     "execution_count": 916,
     "metadata": {},
     "output_type": "execute_result"
    }
   ],
   "source": [
    "# Movies where international sales ONLY come from china\n",
    "\n",
    "len(merged_final_df[merged_final_df.china_total_gross == merged_final_df.international_total_gross])"
   ]
  },
  {
   "cell_type": "code",
   "execution_count": 918,
   "metadata": {},
   "outputs": [
    {
     "data": {
      "text/html": [
       "<div>\n",
       "<style scoped>\n",
       "    .dataframe tbody tr th:only-of-type {\n",
       "        vertical-align: middle;\n",
       "    }\n",
       "\n",
       "    .dataframe tbody tr th {\n",
       "        vertical-align: top;\n",
       "    }\n",
       "\n",
       "    .dataframe thead th {\n",
       "        text-align: right;\n",
       "    }\n",
       "</style>\n",
       "<table border=\"1\" class=\"dataframe\">\n",
       "  <thead>\n",
       "    <tr style=\"text-align: right;\">\n",
       "      <th></th>\n",
       "      <th>movie_title</th>\n",
       "      <th>dom_distributor</th>\n",
       "      <th>budget</th>\n",
       "      <th>mpaa</th>\n",
       "      <th>running_time</th>\n",
       "      <th>genres</th>\n",
       "      <th>cast_link_stub</th>\n",
       "      <th>china_total_gross</th>\n",
       "      <th>domestic_toal_gross</th>\n",
       "      <th>international_total_gross</th>\n",
       "      <th>china_opening_sales</th>\n",
       "      <th>domestic_opening_sales</th>\n",
       "      <th>china_release_date</th>\n",
       "      <th>dom_release_date</th>\n",
       "      <th>summary_link_stub</th>\n",
       "      <th>director</th>\n",
       "      <th>principal_cast</th>\n",
       "    </tr>\n",
       "  </thead>\n",
       "  <tbody>\n",
       "    <tr>\n",
       "      <th>616</th>\n",
       "      <td>The Ark of Mr Chow</td>\n",
       "      <td>China Lion Film Distribution</td>\n",
       "      <td>NaN</td>\n",
       "      <td>NaN</td>\n",
       "      <td>106.0</td>\n",
       "      <td>['Comedy']</td>\n",
       "      <td>/title/tt4727756/credits/?ref_=bo_tt_tab#tabs</td>\n",
       "      <td>7840000.0</td>\n",
       "      <td>54075.0</td>\n",
       "      <td>7840000.0</td>\n",
       "      <td>NaN</td>\n",
       "      <td>22583.0</td>\n",
       "      <td>2015-06-19</td>\n",
       "      <td>2015-06-19</td>\n",
       "      <td>/title/tt4727756/?ref_=bo_gr_ti</td>\n",
       "      <td>Yang Xiao</td>\n",
       "      <td>Yuexin Wang, Dongyu Zhou, Honglei Sun, Zijian ...</td>\n",
       "    </tr>\n",
       "    <tr>\n",
       "      <th>621</th>\n",
       "      <td>A Fool</td>\n",
       "      <td>China Lion Film Distribution</td>\n",
       "      <td>NaN</td>\n",
       "      <td>NaN</td>\n",
       "      <td>103.0</td>\n",
       "      <td>['Comedy', 'Drama']</td>\n",
       "      <td>/title/tt3856504/credits/?ref_=bo_tt_tab#tabs</td>\n",
       "      <td>2059608.0</td>\n",
       "      <td>8212.0</td>\n",
       "      <td>2059608.0</td>\n",
       "      <td>2040784.0</td>\n",
       "      <td>5741.0</td>\n",
       "      <td>2015-11-19</td>\n",
       "      <td>2015-11-27</td>\n",
       "      <td>/title/tt3856504/?ref_=bo_gr_ti</td>\n",
       "      <td>Jianbin Chen</td>\n",
       "      <td>Xuebing Wang, Jianbin Chen, Kim Scar, Qinqin J...</td>\n",
       "    </tr>\n",
       "    <tr>\n",
       "      <th>737</th>\n",
       "      <td>Phantom of the Theatre</td>\n",
       "      <td>Well Go USA Entertainment</td>\n",
       "      <td>NaN</td>\n",
       "      <td>NaN</td>\n",
       "      <td>103.0</td>\n",
       "      <td>['Drama', 'Mystery', 'Romance', 'Thriller']</td>\n",
       "      <td>/title/tt5639650/credits/?ref_=bo_tt_tab#tabs</td>\n",
       "      <td>13482888.0</td>\n",
       "      <td>43955.0</td>\n",
       "      <td>13482888.0</td>\n",
       "      <td>7986290.0</td>\n",
       "      <td>21001.0</td>\n",
       "      <td>2016-04-29</td>\n",
       "      <td>2016-05-06</td>\n",
       "      <td>/title/tt5639650/?ref_=bo_gr_ti</td>\n",
       "      <td>Wai-Man Yip</td>\n",
       "      <td>Simon Yam, Gangshan Jing, Ruby Lin, Tony Yo-ni...</td>\n",
       "    </tr>\n",
       "    <tr>\n",
       "      <th>752</th>\n",
       "      <td>Papa</td>\n",
       "      <td>Jampa Films</td>\n",
       "      <td>NaN</td>\n",
       "      <td>NaN</td>\n",
       "      <td>106.0</td>\n",
       "      <td>['Comedy', 'Drama', 'Family']</td>\n",
       "      <td>/title/tt4694440/credits/?ref_=bo_tt_tab#tabs</td>\n",
       "      <td>1329356.0</td>\n",
       "      <td>26677.0</td>\n",
       "      <td>1329356.0</td>\n",
       "      <td>920639.0</td>\n",
       "      <td>14644.0</td>\n",
       "      <td>2016-03-18</td>\n",
       "      <td>2016-03-18</td>\n",
       "      <td>/title/tt4694440/?ref_=bo_gr_ti</td>\n",
       "      <td>Xiao Zheng</td>\n",
       "      <td>Yu Xia, Zi Yang, David Wu, Zuer Song</td>\n",
       "    </tr>\n",
       "    <tr>\n",
       "      <th>753</th>\n",
       "      <td>Kaili Blues</td>\n",
       "      <td>Grasshopper Film</td>\n",
       "      <td>NaN</td>\n",
       "      <td>NaN</td>\n",
       "      <td>113.0</td>\n",
       "      <td>['Drama', 'Mystery']</td>\n",
       "      <td>/title/tt4613272/credits/?ref_=bo_tt_tab#tabs</td>\n",
       "      <td>903072.0</td>\n",
       "      <td>32164.0</td>\n",
       "      <td>903072.0</td>\n",
       "      <td>494049.0</td>\n",
       "      <td>4164.0</td>\n",
       "      <td>2016-07-15</td>\n",
       "      <td>2016-05-20</td>\n",
       "      <td>/title/tt4613272/?ref_=bo_gr_ti</td>\n",
       "      <td>Bi Gan</td>\n",
       "      <td>Feiyang Luo, Yongzhong Chen, Linyan Liu, Yue Guo</td>\n",
       "    </tr>\n",
       "    <tr>\n",
       "      <th>843</th>\n",
       "      <td>This Is Not What I Expected</td>\n",
       "      <td>Well Go USA Entertainment</td>\n",
       "      <td>NaN</td>\n",
       "      <td>NaN</td>\n",
       "      <td>106.0</td>\n",
       "      <td>['Comedy', 'Drama', 'Romance']</td>\n",
       "      <td>/title/tt6772874/credits/?ref_=bo_tt_tab#tabs</td>\n",
       "      <td>30658945.0</td>\n",
       "      <td>337670.0</td>\n",
       "      <td>30658945.0</td>\n",
       "      <td>12646812.0</td>\n",
       "      <td>135252.0</td>\n",
       "      <td>2017-04-27</td>\n",
       "      <td>2017-05-05</td>\n",
       "      <td>/title/tt6772874/?ref_=bo_gr_ti</td>\n",
       "      <td>Derek Hui</td>\n",
       "      <td>Takeshi Kaneshiro, Ming Xi, Yi-zhou Sun, Dongy...</td>\n",
       "    </tr>\n",
       "    <tr>\n",
       "      <th>849</th>\n",
       "      <td>Extraordinary Mission</td>\n",
       "      <td>Crimson Forest</td>\n",
       "      <td>23000000.0</td>\n",
       "      <td>NaN</td>\n",
       "      <td>117.0</td>\n",
       "      <td>['Action', 'Crime']</td>\n",
       "      <td>/title/tt6690310/credits/?ref_=bo_tt_tab#tabs</td>\n",
       "      <td>22703590.0</td>\n",
       "      <td>54174.0</td>\n",
       "      <td>22703590.0</td>\n",
       "      <td>NaN</td>\n",
       "      <td>28649.0</td>\n",
       "      <td>2017-03-31</td>\n",
       "      <td>2017-04-07</td>\n",
       "      <td>/title/tt6690310/?ref_=bo_gr_ti</td>\n",
       "      <td>Alan Mak</td>\n",
       "      <td>Yueting Lang, Yanhui Wang, Yihong Duan, Xuan H...</td>\n",
       "    </tr>\n",
       "    <tr>\n",
       "      <th>860</th>\n",
       "      <td>God of War</td>\n",
       "      <td>Well Go USA Entertainment</td>\n",
       "      <td>NaN</td>\n",
       "      <td>NaN</td>\n",
       "      <td>128.0</td>\n",
       "      <td>['Action', 'History']</td>\n",
       "      <td>/title/tt6083388/credits/?ref_=bo_tt_tab#tabs</td>\n",
       "      <td>9506524.0</td>\n",
       "      <td>53000.0</td>\n",
       "      <td>9506524.0</td>\n",
       "      <td>4155029.0</td>\n",
       "      <td>23912.0</td>\n",
       "      <td>2017-05-27</td>\n",
       "      <td>2017-06-02</td>\n",
       "      <td>/title/tt6083388/?ref_=bo_gr_ti</td>\n",
       "      <td>Gordon Chan</td>\n",
       "      <td>Regina Wan, Keisuke Koide, Wenzhuo Zhao, Sammo...</td>\n",
       "    </tr>\n",
       "    <tr>\n",
       "      <th>869</th>\n",
       "      <td>In Harm's Way</td>\n",
       "      <td>Shout! Factory</td>\n",
       "      <td>NaN</td>\n",
       "      <td>NaN</td>\n",
       "      <td>97.0</td>\n",
       "      <td>['History', 'Romance', 'War']</td>\n",
       "      <td>/title/tt5759434/credits/?ref_=bo_tt_tab#tabs</td>\n",
       "      <td>4447734.0</td>\n",
       "      <td>4447734.0</td>\n",
       "      <td>4447734.0</td>\n",
       "      <td>1928669.0</td>\n",
       "      <td>NaN</td>\n",
       "      <td>2017-11-10</td>\n",
       "      <td>2018-11-02</td>\n",
       "      <td>/title/tt5759434/?ref_=bo_gr_ti</td>\n",
       "      <td>Bille August</td>\n",
       "      <td>Emile Hirsch, Cary Woodworth, Shaoqun Yu, Yife...</td>\n",
       "    </tr>\n",
       "    <tr>\n",
       "      <th>873</th>\n",
       "      <td>Soul on a String</td>\n",
       "      <td>Film Movement</td>\n",
       "      <td>NaN</td>\n",
       "      <td>NaN</td>\n",
       "      <td>142.0</td>\n",
       "      <td>['Drama']</td>\n",
       "      <td>/title/tt5974624/credits/?ref_=bo_tt_tab#tabs</td>\n",
       "      <td>487625.0</td>\n",
       "      <td>3669.0</td>\n",
       "      <td>487625.0</td>\n",
       "      <td>38877.0</td>\n",
       "      <td>1355.0</td>\n",
       "      <td>2017-08-04</td>\n",
       "      <td>2017-05-19</td>\n",
       "      <td>/title/tt5974624/?ref_=bo_gr_ti</td>\n",
       "      <td>Yang Zhang</td>\n",
       "      <td>Jinpa, Quniciren, Siano Dudiom Zahi</td>\n",
       "    </tr>\n",
       "    <tr>\n",
       "      <th>954</th>\n",
       "      <td>Spirited Away</td>\n",
       "      <td>Walt Disney Studios</td>\n",
       "      <td>NaN</td>\n",
       "      <td>PG</td>\n",
       "      <td>125.0</td>\n",
       "      <td>['Adventure', 'Animation', 'Family', 'Fantasy'...</td>\n",
       "      <td>/title/tt0245429/credits/?ref_=bo_tt_tab#tabs</td>\n",
       "      <td>69010962.0</td>\n",
       "      <td>1175067.0</td>\n",
       "      <td>69010962.0</td>\n",
       "      <td>27842673.0</td>\n",
       "      <td>494054.0</td>\n",
       "      <td>2019-06-21</td>\n",
       "      <td>2018-10-28</td>\n",
       "      <td>/title/tt0245429/?ref_=bo_gr_ti</td>\n",
       "      <td>Hayao Miyazaki</td>\n",
       "      <td>Daveigh Chase, Rumi Hiiragi, Suzanne Pleshette...</td>\n",
       "    </tr>\n",
       "    <tr>\n",
       "      <th>965</th>\n",
       "      <td>Annihilation</td>\n",
       "      <td>Paramount Pictures</td>\n",
       "      <td>40000000.0</td>\n",
       "      <td>R</td>\n",
       "      <td>115.0</td>\n",
       "      <td>['Adventure', 'Drama', 'Horror', 'Mystery', 'S...</td>\n",
       "      <td>/title/tt2798920/credits/?ref_=bo_tt_tab#tabs</td>\n",
       "      <td>10338614.0</td>\n",
       "      <td>32732301.0</td>\n",
       "      <td>10338614.0</td>\n",
       "      <td>6040637.0</td>\n",
       "      <td>11071584.0</td>\n",
       "      <td>2018-04-13</td>\n",
       "      <td>2018-02-23</td>\n",
       "      <td>/title/tt2798920/?ref_=bo_gr_ti</td>\n",
       "      <td>Alex Garland</td>\n",
       "      <td>Tessa Thompson, Benedict Wong, Jennifer Jason ...</td>\n",
       "    </tr>\n",
       "    <tr>\n",
       "      <th>1024</th>\n",
       "      <td>Maquia: When the Promised Flower Blooms</td>\n",
       "      <td>Eleven Arts</td>\n",
       "      <td>NaN</td>\n",
       "      <td>NaN</td>\n",
       "      <td>115.0</td>\n",
       "      <td>['Adventure', 'Animation', 'Drama', 'Family', ...</td>\n",
       "      <td>/title/tt7339826/credits/?ref_=bo_tt_tab#tabs</td>\n",
       "      <td>2551388.0</td>\n",
       "      <td>18539.0</td>\n",
       "      <td>2551388.0</td>\n",
       "      <td>1591879.0</td>\n",
       "      <td>6100.0</td>\n",
       "      <td>2019-02-22</td>\n",
       "      <td>2018-09-21</td>\n",
       "      <td>/title/tt7339826/?ref_=bo_gr_ti</td>\n",
       "      <td>Mari Okada</td>\n",
       "      <td>Yôko Hikasa, Manaka Iwami, Miyu Irino, Hiroaki...</td>\n",
       "    </tr>\n",
       "    <tr>\n",
       "      <th>1029</th>\n",
       "      <td>Shed Skin Papa</td>\n",
       "      <td>China Lion Film Distribution</td>\n",
       "      <td>NaN</td>\n",
       "      <td>NaN</td>\n",
       "      <td>100.0</td>\n",
       "      <td>['Comedy', 'Drama']</td>\n",
       "      <td>/title/tt6135054/credits/?ref_=bo_tt_tab#tabs</td>\n",
       "      <td>1264734.0</td>\n",
       "      <td>13331.0</td>\n",
       "      <td>1264734.0</td>\n",
       "      <td>1012175.0</td>\n",
       "      <td>7950.0</td>\n",
       "      <td>2018-03-23</td>\n",
       "      <td>2018-03-23</td>\n",
       "      <td>/title/tt6135054/?ref_=bo_gr_ti</td>\n",
       "      <td>Roy Szeto</td>\n",
       "      <td>Kuan Tai Chen, Kwok-Pong Chan, Louis Koo, Fran...</td>\n",
       "    </tr>\n",
       "    <tr>\n",
       "      <th>1030</th>\n",
       "      <td>The Captain</td>\n",
       "      <td>Well Go USA Entertainment</td>\n",
       "      <td>NaN</td>\n",
       "      <td>NaN</td>\n",
       "      <td>111.0</td>\n",
       "      <td>['Action', 'Adventure', 'Drama', 'Family']</td>\n",
       "      <td>/title/tt10218664/credits/?ref_=bo_tt_tab#tabs</td>\n",
       "      <td>416246690.0</td>\n",
       "      <td>706572.0</td>\n",
       "      <td>416246690.0</td>\n",
       "      <td>102353091.0</td>\n",
       "      <td>324769.0</td>\n",
       "      <td>2019-09-30</td>\n",
       "      <td>2019-10-18</td>\n",
       "      <td>/title/tt10218664/?ref_=bo_gr_ti</td>\n",
       "      <td>Andrew Lau</td>\n",
       "      <td>Quan Yuan, Hao Ou, Hanyu Zhang, Jiang Du</td>\n",
       "    </tr>\n",
       "    <tr>\n",
       "      <th>1034</th>\n",
       "      <td>Red Sorghum</td>\n",
       "      <td>New Yorker Films</td>\n",
       "      <td>NaN</td>\n",
       "      <td>NaN</td>\n",
       "      <td>91.0</td>\n",
       "      <td>['Drama', 'History', 'Romance', 'War']</td>\n",
       "      <td>/title/tt0093206/credits/?ref_=bo_tt_tab#tabs</td>\n",
       "      <td>108371.0</td>\n",
       "      <td>108371.0</td>\n",
       "      <td>108371.0</td>\n",
       "      <td>64620.0</td>\n",
       "      <td>NaN</td>\n",
       "      <td>2018-10-12</td>\n",
       "      <td>NaT</td>\n",
       "      <td>/title/tt0093206/?ref_=bo_gr_ti</td>\n",
       "      <td>Yimou Zhang</td>\n",
       "      <td>Ji Liu, Wen Jiang, Rujun Teng, Li Gong</td>\n",
       "    </tr>\n",
       "    <tr>\n",
       "      <th>1119</th>\n",
       "      <td>White Snake</td>\n",
       "      <td>GKIDS</td>\n",
       "      <td>NaN</td>\n",
       "      <td>NaN</td>\n",
       "      <td>99.0</td>\n",
       "      <td>['Action', 'Adventure', 'Animation', 'Fantasy'...</td>\n",
       "      <td>/title/tt9288776/credits/?ref_=bo_tt_tab#tabs</td>\n",
       "      <td>61597046.0</td>\n",
       "      <td>34730.0</td>\n",
       "      <td>61597046.0</td>\n",
       "      <td>5862162.0</td>\n",
       "      <td>2791.0</td>\n",
       "      <td>2019-01-11</td>\n",
       "      <td>2019-11-15</td>\n",
       "      <td>/title/tt9288776/?ref_=bo_gr_ti</td>\n",
       "      <td>Amp Wong</td>\n",
       "      <td>Matthew Moy, Vincent Rodriguez III, James Sie,...</td>\n",
       "    </tr>\n",
       "    <tr>\n",
       "      <th>1128</th>\n",
       "      <td>Peppa Celebrates Chinese New Year</td>\n",
       "      <td>STX Entertainment</td>\n",
       "      <td>NaN</td>\n",
       "      <td>G</td>\n",
       "      <td>81.0</td>\n",
       "      <td>['Animation', 'Family']</td>\n",
       "      <td>/title/tt9629026/credits/?ref_=bo_tt_tab#tabs</td>\n",
       "      <td>18521815.0</td>\n",
       "      <td>131225.0</td>\n",
       "      <td>18521815.0</td>\n",
       "      <td>2733125.0</td>\n",
       "      <td>66913.0</td>\n",
       "      <td>2019-02-05</td>\n",
       "      <td>2019-02-06</td>\n",
       "      <td>/title/tt9629026/?ref_=bo_gr_ti</td>\n",
       "      <td>Dapeng Zhang</td>\n",
       "      <td>Yawen Zhu, Michelle Wai, Yun Liu</td>\n",
       "    </tr>\n",
       "    <tr>\n",
       "      <th>1135</th>\n",
       "      <td>Savage</td>\n",
       "      <td>Well Go USA Entertainment</td>\n",
       "      <td>NaN</td>\n",
       "      <td>Not Rated</td>\n",
       "      <td>112.0</td>\n",
       "      <td>['Action', 'Crime', 'Thriller']</td>\n",
       "      <td>/title/tt9742422/credits/?ref_=bo_tt_tab#tabs</td>\n",
       "      <td>4066011.0</td>\n",
       "      <td>74491.0</td>\n",
       "      <td>4066011.0</td>\n",
       "      <td>1085370.0</td>\n",
       "      <td>36590.0</td>\n",
       "      <td>2019-04-30</td>\n",
       "      <td>2019-05-03</td>\n",
       "      <td>/title/tt9742422/?ref_=bo_gr_ti</td>\n",
       "      <td>Siwei Cui</td>\n",
       "      <td>Fan Liao, Jue Huang, Ni Ni, Chen Chang</td>\n",
       "    </tr>\n",
       "    <tr>\n",
       "      <th>1137</th>\n",
       "      <td>Midnight Diner</td>\n",
       "      <td>Well Go USA Entertainment</td>\n",
       "      <td>NaN</td>\n",
       "      <td>NaN</td>\n",
       "      <td>103.0</td>\n",
       "      <td>['Drama']</td>\n",
       "      <td>/title/tt10904418/credits/?ref_=bo_tt_tab#tabs</td>\n",
       "      <td>3394216.0</td>\n",
       "      <td>18555.0</td>\n",
       "      <td>3394216.0</td>\n",
       "      <td>2633997.0</td>\n",
       "      <td>10861.0</td>\n",
       "      <td>2019-08-30</td>\n",
       "      <td>2019-09-20</td>\n",
       "      <td>/title/tt10904418/?ref_=bo_gr_ti</td>\n",
       "      <td>Tony Ka Fai Leung</td>\n",
       "      <td>Tony Ka Fai Leung, Yibai Zhang, Tao Liu, Tony ...</td>\n",
       "    </tr>\n",
       "  </tbody>\n",
       "</table>\n",
       "</div>"
      ],
      "text/plain": [
       "                                  movie_title               dom_distributor  \\\n",
       "616                        The Ark of Mr Chow  China Lion Film Distribution   \n",
       "621                                    A Fool  China Lion Film Distribution   \n",
       "737                    Phantom of the Theatre     Well Go USA Entertainment   \n",
       "752                                      Papa                   Jampa Films   \n",
       "753                               Kaili Blues              Grasshopper Film   \n",
       "843               This Is Not What I Expected     Well Go USA Entertainment   \n",
       "849                     Extraordinary Mission                Crimson Forest   \n",
       "860                                God of War     Well Go USA Entertainment   \n",
       "869                             In Harm's Way                Shout! Factory   \n",
       "873                          Soul on a String                 Film Movement   \n",
       "954                             Spirited Away           Walt Disney Studios   \n",
       "965                              Annihilation            Paramount Pictures   \n",
       "1024  Maquia: When the Promised Flower Blooms                   Eleven Arts   \n",
       "1029                           Shed Skin Papa  China Lion Film Distribution   \n",
       "1030                              The Captain     Well Go USA Entertainment   \n",
       "1034                              Red Sorghum              New Yorker Films   \n",
       "1119                              White Snake                         GKIDS   \n",
       "1128        Peppa Celebrates Chinese New Year             STX Entertainment   \n",
       "1135                                   Savage     Well Go USA Entertainment   \n",
       "1137                           Midnight Diner     Well Go USA Entertainment   \n",
       "\n",
       "          budget       mpaa  running_time  \\\n",
       "616          NaN        NaN         106.0   \n",
       "621          NaN        NaN         103.0   \n",
       "737          NaN        NaN         103.0   \n",
       "752          NaN        NaN         106.0   \n",
       "753          NaN        NaN         113.0   \n",
       "843          NaN        NaN         106.0   \n",
       "849   23000000.0        NaN         117.0   \n",
       "860          NaN        NaN         128.0   \n",
       "869          NaN        NaN          97.0   \n",
       "873          NaN        NaN         142.0   \n",
       "954          NaN         PG         125.0   \n",
       "965   40000000.0          R         115.0   \n",
       "1024         NaN        NaN         115.0   \n",
       "1029         NaN        NaN         100.0   \n",
       "1030         NaN        NaN         111.0   \n",
       "1034         NaN        NaN          91.0   \n",
       "1119         NaN        NaN          99.0   \n",
       "1128         NaN          G          81.0   \n",
       "1135         NaN  Not Rated         112.0   \n",
       "1137         NaN        NaN         103.0   \n",
       "\n",
       "                                                 genres  \\\n",
       "616                                          ['Comedy']   \n",
       "621                                 ['Comedy', 'Drama']   \n",
       "737         ['Drama', 'Mystery', 'Romance', 'Thriller']   \n",
       "752                       ['Comedy', 'Drama', 'Family']   \n",
       "753                                ['Drama', 'Mystery']   \n",
       "843                      ['Comedy', 'Drama', 'Romance']   \n",
       "849                                 ['Action', 'Crime']   \n",
       "860                               ['Action', 'History']   \n",
       "869                       ['History', 'Romance', 'War']   \n",
       "873                                           ['Drama']   \n",
       "954   ['Adventure', 'Animation', 'Family', 'Fantasy'...   \n",
       "965   ['Adventure', 'Drama', 'Horror', 'Mystery', 'S...   \n",
       "1024  ['Adventure', 'Animation', 'Drama', 'Family', ...   \n",
       "1029                                ['Comedy', 'Drama']   \n",
       "1030         ['Action', 'Adventure', 'Drama', 'Family']   \n",
       "1034             ['Drama', 'History', 'Romance', 'War']   \n",
       "1119  ['Action', 'Adventure', 'Animation', 'Fantasy'...   \n",
       "1128                            ['Animation', 'Family']   \n",
       "1135                    ['Action', 'Crime', 'Thriller']   \n",
       "1137                                          ['Drama']   \n",
       "\n",
       "                                      cast_link_stub  china_total_gross  \\\n",
       "616    /title/tt4727756/credits/?ref_=bo_tt_tab#tabs          7840000.0   \n",
       "621    /title/tt3856504/credits/?ref_=bo_tt_tab#tabs          2059608.0   \n",
       "737    /title/tt5639650/credits/?ref_=bo_tt_tab#tabs         13482888.0   \n",
       "752    /title/tt4694440/credits/?ref_=bo_tt_tab#tabs          1329356.0   \n",
       "753    /title/tt4613272/credits/?ref_=bo_tt_tab#tabs           903072.0   \n",
       "843    /title/tt6772874/credits/?ref_=bo_tt_tab#tabs         30658945.0   \n",
       "849    /title/tt6690310/credits/?ref_=bo_tt_tab#tabs         22703590.0   \n",
       "860    /title/tt6083388/credits/?ref_=bo_tt_tab#tabs          9506524.0   \n",
       "869    /title/tt5759434/credits/?ref_=bo_tt_tab#tabs          4447734.0   \n",
       "873    /title/tt5974624/credits/?ref_=bo_tt_tab#tabs           487625.0   \n",
       "954    /title/tt0245429/credits/?ref_=bo_tt_tab#tabs         69010962.0   \n",
       "965    /title/tt2798920/credits/?ref_=bo_tt_tab#tabs         10338614.0   \n",
       "1024   /title/tt7339826/credits/?ref_=bo_tt_tab#tabs          2551388.0   \n",
       "1029   /title/tt6135054/credits/?ref_=bo_tt_tab#tabs          1264734.0   \n",
       "1030  /title/tt10218664/credits/?ref_=bo_tt_tab#tabs        416246690.0   \n",
       "1034   /title/tt0093206/credits/?ref_=bo_tt_tab#tabs           108371.0   \n",
       "1119   /title/tt9288776/credits/?ref_=bo_tt_tab#tabs         61597046.0   \n",
       "1128   /title/tt9629026/credits/?ref_=bo_tt_tab#tabs         18521815.0   \n",
       "1135   /title/tt9742422/credits/?ref_=bo_tt_tab#tabs          4066011.0   \n",
       "1137  /title/tt10904418/credits/?ref_=bo_tt_tab#tabs          3394216.0   \n",
       "\n",
       "      domestic_toal_gross  international_total_gross  china_opening_sales  \\\n",
       "616               54075.0                  7840000.0                  NaN   \n",
       "621                8212.0                  2059608.0            2040784.0   \n",
       "737               43955.0                 13482888.0            7986290.0   \n",
       "752               26677.0                  1329356.0             920639.0   \n",
       "753               32164.0                   903072.0             494049.0   \n",
       "843              337670.0                 30658945.0           12646812.0   \n",
       "849               54174.0                 22703590.0                  NaN   \n",
       "860               53000.0                  9506524.0            4155029.0   \n",
       "869             4447734.0                  4447734.0            1928669.0   \n",
       "873                3669.0                   487625.0              38877.0   \n",
       "954             1175067.0                 69010962.0           27842673.0   \n",
       "965            32732301.0                 10338614.0            6040637.0   \n",
       "1024              18539.0                  2551388.0            1591879.0   \n",
       "1029              13331.0                  1264734.0            1012175.0   \n",
       "1030             706572.0                416246690.0          102353091.0   \n",
       "1034             108371.0                   108371.0              64620.0   \n",
       "1119              34730.0                 61597046.0            5862162.0   \n",
       "1128             131225.0                 18521815.0            2733125.0   \n",
       "1135              74491.0                  4066011.0            1085370.0   \n",
       "1137              18555.0                  3394216.0            2633997.0   \n",
       "\n",
       "      domestic_opening_sales china_release_date dom_release_date  \\\n",
       "616                  22583.0         2015-06-19       2015-06-19   \n",
       "621                   5741.0         2015-11-19       2015-11-27   \n",
       "737                  21001.0         2016-04-29       2016-05-06   \n",
       "752                  14644.0         2016-03-18       2016-03-18   \n",
       "753                   4164.0         2016-07-15       2016-05-20   \n",
       "843                 135252.0         2017-04-27       2017-05-05   \n",
       "849                  28649.0         2017-03-31       2017-04-07   \n",
       "860                  23912.0         2017-05-27       2017-06-02   \n",
       "869                      NaN         2017-11-10       2018-11-02   \n",
       "873                   1355.0         2017-08-04       2017-05-19   \n",
       "954                 494054.0         2019-06-21       2018-10-28   \n",
       "965               11071584.0         2018-04-13       2018-02-23   \n",
       "1024                  6100.0         2019-02-22       2018-09-21   \n",
       "1029                  7950.0         2018-03-23       2018-03-23   \n",
       "1030                324769.0         2019-09-30       2019-10-18   \n",
       "1034                     NaN         2018-10-12              NaT   \n",
       "1119                  2791.0         2019-01-11       2019-11-15   \n",
       "1128                 66913.0         2019-02-05       2019-02-06   \n",
       "1135                 36590.0         2019-04-30       2019-05-03   \n",
       "1137                 10861.0         2019-08-30       2019-09-20   \n",
       "\n",
       "                     summary_link_stub           director  \\\n",
       "616    /title/tt4727756/?ref_=bo_gr_ti          Yang Xiao   \n",
       "621    /title/tt3856504/?ref_=bo_gr_ti       Jianbin Chen   \n",
       "737    /title/tt5639650/?ref_=bo_gr_ti        Wai-Man Yip   \n",
       "752    /title/tt4694440/?ref_=bo_gr_ti         Xiao Zheng   \n",
       "753    /title/tt4613272/?ref_=bo_gr_ti             Bi Gan   \n",
       "843    /title/tt6772874/?ref_=bo_gr_ti          Derek Hui   \n",
       "849    /title/tt6690310/?ref_=bo_gr_ti           Alan Mak   \n",
       "860    /title/tt6083388/?ref_=bo_gr_ti        Gordon Chan   \n",
       "869    /title/tt5759434/?ref_=bo_gr_ti       Bille August   \n",
       "873    /title/tt5974624/?ref_=bo_gr_ti         Yang Zhang   \n",
       "954    /title/tt0245429/?ref_=bo_gr_ti     Hayao Miyazaki   \n",
       "965    /title/tt2798920/?ref_=bo_gr_ti       Alex Garland   \n",
       "1024   /title/tt7339826/?ref_=bo_gr_ti         Mari Okada   \n",
       "1029   /title/tt6135054/?ref_=bo_gr_ti          Roy Szeto   \n",
       "1030  /title/tt10218664/?ref_=bo_gr_ti         Andrew Lau   \n",
       "1034   /title/tt0093206/?ref_=bo_gr_ti        Yimou Zhang   \n",
       "1119   /title/tt9288776/?ref_=bo_gr_ti           Amp Wong   \n",
       "1128   /title/tt9629026/?ref_=bo_gr_ti       Dapeng Zhang   \n",
       "1135   /title/tt9742422/?ref_=bo_gr_ti          Siwei Cui   \n",
       "1137  /title/tt10904418/?ref_=bo_gr_ti  Tony Ka Fai Leung   \n",
       "\n",
       "                                         principal_cast  \n",
       "616   Yuexin Wang, Dongyu Zhou, Honglei Sun, Zijian ...  \n",
       "621   Xuebing Wang, Jianbin Chen, Kim Scar, Qinqin J...  \n",
       "737   Simon Yam, Gangshan Jing, Ruby Lin, Tony Yo-ni...  \n",
       "752                Yu Xia, Zi Yang, David Wu, Zuer Song  \n",
       "753    Feiyang Luo, Yongzhong Chen, Linyan Liu, Yue Guo  \n",
       "843   Takeshi Kaneshiro, Ming Xi, Yi-zhou Sun, Dongy...  \n",
       "849   Yueting Lang, Yanhui Wang, Yihong Duan, Xuan H...  \n",
       "860   Regina Wan, Keisuke Koide, Wenzhuo Zhao, Sammo...  \n",
       "869   Emile Hirsch, Cary Woodworth, Shaoqun Yu, Yife...  \n",
       "873                 Jinpa, Quniciren, Siano Dudiom Zahi  \n",
       "954   Daveigh Chase, Rumi Hiiragi, Suzanne Pleshette...  \n",
       "965   Tessa Thompson, Benedict Wong, Jennifer Jason ...  \n",
       "1024  Yôko Hikasa, Manaka Iwami, Miyu Irino, Hiroaki...  \n",
       "1029  Kuan Tai Chen, Kwok-Pong Chan, Louis Koo, Fran...  \n",
       "1030           Quan Yuan, Hao Ou, Hanyu Zhang, Jiang Du  \n",
       "1034             Ji Liu, Wen Jiang, Rujun Teng, Li Gong  \n",
       "1119  Matthew Moy, Vincent Rodriguez III, James Sie,...  \n",
       "1128                   Yawen Zhu, Michelle Wai, Yun Liu  \n",
       "1135             Fan Liao, Jue Huang, Ni Ni, Chen Chang  \n",
       "1137  Tony Ka Fai Leung, Yibai Zhang, Tao Liu, Tony ...  "
      ]
     },
     "execution_count": 918,
     "metadata": {},
     "output_type": "execute_result"
    }
   ],
   "source": [
    "merged_final_df[merged_final_df.china_total_gross == merged_final_df.international_total_gross]"
   ]
  },
  {
   "cell_type": "code",
   "execution_count": 919,
   "metadata": {},
   "outputs": [],
   "source": [
    "# CONVERTING  C L E A N  FINAL DATA TO DF AND SAVING AS CSV\n",
    "\n",
    "merged_final_df.to_csv('merged_final_df_clean.csv')"
   ]
  },
  {
   "cell_type": "markdown",
   "metadata": {},
   "source": [
    "## Scraping list of top directors"
   ]
  },
  {
   "cell_type": "code",
   "execution_count": 3,
   "metadata": {},
   "outputs": [],
   "source": [
    "response = requests.get('https://en.wikipedia.org/wiki/List_of_highest-grossing_film_directors')\n",
    "page = response.text\n",
    "soup = BeautifulSoup(page, \"html5lib\")\n"
   ]
  },
  {
   "cell_type": "code",
   "execution_count": 16,
   "metadata": {},
   "outputs": [],
   "source": [
    "# top directors worldwide names\n",
    "\n",
    "names = soup.find('table').find_all('span')"
   ]
  },
  {
   "cell_type": "code",
   "execution_count": 24,
   "metadata": {},
   "outputs": [
    {
     "data": {
      "text/plain": [
       "['Michael Bay',\n",
       " 'Steven Spielberg',\n",
       " 'James Cameron',\n",
       " 'Russo brothers',\n",
       " 'David Yates',\n",
       " 'Christopher Nolan',\n",
       " 'Jon Favreau',\n",
       " 'Peter Jackson',\n",
       " 'J. J. Abrams',\n",
       " 'Tim Burton']"
      ]
     },
     "execution_count": 24,
     "metadata": {},
     "output_type": "execute_result"
    }
   ],
   "source": [
    "director_name_list = []\n",
    "\n",
    "for name in names:\n",
    "    name = name.text\n",
    "    name = name.strip()\n",
    "    if name in director_name_list:\n",
    "        pass\n",
    "    else:\n",
    "        director_name_list.append(name)\n",
    "\n",
    "list(set(director_name_list))"
   ]
  },
  {
   "cell_type": "code",
   "execution_count": 25,
   "metadata": {},
   "outputs": [
    {
     "data": {
      "text/plain": [
       "['Steven Spielberg',\n",
       " 'Russo brothers',\n",
       " 'Peter Jackson',\n",
       " 'Michael Bay',\n",
       " 'James Cameron',\n",
       " 'David Yates',\n",
       " 'Christopher Nolan',\n",
       " 'J. J. Abrams',\n",
       " 'Tim Burton',\n",
       " 'Jon Favreau']"
      ]
     },
     "execution_count": 25,
     "metadata": {},
     "output_type": "execute_result"
    }
   ],
   "source": [
    "director_name_list"
   ]
  },
  {
   "cell_type": "code",
   "execution_count": 40,
   "metadata": {},
   "outputs": [
    {
     "data": {
      "text/plain": [
       "[10548456861,\n",
       " 6844248566,\n",
       " 6546042615,\n",
       " 6443668117,\n",
       " 6235731293,\n",
       " 6020939913,\n",
       " 4704255828,\n",
       " 4625988452,\n",
       " 4412653899,\n",
       " 4333849545]"
      ]
     },
     "execution_count": 40,
     "metadata": {},
     "output_type": "execute_result"
    }
   ],
   "source": [
    "lifetime_gross_raw = soup.find('table').find_all('td', attrs={'style':'text-align:right;'})\n",
    "\n",
    "lifetime_gross_list = []\n",
    "\n",
    "for gross in lifetime_gross_raw:\n",
    "    gross = money_to_int(gross.text)\n",
    "    if name in lifetime_gross_list:\n",
    "        pass\n",
    "    else:\n",
    "        lifetime_gross_list.append(gross)\n",
    "\n",
    "list(lifetime_gross_list)"
   ]
  },
  {
   "cell_type": "code",
   "execution_count": 41,
   "metadata": {},
   "outputs": [
    {
     "data": {
      "text/plain": [
       "{'Steven Spielberg': 10548456861,\n",
       " 'Russo brothers': 6844248566,\n",
       " 'Peter Jackson': 6546042615,\n",
       " 'Michael Bay': 6443668117,\n",
       " 'James Cameron': 6235731293,\n",
       " 'David Yates': 6020939913,\n",
       " 'Christopher Nolan': 4704255828,\n",
       " 'J. J. Abrams': 4625988452,\n",
       " 'Tim Burton': 4412653899,\n",
       " 'Jon Favreau': 4333849545}"
      ]
     },
     "execution_count": 41,
     "metadata": {},
     "output_type": "execute_result"
    }
   ],
   "source": [
    "director_dict = dict(zip(director_name_list, lifetime_gross_list))\n",
    "director_dict"
   ]
  },
  {
   "cell_type": "code",
   "execution_count": 50,
   "metadata": {},
   "outputs": [],
   "source": [
    "director_df = pd.DataFrame(list(director_dict.items()),columns = ['Name','Lifetime Gross']) "
   ]
  },
  {
   "cell_type": "code",
   "execution_count": 51,
   "metadata": {},
   "outputs": [
    {
     "data": {
      "text/html": [
       "<div>\n",
       "<style scoped>\n",
       "    .dataframe tbody tr th:only-of-type {\n",
       "        vertical-align: middle;\n",
       "    }\n",
       "\n",
       "    .dataframe tbody tr th {\n",
       "        vertical-align: top;\n",
       "    }\n",
       "\n",
       "    .dataframe thead th {\n",
       "        text-align: right;\n",
       "    }\n",
       "</style>\n",
       "<table border=\"1\" class=\"dataframe\">\n",
       "  <thead>\n",
       "    <tr style=\"text-align: right;\">\n",
       "      <th></th>\n",
       "      <th>Name</th>\n",
       "      <th>Lifetime Gross</th>\n",
       "    </tr>\n",
       "  </thead>\n",
       "  <tbody>\n",
       "    <tr>\n",
       "      <th>0</th>\n",
       "      <td>Steven Spielberg</td>\n",
       "      <td>10548456861</td>\n",
       "    </tr>\n",
       "    <tr>\n",
       "      <th>1</th>\n",
       "      <td>Russo brothers</td>\n",
       "      <td>6844248566</td>\n",
       "    </tr>\n",
       "    <tr>\n",
       "      <th>2</th>\n",
       "      <td>Peter Jackson</td>\n",
       "      <td>6546042615</td>\n",
       "    </tr>\n",
       "    <tr>\n",
       "      <th>3</th>\n",
       "      <td>Michael Bay</td>\n",
       "      <td>6443668117</td>\n",
       "    </tr>\n",
       "    <tr>\n",
       "      <th>4</th>\n",
       "      <td>James Cameron</td>\n",
       "      <td>6235731293</td>\n",
       "    </tr>\n",
       "    <tr>\n",
       "      <th>5</th>\n",
       "      <td>David Yates</td>\n",
       "      <td>6020939913</td>\n",
       "    </tr>\n",
       "    <tr>\n",
       "      <th>6</th>\n",
       "      <td>Christopher Nolan</td>\n",
       "      <td>4704255828</td>\n",
       "    </tr>\n",
       "    <tr>\n",
       "      <th>7</th>\n",
       "      <td>J. J. Abrams</td>\n",
       "      <td>4625988452</td>\n",
       "    </tr>\n",
       "    <tr>\n",
       "      <th>8</th>\n",
       "      <td>Tim Burton</td>\n",
       "      <td>4412653899</td>\n",
       "    </tr>\n",
       "    <tr>\n",
       "      <th>9</th>\n",
       "      <td>Jon Favreau</td>\n",
       "      <td>4333849545</td>\n",
       "    </tr>\n",
       "  </tbody>\n",
       "</table>\n",
       "</div>"
      ],
      "text/plain": [
       "                Name  Lifetime Gross\n",
       "0   Steven Spielberg     10548456861\n",
       "1     Russo brothers      6844248566\n",
       "2      Peter Jackson      6546042615\n",
       "3        Michael Bay      6443668117\n",
       "4      James Cameron      6235731293\n",
       "5        David Yates      6020939913\n",
       "6  Christopher Nolan      4704255828\n",
       "7       J. J. Abrams      4625988452\n",
       "8         Tim Burton      4412653899\n",
       "9        Jon Favreau      4333849545"
      ]
     },
     "execution_count": 51,
     "metadata": {},
     "output_type": "execute_result"
    }
   ],
   "source": [
    "director_df"
   ]
  },
  {
   "cell_type": "code",
   "execution_count": 53,
   "metadata": {},
   "outputs": [],
   "source": [
    "# SAVING AS CSV\n",
    "\n",
    "director_df.to_csv('director_df.csv', index=False)"
   ]
  },
  {
   "cell_type": "markdown",
   "metadata": {},
   "source": [
    "## Scrapign top international stars"
   ]
  },
  {
   "cell_type": "code",
   "execution_count": 106,
   "metadata": {},
   "outputs": [],
   "source": [
    "response = requests.get('https://www.the-numbers.com/box-office-star-records/international/lifetime-acting/top-grossing-leading-stars')\n",
    "page = response.text\n",
    "soup = BeautifulSoup(page, \"html5lib\")\n"
   ]
  },
  {
   "cell_type": "code",
   "execution_count": 91,
   "metadata": {},
   "outputs": [],
   "source": [
    "# rank\n",
    "\n",
    "rank = soup.find('td', class_='data').text"
   ]
  },
  {
   "cell_type": "code",
   "execution_count": 87,
   "metadata": {},
   "outputs": [
    {
     "data": {
      "text/plain": [
       "'Robert Downey, Jr.'"
      ]
     },
     "execution_count": 87,
     "metadata": {},
     "output_type": "execute_result"
    }
   ],
   "source": [
    "# name\n",
    "\n",
    "actor_name = soup.find('td', class_='data').next_sibling.next_sibling.text"
   ]
  },
  {
   "cell_type": "code",
   "execution_count": 88,
   "metadata": {},
   "outputs": [],
   "source": [
    "# lifetime int'l gross\n",
    "\n",
    "lifetime_gross = soup.find('td', class_='data').next_sibling.next_sibling.next_sibling.next_sibling.text"
   ]
  },
  {
   "cell_type": "code",
   "execution_count": 89,
   "metadata": {},
   "outputs": [],
   "source": [
    "# number of movies\n",
    "\n",
    "num_films = soup.find('td', class_='data').next_sibling.next_sibling.next_sibling.next_sibling.next_sibling.next_sibling.text"
   ]
  },
  {
   "cell_type": "code",
   "execution_count": 90,
   "metadata": {},
   "outputs": [],
   "source": [
    "# avg box office per movie\n",
    "\n",
    "per_movie = soup.find('td', class_='data').next_sibling.next_sibling.next_sibling.next_sibling.next_sibling.next_sibling.next_sibling.next_sibling.text"
   ]
  },
  {
   "cell_type": "code",
   "execution_count": 117,
   "metadata": {},
   "outputs": [],
   "source": [
    "# pulling table from single page\n",
    "\n",
    "headers = ['rank', 'actor_name', 'lifetime_gross', 'num_films', 'per_movie']\n",
    "actor_data = []\n",
    "\n",
    "for obj in soup.find_all('td', class_='data'):\n",
    "\n",
    "    rank = obj.text\n",
    "    \n",
    "    actor_name = obj.next_sibling.next_sibling.text\n",
    "    \n",
    "    raw_lifetime_gross = obj.next_sibling.next_sibling.next_sibling.next_sibling.text\n",
    "    lifetime_gross = money_to_int(raw_lifetime_gross)\n",
    "    \n",
    "    num_films = obj.next_sibling.next_sibling.next_sibling.next_sibling.next_sibling.next_sibling.text\n",
    "    \n",
    "    raw_per_movie = obj.next_sibling.next_sibling.next_sibling.next_sibling.next_sibling.next_sibling.next_sibling.next_sibling.text\n",
    "    per_movie = money_to_int(raw_per_movie)\n",
    "\n",
    "    actor_dict = dict(zip(headers, [rank,\n",
    "                                    actor_name,\n",
    "                                    lifetime_gross,\n",
    "                                    num_films,\n",
    "                                    per_movie]))\n",
    "\n",
    "    actor_data.append(actor_dict)"
   ]
  },
  {
   "cell_type": "code",
   "execution_count": 122,
   "metadata": {},
   "outputs": [],
   "source": [
    "# Converting to DF adn saving as CSV\n",
    "\n",
    "actor_df = pd.DataFrame(actor_data)\n",
    "\n",
    "actor_df.to_csv('actor_df.csv', index=False)"
   ]
  },
  {
   "cell_type": "code",
   "execution_count": null,
   "metadata": {},
   "outputs": [],
   "source": []
  },
  {
   "cell_type": "code",
   "execution_count": null,
   "metadata": {},
   "outputs": [],
   "source": []
  },
  {
   "cell_type": "code",
   "execution_count": null,
   "metadata": {},
   "outputs": [],
   "source": []
  }
 ],
 "metadata": {
  "kernelspec": {
   "display_name": "Python 3",
   "language": "python",
   "name": "python3"
  },
  "language_info": {
   "codemirror_mode": {
    "name": "ipython",
    "version": 3
   },
   "file_extension": ".py",
   "mimetype": "text/x-python",
   "name": "python",
   "nbconvert_exporter": "python",
   "pygments_lexer": "ipython3",
   "version": "3.8.4"
  }
 },
 "nbformat": 4,
 "nbformat_minor": 4
}
