{
 "cells": [
  {
   "cell_type": "markdown",
   "metadata": {},
   "source": [
    "# Importing and cleaning data"
   ]
  },
  {
   "cell_type": "code",
   "execution_count": 2,
   "metadata": {},
   "outputs": [],
   "source": [
    "import pandas as pd\n",
    "import numpy as np\n",
    "import matplotlib.pyplot as plt\n",
    "import seaborn as sns\n",
    "import datetime"
   ]
  },
  {
   "cell_type": "code",
   "execution_count": 3,
   "metadata": {},
   "outputs": [],
   "source": [
    "df = pd.read_csv('2013_movies.csv', parse_dates=['ReleaseDate'])"
   ]
  },
  {
   "cell_type": "code",
   "execution_count": 4,
   "metadata": {},
   "outputs": [
    {
     "data": {
      "text/html": [
       "<div>\n",
       "<style scoped>\n",
       "    .dataframe tbody tr th:only-of-type {\n",
       "        vertical-align: middle;\n",
       "    }\n",
       "\n",
       "    .dataframe tbody tr th {\n",
       "        vertical-align: top;\n",
       "    }\n",
       "\n",
       "    .dataframe thead th {\n",
       "        text-align: right;\n",
       "    }\n",
       "</style>\n",
       "<table border=\"1\" class=\"dataframe\">\n",
       "  <thead>\n",
       "    <tr style=\"text-align: right;\">\n",
       "      <th></th>\n",
       "      <th>Title</th>\n",
       "      <th>Budget</th>\n",
       "      <th>DomesticTotalGross</th>\n",
       "      <th>Director</th>\n",
       "      <th>Rating</th>\n",
       "      <th>Runtime</th>\n",
       "      <th>ReleaseDate</th>\n",
       "    </tr>\n",
       "  </thead>\n",
       "  <tbody>\n",
       "    <tr>\n",
       "      <th>0</th>\n",
       "      <td>The Hunger Games: Catching Fire</td>\n",
       "      <td>130000000.0</td>\n",
       "      <td>424668047</td>\n",
       "      <td>Francis Lawrence</td>\n",
       "      <td>PG-13</td>\n",
       "      <td>146</td>\n",
       "      <td>2013-11-22</td>\n",
       "    </tr>\n",
       "    <tr>\n",
       "      <th>1</th>\n",
       "      <td>Iron Man 3</td>\n",
       "      <td>200000000.0</td>\n",
       "      <td>409013994</td>\n",
       "      <td>Shane Black</td>\n",
       "      <td>PG-13</td>\n",
       "      <td>129</td>\n",
       "      <td>2013-05-03</td>\n",
       "    </tr>\n",
       "    <tr>\n",
       "      <th>2</th>\n",
       "      <td>Frozen</td>\n",
       "      <td>150000000.0</td>\n",
       "      <td>400738009</td>\n",
       "      <td>Chris BuckJennifer Lee</td>\n",
       "      <td>PG</td>\n",
       "      <td>108</td>\n",
       "      <td>2013-11-22</td>\n",
       "    </tr>\n",
       "    <tr>\n",
       "      <th>3</th>\n",
       "      <td>Despicable Me 2</td>\n",
       "      <td>76000000.0</td>\n",
       "      <td>368061265</td>\n",
       "      <td>Pierre CoffinChris Renaud</td>\n",
       "      <td>PG</td>\n",
       "      <td>98</td>\n",
       "      <td>2013-07-03</td>\n",
       "    </tr>\n",
       "    <tr>\n",
       "      <th>4</th>\n",
       "      <td>Man of Steel</td>\n",
       "      <td>225000000.0</td>\n",
       "      <td>291045518</td>\n",
       "      <td>Zack Snyder</td>\n",
       "      <td>PG-13</td>\n",
       "      <td>143</td>\n",
       "      <td>2013-06-14</td>\n",
       "    </tr>\n",
       "  </tbody>\n",
       "</table>\n",
       "</div>"
      ],
      "text/plain": [
       "                             Title       Budget  DomesticTotalGross  \\\n",
       "0  The Hunger Games: Catching Fire  130000000.0           424668047   \n",
       "1                       Iron Man 3  200000000.0           409013994   \n",
       "2                           Frozen  150000000.0           400738009   \n",
       "3                  Despicable Me 2   76000000.0           368061265   \n",
       "4                     Man of Steel  225000000.0           291045518   \n",
       "\n",
       "                    Director Rating  Runtime ReleaseDate  \n",
       "0           Francis Lawrence  PG-13      146  2013-11-22  \n",
       "1                Shane Black  PG-13      129  2013-05-03  \n",
       "2     Chris BuckJennifer Lee     PG      108  2013-11-22  \n",
       "3  Pierre CoffinChris Renaud     PG       98  2013-07-03  \n",
       "4                Zack Snyder  PG-13      143  2013-06-14  "
      ]
     },
     "execution_count": 4,
     "metadata": {},
     "output_type": "execute_result"
    }
   ],
   "source": [
    "df.head()"
   ]
  },
  {
   "cell_type": "code",
   "execution_count": 5,
   "metadata": {},
   "outputs": [
    {
     "data": {
      "text/html": [
       "<div>\n",
       "<style scoped>\n",
       "    .dataframe tbody tr th:only-of-type {\n",
       "        vertical-align: middle;\n",
       "    }\n",
       "\n",
       "    .dataframe tbody tr th {\n",
       "        vertical-align: top;\n",
       "    }\n",
       "\n",
       "    .dataframe thead th {\n",
       "        text-align: right;\n",
       "    }\n",
       "</style>\n",
       "<table border=\"1\" class=\"dataframe\">\n",
       "  <thead>\n",
       "    <tr style=\"text-align: right;\">\n",
       "      <th></th>\n",
       "      <th>Title</th>\n",
       "      <th>Budget</th>\n",
       "      <th>DomesticTotalGross</th>\n",
       "      <th>Director</th>\n",
       "      <th>Rating</th>\n",
       "      <th>Runtime</th>\n",
       "      <th>ReleaseDate</th>\n",
       "    </tr>\n",
       "  </thead>\n",
       "  <tbody>\n",
       "    <tr>\n",
       "      <th>6</th>\n",
       "      <td>Monsters University</td>\n",
       "      <td>NaN</td>\n",
       "      <td>268492764</td>\n",
       "      <td>Dan Scanlon</td>\n",
       "      <td>G</td>\n",
       "      <td>107</td>\n",
       "      <td>2013-06-21</td>\n",
       "    </tr>\n",
       "    <tr>\n",
       "      <th>7</th>\n",
       "      <td>The Hobbit: The Desolation of Smaug</td>\n",
       "      <td>NaN</td>\n",
       "      <td>258366855</td>\n",
       "      <td>Peter Jackson</td>\n",
       "      <td>PG-13</td>\n",
       "      <td>161</td>\n",
       "      <td>2013-12-13</td>\n",
       "    </tr>\n",
       "    <tr>\n",
       "      <th>25</th>\n",
       "      <td>Cloudy with a Chance of Meatballs 2</td>\n",
       "      <td>78000000.0</td>\n",
       "      <td>119793567</td>\n",
       "      <td>NaN</td>\n",
       "      <td>PG</td>\n",
       "      <td>95</td>\n",
       "      <td>2013-09-27</td>\n",
       "    </tr>\n",
       "    <tr>\n",
       "      <th>66</th>\n",
       "      <td>Tyler Perry's A Madea Christmas</td>\n",
       "      <td>NaN</td>\n",
       "      <td>52543354</td>\n",
       "      <td>Tyler Perry</td>\n",
       "      <td>PG-13</td>\n",
       "      <td>105</td>\n",
       "      <td>2013-12-13</td>\n",
       "    </tr>\n",
       "    <tr>\n",
       "      <th>67</th>\n",
       "      <td>Tyler Perry's Temptation: Confessions of a Mar...</td>\n",
       "      <td>NaN</td>\n",
       "      <td>51975354</td>\n",
       "      <td>Tyler Perry</td>\n",
       "      <td>PG-13</td>\n",
       "      <td>111</td>\n",
       "      <td>2013-03-29</td>\n",
       "    </tr>\n",
       "    <tr>\n",
       "      <th>71</th>\n",
       "      <td>Jurassic Park 3D</td>\n",
       "      <td>10000000.0</td>\n",
       "      <td>45385935</td>\n",
       "      <td>NaN</td>\n",
       "      <td>PG-13</td>\n",
       "      <td>127</td>\n",
       "      <td>2013-04-05</td>\n",
       "    </tr>\n",
       "    <tr>\n",
       "      <th>73</th>\n",
       "      <td>Instructions Not Included</td>\n",
       "      <td>NaN</td>\n",
       "      <td>44467206</td>\n",
       "      <td>NaN</td>\n",
       "      <td>PG-13</td>\n",
       "      <td>115</td>\n",
       "      <td>2013-08-30</td>\n",
       "    </tr>\n",
       "    <tr>\n",
       "      <th>74</th>\n",
       "      <td>Snitch</td>\n",
       "      <td>NaN</td>\n",
       "      <td>42930462</td>\n",
       "      <td>Ric Roman Waugh</td>\n",
       "      <td>PG-13</td>\n",
       "      <td>112</td>\n",
       "      <td>2013-02-22</td>\n",
       "    </tr>\n",
       "    <tr>\n",
       "      <th>78</th>\n",
       "      <td>August: Osage County</td>\n",
       "      <td>NaN</td>\n",
       "      <td>37738810</td>\n",
       "      <td>John Wells</td>\n",
       "      <td>R</td>\n",
       "      <td>130</td>\n",
       "      <td>2013-12-27</td>\n",
       "    </tr>\n",
       "    <tr>\n",
       "      <th>83</th>\n",
       "      <td>Texas Chainsaw 3D</td>\n",
       "      <td>NaN</td>\n",
       "      <td>34341945</td>\n",
       "      <td>John Luessenhop</td>\n",
       "      <td>R</td>\n",
       "      <td>92</td>\n",
       "      <td>2013-01-04</td>\n",
       "    </tr>\n",
       "    <tr>\n",
       "      <th>85</th>\n",
       "      <td>Blue Jasmine</td>\n",
       "      <td>NaN</td>\n",
       "      <td>33405481</td>\n",
       "      <td>Woody Allen</td>\n",
       "      <td>PG-13</td>\n",
       "      <td>98</td>\n",
       "      <td>2013-07-26</td>\n",
       "    </tr>\n",
       "    <tr>\n",
       "      <th>86</th>\n",
       "      <td>Kevin Hart: Let Me Explain</td>\n",
       "      <td>NaN</td>\n",
       "      <td>32244051</td>\n",
       "      <td>NaN</td>\n",
       "      <td>R</td>\n",
       "      <td>75</td>\n",
       "      <td>2013-07-03</td>\n",
       "    </tr>\n",
       "    <tr>\n",
       "      <th>87</th>\n",
       "      <td>Side Effects</td>\n",
       "      <td>NaN</td>\n",
       "      <td>32172757</td>\n",
       "      <td>Steven Soderbergh</td>\n",
       "      <td>R</td>\n",
       "      <td>106</td>\n",
       "      <td>2013-02-08</td>\n",
       "    </tr>\n",
       "  </tbody>\n",
       "</table>\n",
       "</div>"
      ],
      "text/plain": [
       "                                                Title      Budget  \\\n",
       "6                                 Monsters University         NaN   \n",
       "7                 The Hobbit: The Desolation of Smaug         NaN   \n",
       "25                Cloudy with a Chance of Meatballs 2  78000000.0   \n",
       "66                    Tyler Perry's A Madea Christmas         NaN   \n",
       "67  Tyler Perry's Temptation: Confessions of a Mar...         NaN   \n",
       "71                                   Jurassic Park 3D  10000000.0   \n",
       "73                          Instructions Not Included         NaN   \n",
       "74                                             Snitch         NaN   \n",
       "78                               August: Osage County         NaN   \n",
       "83                                  Texas Chainsaw 3D         NaN   \n",
       "85                                       Blue Jasmine         NaN   \n",
       "86                         Kevin Hart: Let Me Explain         NaN   \n",
       "87                                       Side Effects         NaN   \n",
       "\n",
       "    DomesticTotalGross           Director Rating  Runtime ReleaseDate  \n",
       "6            268492764        Dan Scanlon      G      107  2013-06-21  \n",
       "7            258366855      Peter Jackson  PG-13      161  2013-12-13  \n",
       "25           119793567                NaN     PG       95  2013-09-27  \n",
       "66            52543354        Tyler Perry  PG-13      105  2013-12-13  \n",
       "67            51975354        Tyler Perry  PG-13      111  2013-03-29  \n",
       "71            45385935                NaN  PG-13      127  2013-04-05  \n",
       "73            44467206                NaN  PG-13      115  2013-08-30  \n",
       "74            42930462    Ric Roman Waugh  PG-13      112  2013-02-22  \n",
       "78            37738810         John Wells      R      130  2013-12-27  \n",
       "83            34341945    John Luessenhop      R       92  2013-01-04  \n",
       "85            33405481        Woody Allen  PG-13       98  2013-07-26  \n",
       "86            32244051                NaN      R       75  2013-07-03  \n",
       "87            32172757  Steven Soderbergh      R      106  2013-02-08  "
      ]
     },
     "execution_count": 5,
     "metadata": {},
     "output_type": "execute_result"
    }
   ],
   "source": [
    "# mask to show only Nans in df\n",
    "\n",
    "df[df.isnull().any(axis=1)]"
   ]
  },
  {
   "cell_type": "code",
   "execution_count": 6,
   "metadata": {},
   "outputs": [
    {
     "data": {
      "text/plain": [
       "pandas._libs.tslibs.timestamps.Timestamp"
      ]
     },
     "execution_count": 6,
     "metadata": {},
     "output_type": "execute_result"
    }
   ],
   "source": [
    "type(df['ReleaseDate'][0])"
   ]
  },
  {
   "cell_type": "markdown",
   "metadata": {},
   "source": [
    "# Challenge 1"
   ]
  },
  {
   "cell_type": "code",
   "execution_count": 7,
   "metadata": {},
   "outputs": [],
   "source": [
    "dtg = df['DomesticTotalGross']\n",
    "release_date = df['ReleaseDate']"
   ]
  },
  {
   "cell_type": "code",
   "execution_count": 47,
   "metadata": {},
   "outputs": [
    {
     "data": {
      "text/plain": [
       "''"
      ]
     },
     "execution_count": 47,
     "metadata": {},
     "output_type": "execute_result"
    },
    {
     "data": {
      "image/png": "[encoded data removed]",
      "text/plain": [
       "<Figure size 432x288 with 1 Axes>"
      ]
     },
     "metadata": {
      "needs_background": "light"
     },
     "output_type": "display_data"
    }
   ],
   "source": [
    "sns.lineplot(release_date, dtg)\n",
    ";"
   ]
  },
  {
   "cell_type": "markdown",
   "metadata": {},
   "source": [
    "# Challenge 2"
   ]
  },
  {
   "cell_type": "code",
   "execution_count": 9,
   "metadata": {},
   "outputs": [],
   "source": [
    "runtime = df['Runtime']"
   ]
  },
  {
   "cell_type": "code",
   "execution_count": 55,
   "metadata": {},
   "outputs": [
    {
     "data": {
      "image/png": "[encoded data removed]",
      "text/plain": [
       "<Figure size 432x288 with 1 Axes>"
      ]
     },
     "metadata": {
      "needs_background": "light"
     },
     "output_type": "display_data"
    }
   ],
   "source": [
    "sns.regplot(runtime, dtg);"
   ]
  },
  {
   "cell_type": "markdown",
   "metadata": {},
   "source": [
    "# Challenge 3"
   ]
  },
  {
   "cell_type": "code",
   "execution_count": 51,
   "metadata": {},
   "outputs": [
    {
     "data": {
      "text/html": [
       "<div>\n",
       "<style scoped>\n",
       "    .dataframe tbody tr th:only-of-type {\n",
       "        vertical-align: middle;\n",
       "    }\n",
       "\n",
       "    .dataframe tbody tr th {\n",
       "        vertical-align: top;\n",
       "    }\n",
       "\n",
       "    .dataframe thead th {\n",
       "        text-align: right;\n",
       "    }\n",
       "</style>\n",
       "<table border=\"1\" class=\"dataframe\">\n",
       "  <thead>\n",
       "    <tr style=\"text-align: right;\">\n",
       "      <th></th>\n",
       "      <th>Rating</th>\n",
       "      <th>Runtime</th>\n",
       "      <th>DomesticTotalGross</th>\n",
       "    </tr>\n",
       "  </thead>\n",
       "  <tbody>\n",
       "    <tr>\n",
       "      <th>0</th>\n",
       "      <td>G</td>\n",
       "      <td>107</td>\n",
       "      <td>268492764</td>\n",
       "    </tr>\n",
       "    <tr>\n",
       "      <th>1</th>\n",
       "      <td>PG</td>\n",
       "      <td>100</td>\n",
       "      <td>131135716</td>\n",
       "    </tr>\n",
       "    <tr>\n",
       "      <th>2</th>\n",
       "      <td>PG-13</td>\n",
       "      <td>118</td>\n",
       "      <td>111449769</td>\n",
       "    </tr>\n",
       "    <tr>\n",
       "      <th>3</th>\n",
       "      <td>R</td>\n",
       "      <td>111</td>\n",
       "      <td>69892429</td>\n",
       "    </tr>\n",
       "  </tbody>\n",
       "</table>\n",
       "</div>"
      ],
      "text/plain": [
       "  Rating  Runtime  DomesticTotalGross\n",
       "0      G      107           268492764\n",
       "1     PG      100           131135716\n",
       "2  PG-13      118           111449769\n",
       "3      R      111            69892429"
      ]
     },
     "execution_count": 51,
     "metadata": {},
     "output_type": "execute_result"
    }
   ],
   "source": [
    "# surpress scientific notation\n",
    "pd.set_option('display.float_format', lambda x: '%.0f' % x)\n",
    "\n",
    "(df.groupby('Rating')[['Runtime', 'DomesticTotalGross']]\n",
    " .mean()\n",
    " .reset_index())"
   ]
  },
  {
   "cell_type": "markdown",
   "metadata": {},
   "source": [
    "# Challenge 4"
   ]
  },
  {
   "cell_type": "code",
   "execution_count": 82,
   "metadata": {},
   "outputs": [
    {
     "data": {
      "image/png": "[encoded data removed]",
      "text/plain": [
       "<Figure size 864x216 with 4 Axes>"
      ]
     },
     "metadata": {
      "needs_background": "light"
     },
     "output_type": "display_data"
    }
   ],
   "source": [
    "grid = sns.FacetGrid(df.sort_values(by='ReleaseDate'), col=\"Rating\")\n",
    "grid.map(plt.plot, 'ReleaseDate', 'DomesticTotalGross');"
   ]
  },
  {
   "cell_type": "markdown",
   "metadata": {},
   "source": [
    "# Challenge 5"
   ]
  },
  {
   "cell_type": "code",
   "execution_count": 94,
   "metadata": {},
   "outputs": [
    {
     "data": {
      "text/html": [
       "<div>\n",
       "<style scoped>\n",
       "    .dataframe tbody tr th:only-of-type {\n",
       "        vertical-align: middle;\n",
       "    }\n",
       "\n",
       "    .dataframe tbody tr th {\n",
       "        vertical-align: top;\n",
       "    }\n",
       "\n",
       "    .dataframe thead th {\n",
       "        text-align: right;\n",
       "    }\n",
       "</style>\n",
       "<table border=\"1\" class=\"dataframe\">\n",
       "  <thead>\n",
       "    <tr style=\"text-align: right;\">\n",
       "      <th></th>\n",
       "      <th>Director</th>\n",
       "      <th>DomesticTotalGross</th>\n",
       "    </tr>\n",
       "  </thead>\n",
       "  <tbody>\n",
       "    <tr>\n",
       "      <th>0</th>\n",
       "      <td>Francis Lawrence</td>\n",
       "      <td>424668047</td>\n",
       "    </tr>\n",
       "  </tbody>\n",
       "</table>\n",
       "</div>"
      ],
      "text/plain": [
       "           Director  DomesticTotalGross\n",
       "0  Francis Lawrence           424668047"
      ]
     },
     "execution_count": 94,
     "metadata": {},
     "output_type": "execute_result"
    }
   ],
   "source": [
    "(df.groupby('Director')[['DomesticTotalGross']]\n",
    " .mean()\n",
    " .sort_values(by='DomesticTotalGross', ascending=False)\n",
    " .reset_index()\n",
    " .head(1))"
   ]
  },
  {
   "cell_type": "markdown",
   "metadata": {},
   "source": [
    "# Challenge 6"
   ]
  },
  {
   "cell_type": "code",
   "execution_count": null,
   "metadata": {},
   "outputs": [],
   "source": []
  }
 ],
 "metadata": {
  "kernelspec": {
   "display_name": "Python 3",
   "language": "python",
   "name": "python3"
  },
  "language_info": {
   "codemirror_mode": {
    "name": "ipython",
    "version": 3
   },
   "file_extension": ".py",
   "mimetype": "text/x-python",
   "name": "python",
   "nbconvert_exporter": "python",
   "pygments_lexer": "ipython3",
   "version": "3.7.7"
  }
 },
 "nbformat": 4,
 "nbformat_minor": 4
}
